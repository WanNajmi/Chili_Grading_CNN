{
 "cells": [
  {
   "cell_type": "code",
   "execution_count": 1,
   "metadata": {},
   "outputs": [],
   "source": [
    "from tensorflow.keras.preprocessing.image import ImageDataGenerator\n",
    "from tensorflow.keras.preprocessing import image\n",
    "from tensorflow import keras\n",
    "from tensorflow.keras import models\n",
    "from tensorflow.keras import preprocessing\n",
    "from tensorflow.keras.preprocessing import image_dataset_from_directory\n",
    "\n",
    "from tensorflow.keras.optimizers import Adam\n",
    "from tensorflow.keras.layers import Dense, Flatten, Conv2D, MaxPool2D, Activation,BatchNormalization, Dropout\n",
    "from tensorflow.keras import Sequential\n",
    "from keras.optimizers import *\n",
    "\"\"\n",
    "\n",
    "import tensorflow as tf\n",
    "import numpy as np\n",
    "import pandas as pd\n",
    "import os\n",
    "import PIL\n",
    "import matplotlib.pyplot as plt\n",
    "\n",
    "import cv2"
   ]
  },
  {
   "cell_type": "code",
   "execution_count": 2,
   "metadata": {},
   "outputs": [
    {
     "name": "stdout",
     "output_type": "stream",
     "text": [
      "Found 426 files belonging to 6 classes.\n",
      "Using 341 files for training.\n"
     ]
    }
   ],
   "source": [
    "#load train images\n",
    "img_size=160\n",
    "train_dataset = tf.keras.utils.image_dataset_from_directory('C:/Users/User/Documents/UPM/Semester 3/Category/basedata',\n",
    "                                                            validation_split=0.2,\n",
    "                                                            batch_size = 32,\n",
    "                                                            label_mode = 'categorical',\n",
    "                                                            subset='training',\n",
    "                                                            seed=123,\n",
    "                                                            image_size=(img_size,img_size),\n",
    "                                                            shuffle=True\n",
    "                                                           )\n",
    "\n",
    "\n",
    "\n"
   ]
  },
  {
   "cell_type": "code",
   "execution_count": 3,
   "metadata": {},
   "outputs": [
    {
     "name": "stdout",
     "output_type": "stream",
     "text": [
      "Found 426 files belonging to 6 classes.\n",
      "Using 85 files for validation.\n"
     ]
    }
   ],
   "source": [
    "#load test images\n",
    "img_size=160\n",
    "test_dataset = tf.keras.utils.image_dataset_from_directory('C:/Users/User/Desktop/Category/basedata/',\n",
    "                                                           validation_split=0.2,\n",
    "                                                           batch_size = 32,\n",
    "                                                           label_mode = 'categorical',\n",
    "                                                           subset='validation',\n",
    "                                                           seed=123,\n",
    "                                                           image_size=(img_size,img_size),\n",
    "                                                           shuffle=True\n",
    "                                                          )"
   ]
  },
  {
   "cell_type": "code",
   "execution_count": 4,
   "metadata": {},
   "outputs": [],
   "source": [
    "normalization_layer = tf.keras.layers.Rescaling(1./255)"
   ]
  },
  {
   "cell_type": "code",
   "execution_count": 5,
   "metadata": {},
   "outputs": [
    {
     "name": "stdout",
     "output_type": "stream",
     "text": [
      "Model: \"sequential\"\n",
      "_________________________________________________________________\n",
      " Layer (type)                Output Shape              Param #   \n",
      "=================================================================\n",
      " conv2d (Conv2D)             (None, 150, 150, 64)      23296     \n",
      "                                                                 \n",
      " max_pooling2d (MaxPooling2D  (None, 75, 75, 64)       0         \n",
      " )                                                               \n",
      "                                                                 \n",
      " batch_normalization (BatchN  (None, 75, 75, 64)       256       \n",
      " ormalization)                                                   \n",
      "                                                                 \n",
      " conv2d_1 (Conv2D)           (None, 65, 65, 128)       991360    \n",
      "                                                                 \n",
      " max_pooling2d_1 (MaxPooling  (None, 32, 32, 128)      0         \n",
      " 2D)                                                             \n",
      "                                                                 \n",
      " batch_normalization_1 (Batc  (None, 32, 32, 128)      512       \n",
      " hNormalization)                                                 \n",
      "                                                                 \n",
      " conv2d_2 (Conv2D)           (None, 22, 22, 256)       3965184   \n",
      "                                                                 \n",
      " max_pooling2d_2 (MaxPooling  (None, 11, 11, 256)      0         \n",
      " 2D)                                                             \n",
      "                                                                 \n",
      " batch_normalization_2 (Batc  (None, 11, 11, 256)      1024      \n",
      " hNormalization)                                                 \n",
      "                                                                 \n",
      " global_max_pooling2d (Globa  (None, 256)              0         \n",
      " lMaxPooling2D)                                                  \n",
      "                                                                 \n",
      " flatten (Flatten)           (None, 256)               0         \n",
      "                                                                 \n",
      " dense (Dense)               (None, 256)               65792     \n",
      "                                                                 \n",
      " batch_normalization_3 (Batc  (None, 256)              1024      \n",
      " hNormalization)                                                 \n",
      "                                                                 \n",
      " dense_1 (Dense)             (None, 6)                 1542      \n",
      "                                                                 \n",
      "=================================================================\n",
      "Total params: 5,049,990\n",
      "Trainable params: 5,048,582\n",
      "Non-trainable params: 1,408\n",
      "_________________________________________________________________\n"
     ]
    }
   ],
   "source": [
    "img_size=160\n",
    "model = tf.keras.models.Sequential()\n",
    "\n",
    "# Input layer\n",
    "# Can be omitted, you can specify the input_shape in other layers\n",
    "model.add(tf.keras.layers.InputLayer(input_shape=(img_size,img_size,3)))\n",
    "\n",
    "# 1st 2D Convolution layer\n",
    "model.add(tf.keras.layers.Conv2D(64, kernel_size=(11,11), activation='relu'))\n",
    "# Max Pool layer \n",
    "# It downsmaples the input representetion within the pool_size size\n",
    "model.add(tf.keras.layers.MaxPool2D())\n",
    "# Normalization layer\n",
    "# The layer normalizes its output using the mean and standard deviation of the current batch of inputs.\n",
    "model.add(tf.keras.layers.BatchNormalization())\n",
    "\n",
    "\n",
    "# 2nd 2D Convolution layer\n",
    "model.add(tf.keras.layers.Conv2D(128, kernel_size=(11,11),activation='relu'))\n",
    "# Max Pool layer \n",
    "model.add(tf.keras.layers.MaxPool2D())\n",
    "# Normalization layer\n",
    "model.add(tf.keras.layers.BatchNormalization())\n",
    "\n",
    "# 1st fully convolutional layer \n",
    "model.add(tf.keras.layers.Conv2D(256, kernel_size=(11,11),activation='relu'))\n",
    "# Max Pool layer \n",
    "model.add(tf.keras.layers.MaxPool2D())\n",
    "# Normalization layer\n",
    "model.add(tf.keras.layers.BatchNormalization())\n",
    "# Global Max Pool layer\n",
    "model.add(tf.keras.layers.GlobalMaxPool2D())\n",
    "\n",
    "\n",
    "# Dense Layers after flattening the data\n",
    "model.add(tf.keras.layers.Flatten())\n",
    "model.add(tf.keras.layers.Dense(256, activation='relu'))\n",
    "\n",
    "# Normalization layer\n",
    "model.add(tf.keras.layers.BatchNormalization())\n",
    "\n",
    "#Add Output Layer\n",
    "model.add(tf.keras.layers.Dense(6, activation='softmax')) # = 12 predicted classes\n",
    "\n",
    "model.compile(optimizer='adam', loss='categorical_crossentropy', metrics=['accuracy'])\n",
    "\n",
    "model.summary()"
   ]
  },
  {
   "cell_type": "code",
   "execution_count": 6,
   "metadata": {},
   "outputs": [
    {
     "name": "stdout",
     "output_type": "stream",
     "text": [
      "Epoch 1/270\n",
      "11/11 [==============================] - 18s 1s/step - loss: 1.5239 - accuracy: 0.4194 - val_loss: 348.5487 - val_accuracy: 0.1412\n",
      "Epoch 2/270\n",
      "11/11 [==============================] - 2s 196ms/step - loss: 0.8362 - accuracy: 0.7009 - val_loss: 233.7131 - val_accuracy: 0.1412\n",
      "Epoch 3/270\n",
      "11/11 [==============================] - 2s 200ms/step - loss: 0.6112 - accuracy: 0.7801 - val_loss: 147.4809 - val_accuracy: 0.1412\n",
      "Epoch 4/270\n",
      "11/11 [==============================] - 3s 222ms/step - loss: 0.4955 - accuracy: 0.7918 - val_loss: 87.8830 - val_accuracy: 0.1412\n",
      "Epoch 5/270\n",
      "11/11 [==============================] - 3s 216ms/step - loss: 0.4050 - accuracy: 0.8622 - val_loss: 78.0494 - val_accuracy: 0.1412\n",
      "Epoch 6/270\n",
      "11/11 [==============================] - 3s 234ms/step - loss: 0.3383 - accuracy: 0.8768 - val_loss: 55.7255 - val_accuracy: 0.1412\n",
      "Epoch 7/270\n",
      "11/11 [==============================] - 2s 194ms/step - loss: 0.2377 - accuracy: 0.9413 - val_loss: 43.5684 - val_accuracy: 0.1412\n",
      "Epoch 8/270\n",
      "11/11 [==============================] - 2s 202ms/step - loss: 0.1820 - accuracy: 0.9619 - val_loss: 26.7055 - val_accuracy: 0.1412\n",
      "Epoch 9/270\n",
      "11/11 [==============================] - 3s 217ms/step - loss: 0.1671 - accuracy: 0.9531 - val_loss: 39.1486 - val_accuracy: 0.1412\n",
      "Epoch 10/270\n",
      "11/11 [==============================] - 3s 215ms/step - loss: 0.1266 - accuracy: 0.9765 - val_loss: 30.3327 - val_accuracy: 0.1412\n",
      "Epoch 11/270\n",
      "11/11 [==============================] - 3s 236ms/step - loss: 0.1021 - accuracy: 0.9853 - val_loss: 23.2184 - val_accuracy: 0.1412\n",
      "Epoch 12/270\n",
      "11/11 [==============================] - 2s 197ms/step - loss: 0.0643 - accuracy: 0.9941 - val_loss: 18.2847 - val_accuracy: 0.1412\n",
      "Epoch 13/270\n",
      "11/11 [==============================] - 2s 202ms/step - loss: 0.0714 - accuracy: 0.9853 - val_loss: 13.2132 - val_accuracy: 0.1412\n",
      "Epoch 14/270\n",
      "11/11 [==============================] - 2s 201ms/step - loss: 0.0894 - accuracy: 0.9824 - val_loss: 17.5396 - val_accuracy: 0.1412\n",
      "Epoch 15/270\n",
      "11/11 [==============================] - 2s 206ms/step - loss: 0.0815 - accuracy: 0.9795 - val_loss: 11.0068 - val_accuracy: 0.1412\n",
      "Epoch 16/270\n",
      "11/11 [==============================] - 2s 209ms/step - loss: 0.1321 - accuracy: 0.9589 - val_loss: 6.8203 - val_accuracy: 0.2824\n",
      "Epoch 17/270\n",
      "11/11 [==============================] - 3s 216ms/step - loss: 0.1438 - accuracy: 0.9384 - val_loss: 12.4850 - val_accuracy: 0.1412\n",
      "Epoch 18/270\n",
      "11/11 [==============================] - 3s 221ms/step - loss: 0.1268 - accuracy: 0.9677 - val_loss: 8.7264 - val_accuracy: 0.1529\n",
      "Epoch 19/270\n",
      "11/11 [==============================] - 3s 220ms/step - loss: 0.0991 - accuracy: 0.9765 - val_loss: 6.7128 - val_accuracy: 0.2235\n",
      "Epoch 20/270\n",
      "11/11 [==============================] - 2s 209ms/step - loss: 0.0676 - accuracy: 0.9795 - val_loss: 6.9774 - val_accuracy: 0.1765\n",
      "Epoch 21/270\n",
      "11/11 [==============================] - 3s 216ms/step - loss: 0.0327 - accuracy: 1.0000 - val_loss: 6.9402 - val_accuracy: 0.1882\n",
      "Epoch 22/270\n",
      "11/11 [==============================] - 2s 205ms/step - loss: 0.0190 - accuracy: 1.0000 - val_loss: 4.5653 - val_accuracy: 0.2706\n",
      "Epoch 23/270\n",
      "11/11 [==============================] - 2s 197ms/step - loss: 0.0193 - accuracy: 0.9971 - val_loss: 3.2497 - val_accuracy: 0.4235\n",
      "Epoch 24/270\n",
      "11/11 [==============================] - 2s 194ms/step - loss: 0.0181 - accuracy: 0.9971 - val_loss: 3.8782 - val_accuracy: 0.4000\n",
      "Epoch 25/270\n",
      "11/11 [==============================] - 2s 195ms/step - loss: 0.0376 - accuracy: 0.9883 - val_loss: 2.6096 - val_accuracy: 0.5176\n",
      "Epoch 26/270\n",
      "11/11 [==============================] - 2s 191ms/step - loss: 0.0350 - accuracy: 0.9883 - val_loss: 1.5080 - val_accuracy: 0.6353\n",
      "Epoch 27/270\n",
      "11/11 [==============================] - 2s 194ms/step - loss: 0.0553 - accuracy: 0.9795 - val_loss: 1.7252 - val_accuracy: 0.5647\n",
      "Epoch 28/270\n",
      "11/11 [==============================] - 2s 194ms/step - loss: 0.0834 - accuracy: 0.9677 - val_loss: 1.4960 - val_accuracy: 0.6824\n",
      "Epoch 29/270\n",
      "11/11 [==============================] - 2s 193ms/step - loss: 0.0744 - accuracy: 0.9765 - val_loss: 6.2819 - val_accuracy: 0.2353\n",
      "Epoch 30/270\n",
      "11/11 [==============================] - 2s 195ms/step - loss: 0.0853 - accuracy: 0.9648 - val_loss: 6.4415 - val_accuracy: 0.2588\n",
      "Epoch 31/270\n",
      "11/11 [==============================] - 2s 196ms/step - loss: 0.0465 - accuracy: 0.9912 - val_loss: 3.7892 - val_accuracy: 0.3176\n",
      "Epoch 32/270\n",
      "11/11 [==============================] - 2s 196ms/step - loss: 0.0288 - accuracy: 0.9883 - val_loss: 2.5414 - val_accuracy: 0.4588\n",
      "Epoch 33/270\n",
      "11/11 [==============================] - 2s 193ms/step - loss: 0.0221 - accuracy: 0.9971 - val_loss: 3.1719 - val_accuracy: 0.4118\n",
      "Epoch 34/270\n",
      "11/11 [==============================] - 2s 200ms/step - loss: 0.0529 - accuracy: 0.9853 - val_loss: 5.3205 - val_accuracy: 0.3059\n",
      "Epoch 35/270\n",
      "11/11 [==============================] - 2s 194ms/step - loss: 0.0315 - accuracy: 0.9971 - val_loss: 4.4240 - val_accuracy: 0.3882\n",
      "Epoch 36/270\n",
      "11/11 [==============================] - 2s 194ms/step - loss: 0.0225 - accuracy: 0.9971 - val_loss: 4.0866 - val_accuracy: 0.4235\n",
      "Epoch 37/270\n",
      "11/11 [==============================] - 2s 194ms/step - loss: 0.0125 - accuracy: 1.0000 - val_loss: 3.1545 - val_accuracy: 0.5294\n",
      "Epoch 38/270\n",
      "11/11 [==============================] - 2s 194ms/step - loss: 0.0079 - accuracy: 1.0000 - val_loss: 1.6457 - val_accuracy: 0.5647\n",
      "Epoch 39/270\n",
      "11/11 [==============================] - 3s 217ms/step - loss: 0.0055 - accuracy: 1.0000 - val_loss: 1.2446 - val_accuracy: 0.6000\n",
      "Epoch 40/270\n",
      "11/11 [==============================] - 3s 206ms/step - loss: 0.0039 - accuracy: 1.0000 - val_loss: 1.5327 - val_accuracy: 0.5765\n",
      "Epoch 41/270\n",
      "11/11 [==============================] - 2s 204ms/step - loss: 0.0028 - accuracy: 1.0000 - val_loss: 1.5060 - val_accuracy: 0.5529\n",
      "Epoch 42/270\n",
      "11/11 [==============================] - 2s 205ms/step - loss: 0.0037 - accuracy: 1.0000 - val_loss: 1.0044 - val_accuracy: 0.7059\n",
      "Epoch 43/270\n",
      "11/11 [==============================] - 2s 213ms/step - loss: 0.0035 - accuracy: 1.0000 - val_loss: 1.0655 - val_accuracy: 0.6353\n",
      "Epoch 44/270\n",
      "11/11 [==============================] - 3s 234ms/step - loss: 0.0043 - accuracy: 1.0000 - val_loss: 1.4858 - val_accuracy: 0.5412\n",
      "Epoch 45/270\n",
      "11/11 [==============================] - 3s 220ms/step - loss: 0.0041 - accuracy: 1.0000 - val_loss: 1.2098 - val_accuracy: 0.6118\n",
      "Epoch 46/270\n",
      "11/11 [==============================] - 2s 207ms/step - loss: 0.0038 - accuracy: 1.0000 - val_loss: 1.2655 - val_accuracy: 0.7176\n",
      "Epoch 47/270\n",
      "11/11 [==============================] - 2s 198ms/step - loss: 0.0023 - accuracy: 1.0000 - val_loss: 1.2086 - val_accuracy: 0.7294\n",
      "Epoch 48/270\n",
      "11/11 [==============================] - 2s 198ms/step - loss: 0.0019 - accuracy: 1.0000 - val_loss: 0.9880 - val_accuracy: 0.7176\n",
      "Epoch 49/270\n",
      "11/11 [==============================] - 2s 200ms/step - loss: 0.0017 - accuracy: 1.0000 - val_loss: 0.9533 - val_accuracy: 0.7059\n",
      "Epoch 50/270\n",
      "11/11 [==============================] - 2s 196ms/step - loss: 0.0017 - accuracy: 1.0000 - val_loss: 0.9779 - val_accuracy: 0.7059\n",
      "Epoch 51/270\n",
      "11/11 [==============================] - 2s 197ms/step - loss: 0.0018 - accuracy: 1.0000 - val_loss: 0.9808 - val_accuracy: 0.7412\n",
      "Epoch 52/270\n",
      "11/11 [==============================] - 2s 200ms/step - loss: 9.0801e-04 - accuracy: 1.0000 - val_loss: 1.0191 - val_accuracy: 0.7529\n",
      "Epoch 53/270\n",
      "11/11 [==============================] - 2s 198ms/step - loss: 0.0015 - accuracy: 1.0000 - val_loss: 1.0746 - val_accuracy: 0.7412\n",
      "Epoch 54/270\n",
      "11/11 [==============================] - 2s 196ms/step - loss: 0.0011 - accuracy: 1.0000 - val_loss: 1.0651 - val_accuracy: 0.7412\n",
      "Epoch 55/270\n",
      "11/11 [==============================] - 2s 198ms/step - loss: 0.0034 - accuracy: 1.0000 - val_loss: 1.1367 - val_accuracy: 0.7176\n",
      "Epoch 56/270\n",
      "11/11 [==============================] - 2s 198ms/step - loss: 0.0012 - accuracy: 1.0000 - val_loss: 1.7729 - val_accuracy: 0.5765\n",
      "Epoch 57/270\n",
      "11/11 [==============================] - 2s 197ms/step - loss: 0.0016 - accuracy: 1.0000 - val_loss: 1.2309 - val_accuracy: 0.7176\n"
     ]
    },
    {
     "name": "stdout",
     "output_type": "stream",
     "text": [
      "Epoch 58/270\n",
      "11/11 [==============================] - 2s 196ms/step - loss: 0.0013 - accuracy: 1.0000 - val_loss: 1.1852 - val_accuracy: 0.7412\n",
      "Epoch 59/270\n",
      "11/11 [==============================] - 2s 199ms/step - loss: 9.1567e-04 - accuracy: 1.0000 - val_loss: 1.1999 - val_accuracy: 0.7412\n",
      "Epoch 60/270\n",
      "11/11 [==============================] - 2s 197ms/step - loss: 0.0013 - accuracy: 1.0000 - val_loss: 1.2121 - val_accuracy: 0.7176\n",
      "Epoch 61/270\n",
      "11/11 [==============================] - 2s 197ms/step - loss: 5.7803e-04 - accuracy: 1.0000 - val_loss: 1.2431 - val_accuracy: 0.7176\n",
      "Epoch 62/270\n",
      "11/11 [==============================] - 2s 198ms/step - loss: 7.5241e-04 - accuracy: 1.0000 - val_loss: 1.2578 - val_accuracy: 0.7176\n",
      "Epoch 63/270\n",
      "11/11 [==============================] - 2s 196ms/step - loss: 7.7485e-04 - accuracy: 1.0000 - val_loss: 1.2633 - val_accuracy: 0.7294\n",
      "Epoch 64/270\n",
      "11/11 [==============================] - 2s 196ms/step - loss: 7.6529e-04 - accuracy: 1.0000 - val_loss: 1.2762 - val_accuracy: 0.7412\n",
      "Epoch 65/270\n",
      "11/11 [==============================] - 2s 196ms/step - loss: 9.4057e-04 - accuracy: 1.0000 - val_loss: 1.3152 - val_accuracy: 0.7412\n",
      "Epoch 66/270\n",
      "11/11 [==============================] - 2s 197ms/step - loss: 6.1637e-04 - accuracy: 1.0000 - val_loss: 1.2927 - val_accuracy: 0.7412\n",
      "Epoch 67/270\n",
      "11/11 [==============================] - 2s 196ms/step - loss: 7.8752e-04 - accuracy: 1.0000 - val_loss: 1.2888 - val_accuracy: 0.7529\n",
      "Epoch 68/270\n",
      "11/11 [==============================] - 2s 197ms/step - loss: 5.3691e-04 - accuracy: 1.0000 - val_loss: 1.2930 - val_accuracy: 0.7294\n",
      "Epoch 69/270\n",
      "11/11 [==============================] - 2s 205ms/step - loss: 0.0011 - accuracy: 1.0000 - val_loss: 1.2968 - val_accuracy: 0.7176\n",
      "Epoch 70/270\n",
      "11/11 [==============================] - 2s 197ms/step - loss: 5.5272e-04 - accuracy: 1.0000 - val_loss: 1.3122 - val_accuracy: 0.7176\n",
      "Epoch 71/270\n",
      "11/11 [==============================] - 2s 197ms/step - loss: 5.3034e-04 - accuracy: 1.0000 - val_loss: 1.3248 - val_accuracy: 0.7176\n",
      "Epoch 72/270\n",
      "11/11 [==============================] - 2s 202ms/step - loss: 7.4954e-04 - accuracy: 1.0000 - val_loss: 1.3356 - val_accuracy: 0.7294\n",
      "Epoch 73/270\n",
      "11/11 [==============================] - 2s 197ms/step - loss: 0.0015 - accuracy: 1.0000 - val_loss: 1.3641 - val_accuracy: 0.7412\n",
      "Epoch 74/270\n",
      "11/11 [==============================] - 2s 196ms/step - loss: 9.5845e-04 - accuracy: 1.0000 - val_loss: 1.3676 - val_accuracy: 0.7059\n",
      "Epoch 75/270\n",
      "11/11 [==============================] - 2s 197ms/step - loss: 6.2026e-04 - accuracy: 1.0000 - val_loss: 1.3685 - val_accuracy: 0.7294\n",
      "Epoch 76/270\n",
      "11/11 [==============================] - 2s 197ms/step - loss: 6.3867e-04 - accuracy: 1.0000 - val_loss: 1.3876 - val_accuracy: 0.7294\n",
      "Epoch 77/270\n",
      "11/11 [==============================] - 2s 196ms/step - loss: 6.1811e-04 - accuracy: 1.0000 - val_loss: 1.3931 - val_accuracy: 0.7176\n",
      "Epoch 78/270\n",
      "11/11 [==============================] - 2s 196ms/step - loss: 0.0012 - accuracy: 1.0000 - val_loss: 1.4007 - val_accuracy: 0.7059\n",
      "Epoch 79/270\n",
      "11/11 [==============================] - 2s 196ms/step - loss: 5.1317e-04 - accuracy: 1.0000 - val_loss: 1.4715 - val_accuracy: 0.7294\n",
      "Epoch 80/270\n",
      "11/11 [==============================] - 2s 197ms/step - loss: 7.3121e-04 - accuracy: 1.0000 - val_loss: 1.4704 - val_accuracy: 0.7294\n",
      "Epoch 81/270\n",
      "11/11 [==============================] - 2s 196ms/step - loss: 0.0012 - accuracy: 1.0000 - val_loss: 1.5088 - val_accuracy: 0.6941\n",
      "Epoch 82/270\n",
      "11/11 [==============================] - 2s 196ms/step - loss: 9.1661e-04 - accuracy: 1.0000 - val_loss: 1.4979 - val_accuracy: 0.7059\n",
      "Epoch 83/270\n",
      "11/11 [==============================] - 2s 196ms/step - loss: 5.0541e-04 - accuracy: 1.0000 - val_loss: 1.4864 - val_accuracy: 0.7176\n",
      "Epoch 84/270\n",
      "11/11 [==============================] - 2s 196ms/step - loss: 4.9295e-04 - accuracy: 1.0000 - val_loss: 1.5051 - val_accuracy: 0.7412\n",
      "Epoch 85/270\n",
      "11/11 [==============================] - 2s 196ms/step - loss: 5.8199e-04 - accuracy: 1.0000 - val_loss: 1.5045 - val_accuracy: 0.7412\n",
      "Epoch 86/270\n",
      "11/11 [==============================] - 2s 196ms/step - loss: 4.1290e-04 - accuracy: 1.0000 - val_loss: 1.4691 - val_accuracy: 0.7412\n",
      "Epoch 87/270\n",
      "11/11 [==============================] - 2s 197ms/step - loss: 3.6729e-04 - accuracy: 1.0000 - val_loss: 1.4554 - val_accuracy: 0.7294\n",
      "Epoch 88/270\n",
      "11/11 [==============================] - 2s 195ms/step - loss: 6.0666e-04 - accuracy: 1.0000 - val_loss: 1.4494 - val_accuracy: 0.7294\n",
      "Epoch 89/270\n",
      "11/11 [==============================] - 2s 196ms/step - loss: 4.1090e-04 - accuracy: 1.0000 - val_loss: 1.4616 - val_accuracy: 0.7176\n",
      "Epoch 90/270\n",
      "11/11 [==============================] - 2s 195ms/step - loss: 3.1726e-04 - accuracy: 1.0000 - val_loss: 1.4652 - val_accuracy: 0.7059\n",
      "Epoch 91/270\n",
      "11/11 [==============================] - 2s 196ms/step - loss: 4.5223e-04 - accuracy: 1.0000 - val_loss: 1.4731 - val_accuracy: 0.7176\n",
      "Epoch 92/270\n",
      "11/11 [==============================] - 2s 196ms/step - loss: 3.2533e-04 - accuracy: 1.0000 - val_loss: 1.4746 - val_accuracy: 0.7294\n",
      "Epoch 93/270\n",
      "11/11 [==============================] - 2s 195ms/step - loss: 4.2119e-04 - accuracy: 1.0000 - val_loss: 1.4817 - val_accuracy: 0.7412\n",
      "Epoch 94/270\n",
      "11/11 [==============================] - 2s 200ms/step - loss: 3.5674e-04 - accuracy: 1.0000 - val_loss: 1.4833 - val_accuracy: 0.7412\n",
      "Epoch 95/270\n",
      "11/11 [==============================] - 2s 196ms/step - loss: 3.3178e-04 - accuracy: 1.0000 - val_loss: 1.4900 - val_accuracy: 0.7529\n",
      "Epoch 96/270\n",
      "11/11 [==============================] - 2s 194ms/step - loss: 4.6459e-04 - accuracy: 1.0000 - val_loss: 1.5034 - val_accuracy: 0.7294\n",
      "Epoch 97/270\n",
      "11/11 [==============================] - 2s 196ms/step - loss: 2.9379e-04 - accuracy: 1.0000 - val_loss: 1.5139 - val_accuracy: 0.7176\n",
      "Epoch 98/270\n",
      "11/11 [==============================] - 2s 195ms/step - loss: 3.4062e-04 - accuracy: 1.0000 - val_loss: 1.5080 - val_accuracy: 0.7176\n",
      "Epoch 99/270\n",
      "11/11 [==============================] - 2s 196ms/step - loss: 6.1177e-04 - accuracy: 1.0000 - val_loss: 1.4860 - val_accuracy: 0.7294\n",
      "Epoch 100/270\n",
      "11/11 [==============================] - 2s 196ms/step - loss: 3.5424e-04 - accuracy: 1.0000 - val_loss: 1.4802 - val_accuracy: 0.7176\n",
      "Epoch 101/270\n",
      "11/11 [==============================] - 2s 196ms/step - loss: 3.5184e-04 - accuracy: 1.0000 - val_loss: 1.4898 - val_accuracy: 0.7294\n",
      "Epoch 102/270\n",
      "11/11 [==============================] - 2s 196ms/step - loss: 3.6356e-04 - accuracy: 1.0000 - val_loss: 1.4963 - val_accuracy: 0.7176\n",
      "Epoch 103/270\n",
      "11/11 [==============================] - 2s 196ms/step - loss: 3.1621e-04 - accuracy: 1.0000 - val_loss: 1.4968 - val_accuracy: 0.7176\n",
      "Epoch 104/270\n",
      "11/11 [==============================] - 2s 197ms/step - loss: 4.0710e-04 - accuracy: 1.0000 - val_loss: 1.4976 - val_accuracy: 0.7412\n",
      "Epoch 105/270\n",
      "11/11 [==============================] - 2s 196ms/step - loss: 3.9854e-04 - accuracy: 1.0000 - val_loss: 1.4966 - val_accuracy: 0.7412\n",
      "Epoch 106/270\n",
      "11/11 [==============================] - 2s 196ms/step - loss: 2.8685e-04 - accuracy: 1.0000 - val_loss: 1.4920 - val_accuracy: 0.7412\n",
      "Epoch 107/270\n",
      "11/11 [==============================] - 2s 197ms/step - loss: 2.0295e-04 - accuracy: 1.0000 - val_loss: 1.4883 - val_accuracy: 0.7412\n",
      "Epoch 108/270\n",
      "11/11 [==============================] - 2s 197ms/step - loss: 2.0121e-04 - accuracy: 1.0000 - val_loss: 1.4890 - val_accuracy: 0.7412\n",
      "Epoch 109/270\n",
      "11/11 [==============================] - 2s 207ms/step - loss: 3.6509e-04 - accuracy: 1.0000 - val_loss: 1.4768 - val_accuracy: 0.7529\n",
      "Epoch 110/270\n",
      "11/11 [==============================] - 2s 197ms/step - loss: 2.0734e-04 - accuracy: 1.0000 - val_loss: 1.4780 - val_accuracy: 0.7529\n",
      "Epoch 111/270\n",
      "11/11 [==============================] - 2s 198ms/step - loss: 2.3324e-04 - accuracy: 1.0000 - val_loss: 1.4908 - val_accuracy: 0.7529\n",
      "Epoch 112/270\n",
      "11/11 [==============================] - 2s 197ms/step - loss: 4.3097e-04 - accuracy: 1.0000 - val_loss: 1.4882 - val_accuracy: 0.7529\n",
      "Epoch 113/270\n",
      "11/11 [==============================] - 2s 197ms/step - loss: 3.5366e-04 - accuracy: 1.0000 - val_loss: 2.1485 - val_accuracy: 0.5294\n",
      "Epoch 114/270\n",
      "11/11 [==============================] - 2s 197ms/step - loss: 4.6590e-04 - accuracy: 1.0000 - val_loss: 1.5346 - val_accuracy: 0.7647\n",
      "Epoch 115/270\n",
      "11/11 [==============================] - 2s 201ms/step - loss: 3.8150e-04 - accuracy: 1.0000 - val_loss: 1.5289 - val_accuracy: 0.7529\n",
      "Epoch 116/270\n",
      "11/11 [==============================] - 2s 200ms/step - loss: 3.5682e-04 - accuracy: 1.0000 - val_loss: 1.5674 - val_accuracy: 0.7176\n",
      "Epoch 117/270\n",
      "11/11 [==============================] - 2s 197ms/step - loss: 3.7938e-04 - accuracy: 1.0000 - val_loss: 1.5569 - val_accuracy: 0.7412\n",
      "Epoch 118/270\n",
      "11/11 [==============================] - 3s 224ms/step - loss: 1.8364e-04 - accuracy: 1.0000 - val_loss: 1.5310 - val_accuracy: 0.7412\n",
      "Epoch 119/270\n",
      "11/11 [==============================] - 2s 202ms/step - loss: 1.8293e-04 - accuracy: 1.0000 - val_loss: 1.5068 - val_accuracy: 0.7529\n",
      "Epoch 120/270\n",
      "11/11 [==============================] - 2s 195ms/step - loss: 2.8915e-04 - accuracy: 1.0000 - val_loss: 1.4939 - val_accuracy: 0.7412\n",
      "Epoch 121/270\n",
      "11/11 [==============================] - 2s 194ms/step - loss: 3.2055e-04 - accuracy: 1.0000 - val_loss: 1.4952 - val_accuracy: 0.7529\n",
      "Epoch 122/270\n",
      "11/11 [==============================] - 2s 204ms/step - loss: 2.4062e-04 - accuracy: 1.0000 - val_loss: 1.4892 - val_accuracy: 0.7412\n",
      "Epoch 123/270\n",
      "11/11 [==============================] - 2s 204ms/step - loss: 2.0119e-04 - accuracy: 1.0000 - val_loss: 1.4884 - val_accuracy: 0.7529\n",
      "Epoch 124/270\n",
      "11/11 [==============================] - 2s 196ms/step - loss: 2.1800e-04 - accuracy: 1.0000 - val_loss: 1.4828 - val_accuracy: 0.7412\n",
      "Epoch 125/270\n",
      "11/11 [==============================] - 2s 206ms/step - loss: 2.1238e-04 - accuracy: 1.0000 - val_loss: 1.4940 - val_accuracy: 0.7412\n",
      "Epoch 126/270\n",
      "11/11 [==============================] - 3s 214ms/step - loss: 3.2527e-04 - accuracy: 1.0000 - val_loss: 1.5265 - val_accuracy: 0.7294\n",
      "Epoch 127/270\n",
      "11/11 [==============================] - 2s 194ms/step - loss: 3.8798e-04 - accuracy: 1.0000 - val_loss: 1.5352 - val_accuracy: 0.7412\n",
      "Epoch 128/270\n",
      "11/11 [==============================] - 2s 194ms/step - loss: 3.0963e-04 - accuracy: 1.0000 - val_loss: 1.5453 - val_accuracy: 0.7412\n",
      "Epoch 129/270\n",
      "11/11 [==============================] - 2s 194ms/step - loss: 2.2528e-04 - accuracy: 1.0000 - val_loss: 1.5682 - val_accuracy: 0.7294\n",
      "Epoch 130/270\n",
      "11/11 [==============================] - 2s 194ms/step - loss: 1.8779e-04 - accuracy: 1.0000 - val_loss: 1.5519 - val_accuracy: 0.7294\n",
      "Epoch 131/270\n",
      "11/11 [==============================] - 2s 194ms/step - loss: 2.3072e-04 - accuracy: 1.0000 - val_loss: 1.5531 - val_accuracy: 0.7412\n",
      "Epoch 132/270\n",
      "11/11 [==============================] - 2s 194ms/step - loss: 2.4615e-04 - accuracy: 1.0000 - val_loss: 1.5910 - val_accuracy: 0.7412\n",
      "Epoch 133/270\n",
      "11/11 [==============================] - 2s 195ms/step - loss: 2.2020e-04 - accuracy: 1.0000 - val_loss: 1.6140 - val_accuracy: 0.7294\n",
      "Epoch 134/270\n",
      "11/11 [==============================] - 2s 195ms/step - loss: 1.8718e-04 - accuracy: 1.0000 - val_loss: 1.6196 - val_accuracy: 0.7412\n",
      "Epoch 135/270\n",
      "11/11 [==============================] - 2s 194ms/step - loss: 2.7710e-04 - accuracy: 1.0000 - val_loss: 1.5998 - val_accuracy: 0.7529\n",
      "Epoch 136/270\n",
      "11/11 [==============================] - 2s 194ms/step - loss: 2.1719e-04 - accuracy: 1.0000 - val_loss: 1.6006 - val_accuracy: 0.7412\n",
      "Epoch 137/270\n",
      "11/11 [==============================] - 2s 194ms/step - loss: 1.5316e-04 - accuracy: 1.0000 - val_loss: 1.5945 - val_accuracy: 0.7412\n",
      "Epoch 138/270\n",
      "11/11 [==============================] - 2s 194ms/step - loss: 2.3817e-04 - accuracy: 1.0000 - val_loss: 1.5895 - val_accuracy: 0.7529\n",
      "Epoch 139/270\n",
      "11/11 [==============================] - 2s 204ms/step - loss: 1.6479e-04 - accuracy: 1.0000 - val_loss: 1.5852 - val_accuracy: 0.7529\n",
      "Epoch 140/270\n",
      "11/11 [==============================] - 3s 226ms/step - loss: 2.4248e-04 - accuracy: 1.0000 - val_loss: 1.5759 - val_accuracy: 0.7529\n",
      "Epoch 141/270\n",
      "11/11 [==============================] - 2s 193ms/step - loss: 2.8223e-04 - accuracy: 1.0000 - val_loss: 1.5748 - val_accuracy: 0.7529\n",
      "Epoch 142/270\n",
      "11/11 [==============================] - 2s 208ms/step - loss: 1.3194e-04 - accuracy: 1.0000 - val_loss: 1.5751 - val_accuracy: 0.7529\n",
      "Epoch 143/270\n",
      "11/11 [==============================] - 3s 218ms/step - loss: 1.5051e-04 - accuracy: 1.0000 - val_loss: 1.5691 - val_accuracy: 0.7529\n",
      "Epoch 144/270\n",
      "11/11 [==============================] - 2s 201ms/step - loss: 2.6452e-04 - accuracy: 1.0000 - val_loss: 1.5730 - val_accuracy: 0.7412\n",
      "Epoch 145/270\n",
      "11/11 [==============================] - 3s 218ms/step - loss: 2.0093e-04 - accuracy: 1.0000 - val_loss: 1.5772 - val_accuracy: 0.7412\n",
      "Epoch 146/270\n",
      "11/11 [==============================] - 3s 216ms/step - loss: 1.3483e-04 - accuracy: 1.0000 - val_loss: 1.5705 - val_accuracy: 0.7529\n",
      "Epoch 147/270\n",
      "11/11 [==============================] - 2s 192ms/step - loss: 2.4023e-04 - accuracy: 1.0000 - val_loss: 1.5598 - val_accuracy: 0.7529\n",
      "Epoch 148/270\n",
      "11/11 [==============================] - 2s 209ms/step - loss: 1.2236e-04 - accuracy: 1.0000 - val_loss: 1.5542 - val_accuracy: 0.7529\n",
      "Epoch 149/270\n",
      "11/11 [==============================] - 3s 234ms/step - loss: 2.1623e-04 - accuracy: 1.0000 - val_loss: 1.5692 - val_accuracy: 0.7412\n",
      "Epoch 150/270\n",
      "11/11 [==============================] - 2s 194ms/step - loss: 1.8774e-04 - accuracy: 1.0000 - val_loss: 1.5772 - val_accuracy: 0.7412\n",
      "Epoch 151/270\n",
      "11/11 [==============================] - 2s 193ms/step - loss: 2.2777e-04 - accuracy: 1.0000 - val_loss: 1.5641 - val_accuracy: 0.7412\n",
      "Epoch 152/270\n",
      "11/11 [==============================] - 2s 193ms/step - loss: 1.5458e-04 - accuracy: 1.0000 - val_loss: 1.5555 - val_accuracy: 0.7529\n",
      "Epoch 153/270\n",
      "11/11 [==============================] - 2s 193ms/step - loss: 1.8614e-04 - accuracy: 1.0000 - val_loss: 1.5602 - val_accuracy: 0.7529\n",
      "Epoch 154/270\n",
      "11/11 [==============================] - 2s 193ms/step - loss: 1.8509e-04 - accuracy: 1.0000 - val_loss: 1.5678 - val_accuracy: 0.7529\n",
      "Epoch 155/270\n",
      "11/11 [==============================] - 2s 193ms/step - loss: 3.0838e-04 - accuracy: 1.0000 - val_loss: 1.6038 - val_accuracy: 0.7412\n",
      "Epoch 156/270\n",
      "11/11 [==============================] - 2s 193ms/step - loss: 1.5098e-04 - accuracy: 1.0000 - val_loss: 1.5979 - val_accuracy: 0.7059\n",
      "Epoch 157/270\n",
      "11/11 [==============================] - 2s 193ms/step - loss: 1.9308e-04 - accuracy: 1.0000 - val_loss: 1.5835 - val_accuracy: 0.7176\n",
      "Epoch 158/270\n",
      "11/11 [==============================] - 2s 194ms/step - loss: 2.1730e-04 - accuracy: 1.0000 - val_loss: 1.5645 - val_accuracy: 0.7294\n",
      "Epoch 159/270\n",
      "11/11 [==============================] - 2s 193ms/step - loss: 1.2086e-04 - accuracy: 1.0000 - val_loss: 1.5627 - val_accuracy: 0.7412\n",
      "Epoch 160/270\n",
      "11/11 [==============================] - 2s 193ms/step - loss: 2.3905e-04 - accuracy: 1.0000 - val_loss: 1.5841 - val_accuracy: 0.7412\n",
      "Epoch 161/270\n",
      "11/11 [==============================] - 2s 194ms/step - loss: 1.6496e-04 - accuracy: 1.0000 - val_loss: 1.5980 - val_accuracy: 0.7412\n",
      "Epoch 162/270\n",
      "11/11 [==============================] - 2s 192ms/step - loss: 1.5690e-04 - accuracy: 1.0000 - val_loss: 1.6256 - val_accuracy: 0.7412\n",
      "Epoch 163/270\n",
      "11/11 [==============================] - 2s 193ms/step - loss: 1.5208e-04 - accuracy: 1.0000 - val_loss: 1.6288 - val_accuracy: 0.7529\n",
      "Epoch 164/270\n",
      "11/11 [==============================] - 2s 195ms/step - loss: 1.6230e-04 - accuracy: 1.0000 - val_loss: 1.6316 - val_accuracy: 0.7412\n",
      "Epoch 165/270\n",
      "11/11 [==============================] - 2s 194ms/step - loss: 1.8935e-04 - accuracy: 1.0000 - val_loss: 1.5924 - val_accuracy: 0.7412\n",
      "Epoch 166/270\n",
      "11/11 [==============================] - 2s 194ms/step - loss: 1.6009e-04 - accuracy: 1.0000 - val_loss: 1.5849 - val_accuracy: 0.7412\n",
      "Epoch 167/270\n",
      "11/11 [==============================] - 2s 194ms/step - loss: 2.5212e-04 - accuracy: 1.0000 - val_loss: 1.6107 - val_accuracy: 0.7529\n",
      "Epoch 168/270\n"
     ]
    },
    {
     "name": "stdout",
     "output_type": "stream",
     "text": [
      "11/11 [==============================] - 2s 194ms/step - loss: 1.9527e-04 - accuracy: 1.0000 - val_loss: 1.5821 - val_accuracy: 0.7412\n",
      "Epoch 169/270\n",
      "11/11 [==============================] - 2s 193ms/step - loss: 2.1308e-04 - accuracy: 1.0000 - val_loss: 1.5857 - val_accuracy: 0.7294\n",
      "Epoch 170/270\n",
      "11/11 [==============================] - 2s 193ms/step - loss: 1.2171e-04 - accuracy: 1.0000 - val_loss: 1.6462 - val_accuracy: 0.7294\n",
      "Epoch 171/270\n",
      "11/11 [==============================] - 2s 193ms/step - loss: 3.4521e-04 - accuracy: 1.0000 - val_loss: 1.6337 - val_accuracy: 0.7294\n",
      "Epoch 172/270\n",
      "11/11 [==============================] - 2s 193ms/step - loss: 2.1075e-04 - accuracy: 1.0000 - val_loss: 1.5888 - val_accuracy: 0.7412\n",
      "Epoch 173/270\n",
      "11/11 [==============================] - 2s 192ms/step - loss: 2.0391e-04 - accuracy: 1.0000 - val_loss: 1.5601 - val_accuracy: 0.7412\n",
      "Epoch 174/270\n",
      "11/11 [==============================] - 2s 192ms/step - loss: 1.4014e-04 - accuracy: 1.0000 - val_loss: 1.5851 - val_accuracy: 0.7294\n",
      "Epoch 175/270\n",
      "11/11 [==============================] - 2s 193ms/step - loss: 1.3012e-04 - accuracy: 1.0000 - val_loss: 1.5855 - val_accuracy: 0.7294\n",
      "Epoch 176/270\n",
      "11/11 [==============================] - 2s 192ms/step - loss: 1.1977e-04 - accuracy: 1.0000 - val_loss: 1.5778 - val_accuracy: 0.7294\n",
      "Epoch 177/270\n",
      "11/11 [==============================] - 2s 193ms/step - loss: 1.2559e-04 - accuracy: 1.0000 - val_loss: 1.5876 - val_accuracy: 0.7294\n",
      "Epoch 178/270\n",
      "11/11 [==============================] - 2s 193ms/step - loss: 1.1704e-04 - accuracy: 1.0000 - val_loss: 1.5686 - val_accuracy: 0.7294\n",
      "Epoch 179/270\n",
      "11/11 [==============================] - 2s 193ms/step - loss: 1.0398e-04 - accuracy: 1.0000 - val_loss: 1.5674 - val_accuracy: 0.7294\n",
      "Epoch 180/270\n",
      "11/11 [==============================] - 2s 194ms/step - loss: 1.2736e-04 - accuracy: 1.0000 - val_loss: 1.5655 - val_accuracy: 0.7412\n",
      "Epoch 181/270\n",
      "11/11 [==============================] - 2s 193ms/step - loss: 1.2534e-04 - accuracy: 1.0000 - val_loss: 1.5732 - val_accuracy: 0.7529\n",
      "Epoch 182/270\n",
      "11/11 [==============================] - 2s 194ms/step - loss: 8.8993e-05 - accuracy: 1.0000 - val_loss: 1.5803 - val_accuracy: 0.7529\n",
      "Epoch 183/270\n",
      "11/11 [==============================] - 2s 192ms/step - loss: 1.3595e-04 - accuracy: 1.0000 - val_loss: 1.5838 - val_accuracy: 0.7529\n",
      "Epoch 184/270\n",
      "11/11 [==============================] - 2s 199ms/step - loss: 1.0780e-04 - accuracy: 1.0000 - val_loss: 1.5859 - val_accuracy: 0.7529\n",
      "Epoch 185/270\n",
      "11/11 [==============================] - 2s 206ms/step - loss: 9.8023e-05 - accuracy: 1.0000 - val_loss: 1.5958 - val_accuracy: 0.7529\n",
      "Epoch 186/270\n",
      "11/11 [==============================] - 2s 196ms/step - loss: 1.3498e-04 - accuracy: 1.0000 - val_loss: 1.5995 - val_accuracy: 0.7529\n",
      "Epoch 187/270\n",
      "11/11 [==============================] - 2s 194ms/step - loss: 7.9055e-05 - accuracy: 1.0000 - val_loss: 1.6001 - val_accuracy: 0.7529\n",
      "Epoch 188/270\n",
      "11/11 [==============================] - 2s 192ms/step - loss: 8.8916e-05 - accuracy: 1.0000 - val_loss: 1.6046 - val_accuracy: 0.7529\n",
      "Epoch 189/270\n",
      "11/11 [==============================] - 2s 191ms/step - loss: 8.2654e-05 - accuracy: 1.0000 - val_loss: 1.6152 - val_accuracy: 0.7529\n",
      "Epoch 190/270\n",
      "11/11 [==============================] - 2s 191ms/step - loss: 1.3057e-04 - accuracy: 1.0000 - val_loss: 1.6250 - val_accuracy: 0.7529\n",
      "Epoch 191/270\n",
      "11/11 [==============================] - 2s 192ms/step - loss: 1.0825e-04 - accuracy: 1.0000 - val_loss: 1.6542 - val_accuracy: 0.7412\n",
      "Epoch 192/270\n",
      "11/11 [==============================] - 2s 190ms/step - loss: 8.9085e-05 - accuracy: 1.0000 - val_loss: 1.6526 - val_accuracy: 0.7412\n",
      "Epoch 193/270\n",
      "11/11 [==============================] - 2s 191ms/step - loss: 2.4677e-04 - accuracy: 1.0000 - val_loss: 1.6554 - val_accuracy: 0.7412\n",
      "Epoch 194/270\n",
      "11/11 [==============================] - 2s 190ms/step - loss: 1.4227e-04 - accuracy: 1.0000 - val_loss: 1.6413 - val_accuracy: 0.7529\n",
      "Epoch 195/270\n",
      "11/11 [==============================] - 2s 191ms/step - loss: 1.1699e-04 - accuracy: 1.0000 - val_loss: 1.6305 - val_accuracy: 0.7529\n",
      "Epoch 196/270\n",
      "11/11 [==============================] - 2s 191ms/step - loss: 2.0493e-04 - accuracy: 1.0000 - val_loss: 1.5982 - val_accuracy: 0.7529\n",
      "Epoch 197/270\n",
      "11/11 [==============================] - 2s 191ms/step - loss: 1.4619e-04 - accuracy: 1.0000 - val_loss: 1.8039 - val_accuracy: 0.6588\n",
      "Epoch 198/270\n",
      "11/11 [==============================] - 2s 191ms/step - loss: 4.4558e-04 - accuracy: 1.0000 - val_loss: 1.8336 - val_accuracy: 0.7059\n",
      "Epoch 199/270\n",
      "11/11 [==============================] - 2s 191ms/step - loss: 1.2964e-04 - accuracy: 1.0000 - val_loss: 1.9410 - val_accuracy: 0.7059\n",
      "Epoch 200/270\n",
      "11/11 [==============================] - 2s 190ms/step - loss: 0.0011 - accuracy: 1.0000 - val_loss: 2.2895 - val_accuracy: 0.7059\n",
      "Epoch 201/270\n",
      "11/11 [==============================] - 2s 190ms/step - loss: 0.0011 - accuracy: 1.0000 - val_loss: 3.1436 - val_accuracy: 0.5765\n",
      "Epoch 202/270\n",
      "11/11 [==============================] - 2s 191ms/step - loss: 6.8610e-04 - accuracy: 1.0000 - val_loss: 3.1011 - val_accuracy: 0.6118\n",
      "Epoch 203/270\n",
      "11/11 [==============================] - 2s 191ms/step - loss: 4.6191e-04 - accuracy: 1.0000 - val_loss: 2.6268 - val_accuracy: 0.6824\n",
      "Epoch 204/270\n",
      "11/11 [==============================] - 2s 191ms/step - loss: 8.0180e-04 - accuracy: 1.0000 - val_loss: 1.6220 - val_accuracy: 0.7176\n",
      "Epoch 205/270\n",
      "11/11 [==============================] - 2s 192ms/step - loss: 5.5613e-04 - accuracy: 1.0000 - val_loss: 1.6133 - val_accuracy: 0.7294\n",
      "Epoch 206/270\n",
      "11/11 [==============================] - 2s 194ms/step - loss: 3.8009e-04 - accuracy: 1.0000 - val_loss: 1.6743 - val_accuracy: 0.6941\n",
      "Epoch 207/270\n",
      "11/11 [==============================] - 2s 192ms/step - loss: 3.0870e-04 - accuracy: 1.0000 - val_loss: 1.6593 - val_accuracy: 0.7059\n",
      "Epoch 208/270\n",
      "11/11 [==============================] - 2s 193ms/step - loss: 0.0045 - accuracy: 0.9971 - val_loss: 6.0085 - val_accuracy: 0.3529\n",
      "Epoch 209/270\n",
      "11/11 [==============================] - 2s 192ms/step - loss: 0.4981 - accuracy: 0.8651 - val_loss: 14.4818 - val_accuracy: 0.2000\n",
      "Epoch 210/270\n",
      "11/11 [==============================] - 2s 191ms/step - loss: 0.9817 - accuracy: 0.6422 - val_loss: 87.1525 - val_accuracy: 0.1176\n",
      "Epoch 211/270\n",
      "11/11 [==============================] - 2s 192ms/step - loss: 0.7597 - accuracy: 0.7097 - val_loss: 58.7775 - val_accuracy: 0.1529\n",
      "Epoch 212/270\n",
      "11/11 [==============================] - 2s 192ms/step - loss: 0.5147 - accuracy: 0.7918 - val_loss: 86.5868 - val_accuracy: 0.1412\n",
      "Epoch 213/270\n",
      "11/11 [==============================] - 2s 192ms/step - loss: 0.4099 - accuracy: 0.8387 - val_loss: 48.6094 - val_accuracy: 0.1412\n",
      "Epoch 214/270\n",
      "11/11 [==============================] - 2s 192ms/step - loss: 0.3321 - accuracy: 0.8680 - val_loss: 47.2944 - val_accuracy: 0.1412\n",
      "Epoch 215/270\n",
      "11/11 [==============================] - 2s 192ms/step - loss: 0.2033 - accuracy: 0.9413 - val_loss: 35.3559 - val_accuracy: 0.1412\n",
      "Epoch 216/270\n",
      "11/11 [==============================] - 2s 192ms/step - loss: 0.1374 - accuracy: 0.9560 - val_loss: 28.9778 - val_accuracy: 0.1412\n",
      "Epoch 217/270\n",
      "11/11 [==============================] - 2s 191ms/step - loss: 0.1014 - accuracy: 0.9765 - val_loss: 21.5767 - val_accuracy: 0.1412\n",
      "Epoch 218/270\n",
      "11/11 [==============================] - 2s 191ms/step - loss: 0.0673 - accuracy: 0.9824 - val_loss: 11.9584 - val_accuracy: 0.1882\n",
      "Epoch 219/270\n",
      "11/11 [==============================] - 2s 192ms/step - loss: 0.1304 - accuracy: 0.9501 - val_loss: 8.8227 - val_accuracy: 0.3294\n",
      "Epoch 220/270\n",
      "11/11 [==============================] - 2s 192ms/step - loss: 0.1042 - accuracy: 0.9501 - val_loss: 13.0389 - val_accuracy: 0.1412\n",
      "Epoch 221/270\n",
      "11/11 [==============================] - 2s 192ms/step - loss: 0.1100 - accuracy: 0.9619 - val_loss: 6.9084 - val_accuracy: 0.2588\n",
      "Epoch 222/270\n",
      "11/11 [==============================] - 2s 191ms/step - loss: 0.1229 - accuracy: 0.9531 - val_loss: 9.2984 - val_accuracy: 0.2588\n",
      "Epoch 223/270\n",
      "11/11 [==============================] - 2s 192ms/step - loss: 0.1210 - accuracy: 0.9795 - val_loss: 11.2984 - val_accuracy: 0.2118\n",
      "Epoch 224/270\n",
      "11/11 [==============================] - 2s 191ms/step - loss: 0.0441 - accuracy: 0.9853 - val_loss: 12.0122 - val_accuracy: 0.2118\n",
      "Epoch 225/270\n",
      "11/11 [==============================] - 2s 191ms/step - loss: 0.0227 - accuracy: 0.9971 - val_loss: 6.1538 - val_accuracy: 0.3529\n",
      "Epoch 226/270\n",
      "11/11 [==============================] - 2s 192ms/step - loss: 0.0176 - accuracy: 1.0000 - val_loss: 2.4268 - val_accuracy: 0.5059\n",
      "Epoch 227/270\n",
      "11/11 [==============================] - 2s 192ms/step - loss: 0.0168 - accuracy: 1.0000 - val_loss: 1.8856 - val_accuracy: 0.5647\n",
      "Epoch 228/270\n",
      "11/11 [==============================] - 2s 191ms/step - loss: 0.0096 - accuracy: 1.0000 - val_loss: 1.8328 - val_accuracy: 0.5647\n",
      "Epoch 229/270\n",
      "11/11 [==============================] - 2s 192ms/step - loss: 0.0050 - accuracy: 1.0000 - val_loss: 1.6967 - val_accuracy: 0.6118\n",
      "Epoch 230/270\n",
      "11/11 [==============================] - 2s 192ms/step - loss: 0.0051 - accuracy: 1.0000 - val_loss: 1.5321 - val_accuracy: 0.6118\n",
      "Epoch 231/270\n",
      "11/11 [==============================] - 2s 192ms/step - loss: 0.0054 - accuracy: 1.0000 - val_loss: 1.4549 - val_accuracy: 0.6353\n",
      "Epoch 232/270\n",
      "11/11 [==============================] - 2s 191ms/step - loss: 0.0064 - accuracy: 1.0000 - val_loss: 1.6213 - val_accuracy: 0.6118\n",
      "Epoch 233/270\n",
      "11/11 [==============================] - 2s 191ms/step - loss: 0.0034 - accuracy: 1.0000 - val_loss: 1.4450 - val_accuracy: 0.6353\n",
      "Epoch 234/270\n",
      "11/11 [==============================] - 2s 192ms/step - loss: 0.0029 - accuracy: 1.0000 - val_loss: 1.3563 - val_accuracy: 0.6588\n",
      "Epoch 235/270\n",
      "11/11 [==============================] - 2s 191ms/step - loss: 0.0036 - accuracy: 1.0000 - val_loss: 1.2760 - val_accuracy: 0.6471\n",
      "Epoch 236/270\n",
      "11/11 [==============================] - 2s 191ms/step - loss: 0.0023 - accuracy: 1.0000 - val_loss: 1.2213 - val_accuracy: 0.6588\n",
      "Epoch 237/270\n",
      "11/11 [==============================] - 2s 192ms/step - loss: 0.0042 - accuracy: 1.0000 - val_loss: 1.1332 - val_accuracy: 0.6706\n",
      "Epoch 238/270\n",
      "11/11 [==============================] - 2s 192ms/step - loss: 0.0031 - accuracy: 1.0000 - val_loss: 1.1522 - val_accuracy: 0.7294\n",
      "Epoch 239/270\n",
      "11/11 [==============================] - 2s 190ms/step - loss: 0.0021 - accuracy: 1.0000 - val_loss: 1.1448 - val_accuracy: 0.7412\n",
      "Epoch 240/270\n",
      "11/11 [==============================] - 2s 191ms/step - loss: 0.0033 - accuracy: 1.0000 - val_loss: 1.1925 - val_accuracy: 0.7412\n",
      "Epoch 241/270\n",
      "11/11 [==============================] - 2s 191ms/step - loss: 0.0019 - accuracy: 1.0000 - val_loss: 1.2696 - val_accuracy: 0.7294\n",
      "Epoch 242/270\n",
      "11/11 [==============================] - 2s 190ms/step - loss: 0.0013 - accuracy: 1.0000 - val_loss: 1.2515 - val_accuracy: 0.7412\n",
      "Epoch 243/270\n",
      "11/11 [==============================] - 2s 192ms/step - loss: 0.0011 - accuracy: 1.0000 - val_loss: 1.2377 - val_accuracy: 0.7412\n",
      "Epoch 244/270\n",
      "11/11 [==============================] - 2s 190ms/step - loss: 0.0017 - accuracy: 1.0000 - val_loss: 1.2135 - val_accuracy: 0.7529\n",
      "Epoch 245/270\n",
      "11/11 [==============================] - 2s 191ms/step - loss: 0.0011 - accuracy: 1.0000 - val_loss: 1.1856 - val_accuracy: 0.7647\n",
      "Epoch 246/270\n",
      "11/11 [==============================] - 2s 191ms/step - loss: 0.0011 - accuracy: 1.0000 - val_loss: 1.1512 - val_accuracy: 0.7529\n",
      "Epoch 247/270\n",
      "11/11 [==============================] - 2s 191ms/step - loss: 0.0010 - accuracy: 1.0000 - val_loss: 1.1326 - val_accuracy: 0.7412\n",
      "Epoch 248/270\n",
      "11/11 [==============================] - 2s 190ms/step - loss: 0.0013 - accuracy: 1.0000 - val_loss: 1.1312 - val_accuracy: 0.7294\n",
      "Epoch 249/270\n",
      "11/11 [==============================] - 2s 190ms/step - loss: 0.0011 - accuracy: 1.0000 - val_loss: 1.1210 - val_accuracy: 0.7294\n",
      "Epoch 250/270\n",
      "11/11 [==============================] - 2s 191ms/step - loss: 0.0023 - accuracy: 1.0000 - val_loss: 1.1226 - val_accuracy: 0.7176\n",
      "Epoch 251/270\n",
      "11/11 [==============================] - 2s 191ms/step - loss: 0.0018 - accuracy: 1.0000 - val_loss: 1.1647 - val_accuracy: 0.7176\n",
      "Epoch 252/270\n",
      "11/11 [==============================] - 2s 207ms/step - loss: 0.0015 - accuracy: 1.0000 - val_loss: 1.1386 - val_accuracy: 0.7412\n",
      "Epoch 253/270\n",
      "11/11 [==============================] - 2s 191ms/step - loss: 0.0013 - accuracy: 1.0000 - val_loss: 1.1264 - val_accuracy: 0.7294\n",
      "Epoch 254/270\n",
      "11/11 [==============================] - 2s 199ms/step - loss: 0.0016 - accuracy: 1.0000 - val_loss: 1.1242 - val_accuracy: 0.7294\n",
      "Epoch 255/270\n",
      "11/11 [==============================] - 2s 194ms/step - loss: 7.9291e-04 - accuracy: 1.0000 - val_loss: 1.1742 - val_accuracy: 0.7176\n",
      "Epoch 256/270\n",
      "11/11 [==============================] - 2s 192ms/step - loss: 0.0014 - accuracy: 1.0000 - val_loss: 1.1641 - val_accuracy: 0.7176\n",
      "Epoch 257/270\n",
      "11/11 [==============================] - 2s 192ms/step - loss: 0.0013 - accuracy: 1.0000 - val_loss: 1.1819 - val_accuracy: 0.7412\n",
      "Epoch 258/270\n",
      "11/11 [==============================] - 2s 193ms/step - loss: 0.0012 - accuracy: 1.0000 - val_loss: 1.2455 - val_accuracy: 0.7412\n",
      "Epoch 259/270\n",
      "11/11 [==============================] - 2s 191ms/step - loss: 6.7930e-04 - accuracy: 1.0000 - val_loss: 1.2308 - val_accuracy: 0.7529\n",
      "Epoch 260/270\n",
      "11/11 [==============================] - 2s 191ms/step - loss: 6.6486e-04 - accuracy: 1.0000 - val_loss: 1.2089 - val_accuracy: 0.7412\n",
      "Epoch 261/270\n",
      "11/11 [==============================] - 2s 191ms/step - loss: 7.9794e-04 - accuracy: 1.0000 - val_loss: 1.1927 - val_accuracy: 0.7294\n",
      "Epoch 262/270\n",
      "11/11 [==============================] - 2s 191ms/step - loss: 6.9448e-04 - accuracy: 1.0000 - val_loss: 1.1949 - val_accuracy: 0.7294\n",
      "Epoch 263/270\n",
      "11/11 [==============================] - 2s 190ms/step - loss: 6.4547e-04 - accuracy: 1.0000 - val_loss: 1.1922 - val_accuracy: 0.7294\n",
      "Epoch 264/270\n",
      "11/11 [==============================] - 2s 192ms/step - loss: 7.4144e-04 - accuracy: 1.0000 - val_loss: 1.1853 - val_accuracy: 0.7294\n",
      "Epoch 265/270\n",
      "11/11 [==============================] - 2s 191ms/step - loss: 6.6709e-04 - accuracy: 1.0000 - val_loss: 1.1839 - val_accuracy: 0.7059\n",
      "Epoch 266/270\n",
      "11/11 [==============================] - 2s 191ms/step - loss: 6.3324e-04 - accuracy: 1.0000 - val_loss: 1.1821 - val_accuracy: 0.7176\n",
      "Epoch 267/270\n",
      "11/11 [==============================] - 2s 190ms/step - loss: 7.9240e-04 - accuracy: 1.0000 - val_loss: 1.1859 - val_accuracy: 0.7176\n",
      "Epoch 268/270\n",
      "11/11 [==============================] - 2s 191ms/step - loss: 7.7314e-04 - accuracy: 1.0000 - val_loss: 1.1876 - val_accuracy: 0.7176\n",
      "Epoch 269/270\n",
      "11/11 [==============================] - 2s 191ms/step - loss: 5.2924e-04 - accuracy: 1.0000 - val_loss: 1.1798 - val_accuracy: 0.7176\n",
      "Epoch 270/270\n",
      "11/11 [==============================] - 2s 191ms/step - loss: 0.0010 - accuracy: 1.0000 - val_loss: 1.1811 - val_accuracy: 0.7176\n"
     ]
    }
   ],
   "source": [
    "epochs =270\n",
    "\n",
    "history = model.fit(\n",
    "    train_dataset, \n",
    "    epochs=epochs,\n",
    "    validation_data=test_dataset\n",
    ")"
   ]
  },
  {
   "cell_type": "code",
   "execution_count": 7,
   "metadata": {},
   "outputs": [],
   "source": [
    "#Compile model\n",
    "model.compile(\n",
    "  optimizer='adam',\n",
    "  loss='mse',\n",
    "  metrics=[tf.keras.metrics.CategoricalAccuracy()])"
   ]
  },
  {
   "cell_type": "code",
   "execution_count": 8,
   "metadata": {},
   "outputs": [
    {
     "name": "stdout",
     "output_type": "stream",
     "text": [
      "3/3 [==============================] - 0s 34ms/step - loss: 0.0733 - categorical_accuracy: 0.7176\n",
      "Test Accuracy: 71.76%\n"
     ]
    }
   ],
   "source": [
    "evaluation = model.evaluate(test_dataset)\n",
    "print(f\"Test Accuracy: {evaluation[1] * 100:.2f}%\")"
   ]
  },
  {
   "cell_type": "code",
   "execution_count": 9,
   "metadata": {},
   "outputs": [
    {
     "name": "stdout",
     "output_type": "stream",
     "text": [
      "3/3 - 0s - loss: 0.0733 - categorical_accuracy: 0.7176 - 177ms/epoch - 59ms/step\n"
     ]
    }
   ],
   "source": [
    "test_loss, test_acc = model.evaluate(test_dataset, verbose=2)"
   ]
  },
  {
   "cell_type": "code",
   "execution_count": 10,
   "metadata": {},
   "outputs": [],
   "source": [
    "# compile the model\n",
    "model.compile(loss='categorical_crossentropy', optimizer='adam', metrics=['accuracy'])"
   ]
  },
  {
   "cell_type": "code",
   "execution_count": 11,
   "metadata": {},
   "outputs": [
    {
     "name": "stdout",
     "output_type": "stream",
     "text": [
      "3/3 - 0s - loss: 1.1811 - accuracy: 0.7176 - 439ms/epoch - 146ms/step\n"
     ]
    }
   ],
   "source": [
    "test_loss, test_acc = model.evaluate(test_dataset, verbose=2)"
   ]
  },
  {
   "cell_type": "code",
   "execution_count": 12,
   "metadata": {},
   "outputs": [
    {
     "name": "stdout",
     "output_type": "stream",
     "text": [
      "11/11 [==============================] - 1s 39ms/step - loss: 2.7500e-04 - accuracy: 1.0000\n",
      "Train Accuracy: 100.00%\n"
     ]
    }
   ],
   "source": [
    "evaluation = model.evaluate(train_dataset)\n",
    "print(f\"Train Accuracy: {evaluation[1] * 100:.2f}%\")"
   ]
  },
  {
   "cell_type": "code",
   "execution_count": 13,
   "metadata": {},
   "outputs": [
    {
     "name": "stdout",
     "output_type": "stream",
     "text": [
      "['A Not Ripe', 'A Ripe', 'B Not Ripe', 'B Ripe', 'C Not Ripe', 'C Ripe']\n"
     ]
    }
   ],
   "source": [
    "class_names = test_dataset.class_names\n",
    "print(class_names)"
   ]
  },
  {
   "cell_type": "code",
   "execution_count": 14,
   "metadata": {},
   "outputs": [
    {
     "name": "stdout",
     "output_type": "stream",
     "text": [
      "This image most likely belongs to A Ripe with a 23.07 percent confidence.\n"
     ]
    }
   ],
   "source": [
    "#1 A Ripe\n",
    "rootdir = \"C:/Users/User/Desktop/Category/test/A Ripe/AR10_90.png\"\n",
    "img = tf.keras.utils.load_img(\n",
    "    rootdir, target_size=(160, 160)\n",
    ")\n",
    "\n",
    "img_array = tf.keras.utils.img_to_array(img)\n",
    "img_array = tf.expand_dims(img_array, axis=0) # Create a batch\n",
    "\n",
    "predictions = model.predict(img_array)\n",
    "score = tf.nn.softmax(predictions[0])\n",
    "\n",
    "print(\n",
    "    \"This image most likely belongs to {} with a {:.2f} percent confidence.\"\n",
    "    .format(class_names[np.argmax(score)], 100 * np.max(score))\n",
    ")"
   ]
  },
  {
   "cell_type": "code",
   "execution_count": 15,
   "metadata": {},
   "outputs": [
    {
     "name": "stdout",
     "output_type": "stream",
     "text": [
      "This image most likely belongs to A Ripe with a 35.12 percent confidence.\n"
     ]
    }
   ],
   "source": [
    "#2\n",
    "rootdir = \"C:/Users/User/Desktop/Category/test/A Ripe/AR11_180.png\"\n",
    "img = tf.keras.utils.load_img(\n",
    "    rootdir, target_size=(160, 160)\n",
    ")\n",
    "\n",
    "img_array = tf.keras.utils.img_to_array(img)\n",
    "img_array = tf.expand_dims(img_array, axis=0) # Create a batch\n",
    "\n",
    "predictions = model.predict(img_array)\n",
    "score = tf.nn.softmax(predictions[0])\n",
    "\n",
    "print(\n",
    "    \"This image most likely belongs to {} with a {:.2f} percent confidence.\"\n",
    "    .format(class_names[np.argmax(score)], 100 * np.max(score))\n",
    ")\n"
   ]
  },
  {
   "cell_type": "code",
   "execution_count": 16,
   "metadata": {},
   "outputs": [
    {
     "name": "stdout",
     "output_type": "stream",
     "text": [
      "This image most likely belongs to A Ripe with a 35.06 percent confidence.\n"
     ]
    }
   ],
   "source": [
    "#3\n",
    "rootdir = \"C:/Users/User/Desktop/Category/test/A Ripe/AR12_0.png\"\n",
    "img = tf.keras.utils.load_img(\n",
    "    rootdir, target_size=(160, 160)\n",
    ")\n",
    "\n",
    "img_array = tf.keras.utils.img_to_array(img)\n",
    "img_array = tf.expand_dims(img_array, axis=0) # Create a batch\n",
    "\n",
    "predictions = model.predict(img_array)\n",
    "score = tf.nn.softmax(predictions[0])\n",
    "\n",
    "print(\n",
    "    \"This image most likely belongs to {} with a {:.2f} percent confidence.\"\n",
    "    .format(class_names[np.argmax(score)], 100 * np.max(score))\n",
    ")"
   ]
  },
  {
   "cell_type": "code",
   "execution_count": 17,
   "metadata": {},
   "outputs": [
    {
     "name": "stdout",
     "output_type": "stream",
     "text": [
      "This image most likely belongs to A Ripe with a 22.96 percent confidence.\n"
     ]
    }
   ],
   "source": [
    "#4\n",
    "rootdir = \"C:/Users/User/Desktop/Category/test/A Ripe/AR13_180.png\"\n",
    "img = tf.keras.utils.load_img(\n",
    "    rootdir, target_size=(160, 160)\n",
    ")\n",
    "\n",
    "img_array = tf.keras.utils.img_to_array(img)\n",
    "img_array = tf.expand_dims(img_array, axis=0) # Create a batch\n",
    "\n",
    "predictions = model.predict(img_array)\n",
    "score = tf.nn.softmax(predictions[0])\n",
    "\n",
    "print(\n",
    "    \"This image most likely belongs to {} with a {:.2f} percent confidence.\"\n",
    "    .format(class_names[np.argmax(score)], 100 * np.max(score))\n",
    ")\n"
   ]
  },
  {
   "cell_type": "code",
   "execution_count": 18,
   "metadata": {},
   "outputs": [
    {
     "name": "stdout",
     "output_type": "stream",
     "text": [
      "This image most likely belongs to A Ripe with a 35.21 percent confidence.\n"
     ]
    }
   ],
   "source": [
    "#5\n",
    "rootdir = \"C:/Users/User/Desktop/Category/test/A Ripe/AR14_0.png\"\n",
    "img = tf.keras.utils.load_img(\n",
    "    rootdir, target_size=(160, 160)\n",
    ")\n",
    "\n",
    "img_array = tf.keras.utils.img_to_array(img)\n",
    "img_array = tf.expand_dims(img_array, axis=0) # Create a batch\n",
    "\n",
    "predictions = model.predict(img_array)\n",
    "score = tf.nn.softmax(predictions[0])\n",
    "\n",
    "print(\n",
    "    \"This image most likely belongs to {} with a {:.2f} percent confidence.\"\n",
    "    .format(class_names[np.argmax(score)], 100 * np.max(score))\n",
    ")\n"
   ]
  },
  {
   "cell_type": "code",
   "execution_count": 19,
   "metadata": {},
   "outputs": [
    {
     "name": "stdout",
     "output_type": "stream",
     "text": [
      "This image most likely belongs to A Ripe with a 35.21 percent confidence.\n"
     ]
    }
   ],
   "source": [
    "#6\n",
    "rootdir = \"C:/Users/User/Desktop/Category/test/A Ripe/AR15_0.png\"\n",
    "img = tf.keras.utils.load_img(\n",
    "    rootdir, target_size=(160, 160)\n",
    ")\n",
    "\n",
    "img_array = tf.keras.utils.img_to_array(img)\n",
    "img_array = tf.expand_dims(img_array, axis=0) # Create a batch\n",
    "\n",
    "predictions = model.predict(img_array)\n",
    "score = tf.nn.softmax(predictions[0])\n",
    "\n",
    "print(\n",
    "    \"This image most likely belongs to {} with a {:.2f} percent confidence.\"\n",
    "    .format(class_names[np.argmax(score)], 100 * np.max(score))\n",
    ")\n"
   ]
  },
  {
   "cell_type": "code",
   "execution_count": 20,
   "metadata": {},
   "outputs": [
    {
     "name": "stdout",
     "output_type": "stream",
     "text": [
      "This image most likely belongs to A Ripe with a 35.22 percent confidence.\n"
     ]
    }
   ],
   "source": [
    "#7\n",
    "rootdir = \"C:/Users/User/Desktop/Category/test/A Ripe/AR16_0.png\"\n",
    "img = tf.keras.utils.load_img(\n",
    "    rootdir, target_size=(160, 160)\n",
    ")\n",
    "\n",
    "img_array = tf.keras.utils.img_to_array(img)\n",
    "img_array = tf.expand_dims(img_array, axis=0) # Create a batch\n",
    "\n",
    "predictions = model.predict(img_array)\n",
    "score = tf.nn.softmax(predictions[0])\n",
    "\n",
    "print(\n",
    "    \"This image most likely belongs to {} with a {:.2f} percent confidence.\"\n",
    "    .format(class_names[np.argmax(score)], 100 * np.max(score))\n",
    ")\n"
   ]
  },
  {
   "cell_type": "code",
   "execution_count": 21,
   "metadata": {},
   "outputs": [
    {
     "name": "stdout",
     "output_type": "stream",
     "text": [
      "This image most likely belongs to A Ripe with a 31.36 percent confidence.\n"
     ]
    }
   ],
   "source": [
    "#8\n",
    "rootdir = \"C:/Users/User/Desktop/Category/test/A Ripe/AR1_270.png\"\n",
    "img = tf.keras.utils.load_img(\n",
    "    rootdir, target_size=(160,160)\n",
    ")\n",
    "\n",
    "img_array = tf.keras.utils.img_to_array(img)\n",
    "img_array = tf.expand_dims(img_array, axis=0) # Create a batch\n",
    "\n",
    "predictions = model.predict(img_array)\n",
    "score = tf.nn.softmax(predictions[0])\n",
    "\n",
    "print(\n",
    "    \"This image most likely belongs to {} with a {:.2f} percent confidence.\"\n",
    "    .format(class_names[np.argmax(score)], 100 * np.max(score))\n",
    ")\n"
   ]
  },
  {
   "cell_type": "code",
   "execution_count": 22,
   "metadata": {},
   "outputs": [
    {
     "name": "stdout",
     "output_type": "stream",
     "text": [
      "This image most likely belongs to A Ripe with a 35.22 percent confidence.\n"
     ]
    }
   ],
   "source": [
    "#9\n",
    "rootdir = \"C:/Users/User/Desktop/Category/test/A Ripe/AR2_180.png\"\n",
    "img = tf.keras.utils.load_img(\n",
    "    rootdir, target_size=(160,160)\n",
    ")\n",
    "\n",
    "img_array = tf.keras.utils.img_to_array(img)\n",
    "img_array = tf.expand_dims(img_array, axis=0) # Create a batch\n",
    "\n",
    "predictions = model.predict(img_array)\n",
    "score = tf.nn.softmax(predictions[0])\n",
    "\n",
    "print(\n",
    "    \"This image most likely belongs to {} with a {:.2f} percent confidence.\"\n",
    "    .format(class_names[np.argmax(score)], 100 * np.max(score))\n",
    ")\n"
   ]
  },
  {
   "cell_type": "code",
   "execution_count": 23,
   "metadata": {},
   "outputs": [
    {
     "name": "stdout",
     "output_type": "stream",
     "text": [
      "This image most likely belongs to A Ripe with a 35.21 percent confidence.\n"
     ]
    }
   ],
   "source": [
    "#10\n",
    "rootdir = \"C:/Users/User/Desktop/Category/test/A Ripe/AR3_180.png\"\n",
    "img = tf.keras.utils.load_img(\n",
    "    rootdir, target_size=(160,160)\n",
    ")\n",
    "\n",
    "img_array = tf.keras.utils.img_to_array(img)\n",
    "img_array = tf.expand_dims(img_array, axis=0) # Create a batch\n",
    "\n",
    "predictions = model.predict(img_array)\n",
    "score = tf.nn.softmax(predictions[0])\n",
    "\n",
    "print(\n",
    "    \"This image most likely belongs to {} with a {:.2f} percent confidence.\"\n",
    "    .format(class_names[np.argmax(score)], 100 * np.max(score))\n",
    ")\n"
   ]
  },
  {
   "cell_type": "code",
   "execution_count": 24,
   "metadata": {},
   "outputs": [
    {
     "name": "stdout",
     "output_type": "stream",
     "text": [
      "This image most likely belongs to A Ripe with a 34.91 percent confidence.\n"
     ]
    }
   ],
   "source": [
    "#11\n",
    "rootdir = \"C:/Users/User/Desktop/Category/test/A Ripe/AR4_270.png\"\n",
    "img = tf.keras.utils.load_img(\n",
    "    rootdir, target_size=(160,160)\n",
    ")\n",
    "\n",
    "img_array = tf.keras.utils.img_to_array(img)\n",
    "img_array = tf.expand_dims(img_array, axis=0) # Create a batch\n",
    "\n",
    "predictions = model.predict(img_array)\n",
    "score = tf.nn.softmax(predictions[0])\n",
    "\n",
    "print(\n",
    "    \"This image most likely belongs to {} with a {:.2f} percent confidence.\"\n",
    "    .format(class_names[np.argmax(score)], 100 * np.max(score))\n",
    ")\n"
   ]
  },
  {
   "cell_type": "code",
   "execution_count": 25,
   "metadata": {},
   "outputs": [
    {
     "name": "stdout",
     "output_type": "stream",
     "text": [
      "This image most likely belongs to A Ripe with a 35.15 percent confidence.\n"
     ]
    }
   ],
   "source": [
    "#12\n",
    "rootdir = \"C:/Users/User/Desktop/Category/test/A Ripe/AR5_180.png\"\n",
    "img = tf.keras.utils.load_img(\n",
    "    rootdir, target_size=(160, 160)\n",
    ")\n",
    "\n",
    "img_array = tf.keras.utils.img_to_array(img)\n",
    "img_array = tf.expand_dims(img_array, axis=0) # Create a batch\n",
    "\n",
    "predictions = model.predict(img_array)\n",
    "score = tf.nn.softmax(predictions[0])\n",
    "\n",
    "print(\n",
    "    \"This image most likely belongs to {} with a {:.2f} percent confidence.\"\n",
    "    .format(class_names[np.argmax(score)], 100 * np.max(score))\n",
    ")\n"
   ]
  },
  {
   "cell_type": "code",
   "execution_count": 26,
   "metadata": {},
   "outputs": [
    {
     "name": "stdout",
     "output_type": "stream",
     "text": [
      "This image most likely belongs to A Ripe with a 34.71 percent confidence.\n"
     ]
    }
   ],
   "source": [
    "#13\n",
    "rootdir = \"C:/Users/User/Desktop/Category/test/A Ripe/AR6_270.png\"\n",
    "img = tf.keras.utils.load_img(\n",
    "    rootdir, target_size=(160, 160)\n",
    ")\n",
    "\n",
    "img_array = tf.keras.utils.img_to_array(img)\n",
    "img_array = tf.expand_dims(img_array, axis=0) # Create a batch\n",
    "\n",
    "predictions = model.predict(img_array)\n",
    "score = tf.nn.softmax(predictions[0])\n",
    "\n",
    "print(\n",
    "    \"This image most likely belongs to {} with a {:.2f} percent confidence.\"\n",
    "    .format(class_names[np.argmax(score)], 100 * np.max(score))\n",
    ")\n"
   ]
  },
  {
   "cell_type": "code",
   "execution_count": 27,
   "metadata": {},
   "outputs": [
    {
     "name": "stdout",
     "output_type": "stream",
     "text": [
      "This image most likely belongs to B Not Ripe with a 27.47 percent confidence.\n"
     ]
    }
   ],
   "source": [
    "#14\n",
    "rootdir = \"C:/Users/User/Desktop/Category/test/A Ripe/AR77_270.png\"\n",
    "img = tf.keras.utils.load_img(\n",
    "    rootdir, target_size=(160, 160)\n",
    ")\n",
    "\n",
    "img_array = tf.keras.utils.img_to_array(img)\n",
    "img_array = tf.expand_dims(img_array, axis=0) # Create a batch\n",
    "\n",
    "predictions = model.predict(img_array)\n",
    "score = tf.nn.softmax(predictions[0])\n",
    "\n",
    "print(\n",
    "    \"This image most likely belongs to {} with a {:.2f} percent confidence.\"\n",
    "    .format(class_names[np.argmax(score)], 100 * np.max(score))\n",
    ")\n"
   ]
  },
  {
   "cell_type": "code",
   "execution_count": 28,
   "metadata": {},
   "outputs": [
    {
     "name": "stdout",
     "output_type": "stream",
     "text": [
      "This image most likely belongs to A Ripe with a 32.10 percent confidence.\n"
     ]
    }
   ],
   "source": [
    "#15\n",
    "rootdir = \"C:/Users/User/Desktop/Category/test/A Ripe/AR78_90.png\"\n",
    "img = tf.keras.utils.load_img(\n",
    "    rootdir, target_size=(160, 160)\n",
    ")\n",
    "\n",
    "img_array = tf.keras.utils.img_to_array(img)\n",
    "img_array = tf.expand_dims(img_array, axis=0) # Create a batch\n",
    "\n",
    "predictions = model.predict(img_array)\n",
    "score = tf.nn.softmax(predictions[0])\n",
    "\n",
    "print(\n",
    "    \"This image most likely belongs to {} with a {:.2f} percent confidence.\"\n",
    "    .format(class_names[np.argmax(score)], 100 * np.max(score))\n",
    ")\n"
   ]
  },
  {
   "cell_type": "code",
   "execution_count": 29,
   "metadata": {},
   "outputs": [
    {
     "name": "stdout",
     "output_type": "stream",
     "text": [
      "This image most likely belongs to A Ripe with a 35.22 percent confidence.\n"
     ]
    }
   ],
   "source": [
    "#17\n",
    "rootdir = \"C:/Users/User/Desktop/Category/test/A Ripe/AR7_180.png\"\n",
    "img = tf.keras.utils.load_img(\n",
    "    rootdir, target_size=(160, 160)\n",
    ")\n",
    "\n",
    "img_array = tf.keras.utils.img_to_array(img)\n",
    "img_array = tf.expand_dims(img_array, axis=0) # Create a batch\n",
    "\n",
    "predictions = model.predict(img_array)\n",
    "score = tf.nn.softmax(predictions[0])\n",
    "\n",
    "print(\n",
    "    \"This image most likely belongs to {} with a {:.2f} percent confidence.\"\n",
    "    .format(class_names[np.argmax(score)], 100 * np.max(score))\n",
    ")\n"
   ]
  },
  {
   "cell_type": "code",
   "execution_count": 30,
   "metadata": {},
   "outputs": [
    {
     "name": "stdout",
     "output_type": "stream",
     "text": [
      "This image most likely belongs to A Ripe with a 35.22 percent confidence.\n"
     ]
    }
   ],
   "source": [
    "#17\n",
    "rootdir = \"C:/Users/User/Desktop/Category/test/A Ripe/AR7_180.png\"\n",
    "img = tf.keras.utils.load_img(\n",
    "    rootdir, target_size=(160, 160)\n",
    ")\n",
    "\n",
    "img_array = tf.keras.utils.img_to_array(img)\n",
    "img_array = tf.expand_dims(img_array, axis=0) # Create a batch\n",
    "\n",
    "predictions = model.predict(img_array)\n",
    "score = tf.nn.softmax(predictions[0])\n",
    "\n",
    "print(\n",
    "    \"This image most likely belongs to {} with a {:.2f} percent confidence.\"\n",
    "    .format(class_names[np.argmax(score)], 100 * np.max(score))\n",
    ")\n"
   ]
  },
  {
   "cell_type": "code",
   "execution_count": 31,
   "metadata": {},
   "outputs": [
    {
     "name": "stdout",
     "output_type": "stream",
     "text": [
      "This image most likely belongs to A Ripe with a 35.21 percent confidence.\n"
     ]
    }
   ],
   "source": [
    "#18\n",
    "rootdir = \"C:/Users/User/Desktop/Category/test/A Ripe/AR8_0.png\"\n",
    "img = tf.keras.utils.load_img(\n",
    "    rootdir, target_size=(160, 160)\n",
    ")\n",
    "\n",
    "img_array = tf.keras.utils.img_to_array(img)\n",
    "img_array = tf.expand_dims(img_array, axis=0) # Create a batch\n",
    "\n",
    "predictions = model.predict(img_array)\n",
    "score = tf.nn.softmax(predictions[0])\n",
    "\n",
    "print(\n",
    "    \"This image most likely belongs to {} with a {:.2f} percent confidence.\"\n",
    "    .format(class_names[np.argmax(score)], 100 * np.max(score))\n",
    ")\n"
   ]
  },
  {
   "cell_type": "code",
   "execution_count": 32,
   "metadata": {},
   "outputs": [
    {
     "name": "stdout",
     "output_type": "stream",
     "text": [
      "This image most likely belongs to A Ripe with a 34.87 percent confidence.\n"
     ]
    }
   ],
   "source": [
    "#19\n",
    "rootdir = \"C:/Users/User/Desktop/Category/test/A Ripe/AR9_270.png\"\n",
    "img = tf.keras.utils.load_img(\n",
    "    rootdir, target_size=(160, 160)\n",
    ")\n",
    "\n",
    "img_array = tf.keras.utils.img_to_array(img)\n",
    "img_array = tf.expand_dims(img_array, axis=0) # Create a batch\n",
    "\n",
    "predictions = model.predict(img_array)\n",
    "score = tf.nn.softmax(predictions[0])\n",
    "\n",
    "print(\n",
    "    \"This image most likely belongs to {} with a {:.2f} percent confidence.\"\n",
    "    .format(class_names[np.argmax(score)], 100 * np.max(score))\n",
    ")\n"
   ]
  },
  {
   "cell_type": "code",
   "execution_count": 33,
   "metadata": {},
   "outputs": [
    {
     "name": "stdout",
     "output_type": "stream",
     "text": [
      "This image most likely belongs to A Not Ripe with a 35.20 percent confidence.\n"
     ]
    }
   ],
   "source": [
    "#1 A Not Ripe\n",
    "\n",
    "rootdir = \"C:/Users/User/Desktop/Category/test/A Not Ripe/ANR10_0.png\"\n",
    "img = tf.keras.utils.load_img(\n",
    "    rootdir, target_size=(160, 160)\n",
    ")\n",
    "\n",
    "img_array = tf.keras.utils.img_to_array(img)\n",
    "img_array = tf.expand_dims(img_array, axis=0) # Create a batch\n",
    "\n",
    "predictions = model.predict(img_array)\n",
    "score = tf.nn.softmax(predictions[0])\n",
    "\n",
    "print(\n",
    "    \"This image most likely belongs to {} with a {:.2f} percent confidence.\"\n",
    "    .format(class_names[np.argmax(score)], 100 * np.max(score))\n",
    ")\n",
    "\n"
   ]
  },
  {
   "cell_type": "code",
   "execution_count": 34,
   "metadata": {},
   "outputs": [
    {
     "name": "stdout",
     "output_type": "stream",
     "text": [
      "This image most likely belongs to A Not Ripe with a 35.22 percent confidence.\n"
     ]
    }
   ],
   "source": [
    "#2\n",
    "\n",
    "rootdir = \"C:/Users/User/Desktop/Category/test/A Not Ripe/ANR11_0.png\"\n",
    "img = tf.keras.utils.load_img(\n",
    "    rootdir, target_size=(160, 160)\n",
    ")\n",
    "\n",
    "img_array = tf.keras.utils.img_to_array(img)\n",
    "img_array = tf.expand_dims(img_array, axis=0) # Create a batch\n",
    "\n",
    "predictions = model.predict(img_array)\n",
    "score = tf.nn.softmax(predictions[0])\n",
    "\n",
    "print(\n",
    "    \"This image most likely belongs to {} with a {:.2f} percent confidence.\"\n",
    "    .format(class_names[np.argmax(score)], 100 * np.max(score))\n",
    ")"
   ]
  },
  {
   "cell_type": "code",
   "execution_count": 35,
   "metadata": {},
   "outputs": [
    {
     "name": "stdout",
     "output_type": "stream",
     "text": [
      "This image most likely belongs to A Not Ripe with a 35.21 percent confidence.\n"
     ]
    }
   ],
   "source": [
    "#3\n",
    "\n",
    "rootdir = \"C:/Users/User/Desktop/Category/test/A Not Ripe/ANR12_90.png\"\n",
    "img = tf.keras.utils.load_img(\n",
    "    rootdir, target_size=(160, 160)\n",
    ")\n",
    "\n",
    "img_array = tf.keras.utils.img_to_array(img)\n",
    "img_array = tf.expand_dims(img_array, axis=0) # Create a batch\n",
    "\n",
    "predictions = model.predict(img_array)\n",
    "score = tf.nn.softmax(predictions[0])\n",
    "\n",
    "print(\n",
    "    \"This image most likely belongs to {} with a {:.2f} percent confidence.\"\n",
    "    .format(class_names[np.argmax(score)], 100 * np.max(score))\n",
    ")"
   ]
  },
  {
   "cell_type": "code",
   "execution_count": 36,
   "metadata": {},
   "outputs": [
    {
     "name": "stdout",
     "output_type": "stream",
     "text": [
      "This image most likely belongs to A Not Ripe with a 33.69 percent confidence.\n"
     ]
    }
   ],
   "source": [
    "#4\n",
    "\n",
    "rootdir = \"C:/Users/User/Desktop/Category/test/A Not Ripe/ANR13_90.png\"\n",
    "img = tf.keras.utils.load_img(\n",
    "    rootdir, target_size=(160,160)\n",
    ")\n",
    "\n",
    "img_array = tf.keras.utils.img_to_array(img)\n",
    "img_array = tf.expand_dims(img_array, axis=0) # Create a batch\n",
    "\n",
    "predictions = model.predict(img_array)\n",
    "score = tf.nn.softmax(predictions[0])\n",
    "\n",
    "print(\n",
    "    \"This image most likely belongs to {} with a {:.2f} percent confidence.\"\n",
    "    .format(class_names[np.argmax(score)], 100 * np.max(score))\n",
    ")"
   ]
  },
  {
   "cell_type": "code",
   "execution_count": 37,
   "metadata": {},
   "outputs": [
    {
     "name": "stdout",
     "output_type": "stream",
     "text": [
      "This image most likely belongs to A Not Ripe with a 35.21 percent confidence.\n"
     ]
    }
   ],
   "source": [
    "#5\n",
    "\n",
    "rootdir = \"C:/Users/User/Desktop/Category/test/A Not Ripe/ANR14_180.png\"\n",
    "img = tf.keras.utils.load_img(\n",
    "    rootdir, target_size=(160,160)\n",
    ")\n",
    "\n",
    "img_array = tf.keras.utils.img_to_array(img)\n",
    "img_array = tf.expand_dims(img_array, axis=0) # Create a batch\n",
    "\n",
    "predictions = model.predict(img_array)\n",
    "score = tf.nn.softmax(predictions[0])\n",
    "\n",
    "print(\n",
    "    \"This image most likely belongs to {} with a {:.2f} percent confidence.\"\n",
    "    .format(class_names[np.argmax(score)], 100 * np.max(score))\n",
    ")"
   ]
  },
  {
   "cell_type": "code",
   "execution_count": 38,
   "metadata": {},
   "outputs": [
    {
     "name": "stdout",
     "output_type": "stream",
     "text": [
      "This image most likely belongs to A Not Ripe with a 35.21 percent confidence.\n"
     ]
    }
   ],
   "source": [
    "#6\n",
    "\n",
    "rootdir = \"C:/Users/User/Desktop/Category/test/A Not Ripe/ANR15_0.png\"\n",
    "img = tf.keras.utils.load_img(\n",
    "    rootdir, target_size=(160, 160)\n",
    ")\n",
    "\n",
    "img_array = tf.keras.utils.img_to_array(img)\n",
    "img_array = tf.expand_dims(img_array, axis=0) # Create a batch\n",
    "\n",
    "predictions = model.predict(img_array)\n",
    "score = tf.nn.softmax(predictions[0])\n",
    "\n",
    "print(\n",
    "    \"This image most likely belongs to {} with a {:.2f} percent confidence.\"\n",
    "    .format(class_names[np.argmax(score)], 100 * np.max(score))\n",
    ")"
   ]
  },
  {
   "cell_type": "code",
   "execution_count": 39,
   "metadata": {},
   "outputs": [
    {
     "name": "stdout",
     "output_type": "stream",
     "text": [
      "This image most likely belongs to A Not Ripe with a 35.21 percent confidence.\n"
     ]
    }
   ],
   "source": [
    "#7\n",
    "\n",
    "rootdir = \"C:/Users/User/Desktop/Category/test/A Not Ripe/ANR16_90.png\"\n",
    "img = tf.keras.utils.load_img(\n",
    "    rootdir, target_size=(160, 160)\n",
    ")\n",
    "\n",
    "img_array = tf.keras.utils.img_to_array(img)\n",
    "img_array = tf.expand_dims(img_array, axis=0) # Create a batch\n",
    "\n",
    "predictions = model.predict(img_array)\n",
    "score = tf.nn.softmax(predictions[0])\n",
    "\n",
    "print(\n",
    "    \"This image most likely belongs to {} with a {:.2f} percent confidence.\"\n",
    "    .format(class_names[np.argmax(score)], 100 * np.max(score))\n",
    ")"
   ]
  },
  {
   "cell_type": "code",
   "execution_count": 40,
   "metadata": {},
   "outputs": [
    {
     "name": "stdout",
     "output_type": "stream",
     "text": [
      "This image most likely belongs to A Not Ripe with a 35.22 percent confidence.\n"
     ]
    }
   ],
   "source": [
    "#8\n",
    "\n",
    "rootdir = \"C:/Users/User/Desktop/Category/test/A Not Ripe/ANR1_270.png\"\n",
    "img = tf.keras.utils.load_img(\n",
    "    rootdir, target_size=(160, 160)\n",
    ")\n",
    "\n",
    "img_array = tf.keras.utils.img_to_array(img)\n",
    "img_array = tf.expand_dims(img_array, axis=0) # Create a batch\n",
    "\n",
    "predictions = model.predict(img_array)\n",
    "score = tf.nn.softmax(predictions[0])\n",
    "\n",
    "print(\n",
    "    \"This image most likely belongs to {} with a {:.2f} percent confidence.\"\n",
    "    .format(class_names[np.argmax(score)], 100 * np.max(score))\n",
    ")"
   ]
  },
  {
   "cell_type": "code",
   "execution_count": 41,
   "metadata": {},
   "outputs": [
    {
     "name": "stdout",
     "output_type": "stream",
     "text": [
      "This image most likely belongs to A Not Ripe with a 35.19 percent confidence.\n"
     ]
    }
   ],
   "source": [
    "#9\n",
    "\n",
    "rootdir = \"C:/Users/User/Desktop/Category/test/A Not Ripe/ANR2_0.png\"\n",
    "img = tf.keras.utils.load_img(\n",
    "    rootdir, target_size=(160, 160)\n",
    ")\n",
    "\n",
    "img_array = tf.keras.utils.img_to_array(img)\n",
    "img_array = tf.expand_dims(img_array, axis=0) # Create a batch\n",
    "\n",
    "predictions = model.predict(img_array)\n",
    "score = tf.nn.softmax(predictions[0])\n",
    "\n",
    "print(\n",
    "    \"This image most likely belongs to {} with a {:.2f} percent confidence.\"\n",
    "    .format(class_names[np.argmax(score)], 100 * np.max(score))\n",
    ")"
   ]
  },
  {
   "cell_type": "code",
   "execution_count": 42,
   "metadata": {},
   "outputs": [
    {
     "name": "stdout",
     "output_type": "stream",
     "text": [
      "This image most likely belongs to A Not Ripe with a 35.21 percent confidence.\n"
     ]
    }
   ],
   "source": [
    "#10\n",
    "\n",
    "rootdir = \"C:/Users/User/Desktop/Category/test/A Not Ripe/ANR3_270.png\"\n",
    "img = tf.keras.utils.load_img(\n",
    "    rootdir, target_size=(160, 160)\n",
    ")\n",
    "\n",
    "img_array = tf.keras.utils.img_to_array(img)\n",
    "img_array = tf.expand_dims(img_array, axis=0) # Create a batch\n",
    "\n",
    "predictions = model.predict(img_array)\n",
    "score = tf.nn.softmax(predictions[0])\n",
    "\n",
    "print(\n",
    "    \"This image most likely belongs to {} with a {:.2f} percent confidence.\"\n",
    "    .format(class_names[np.argmax(score)], 100 * np.max(score))\n",
    ")"
   ]
  },
  {
   "cell_type": "code",
   "execution_count": 43,
   "metadata": {},
   "outputs": [
    {
     "name": "stdout",
     "output_type": "stream",
     "text": [
      "This image most likely belongs to B Not Ripe with a 23.02 percent confidence.\n"
     ]
    }
   ],
   "source": [
    "#11\n",
    "\n",
    "rootdir = \"C:/Users/User/Desktop/Category/test/A Not Ripe/ANR4_0.png\"\n",
    "img = tf.keras.utils.load_img(\n",
    "    rootdir, target_size=(160, 160)\n",
    ")\n",
    "\n",
    "img_array = tf.keras.utils.img_to_array(img)\n",
    "img_array = tf.expand_dims(img_array, axis=0) # Create a batch\n",
    "\n",
    "predictions = model.predict(img_array)\n",
    "score = tf.nn.softmax(predictions[0])\n",
    "\n",
    "print(\n",
    "    \"This image most likely belongs to {} with a {:.2f} percent confidence.\"\n",
    "    .format(class_names[np.argmax(score)], 100 * np.max(score))\n",
    ")"
   ]
  },
  {
   "cell_type": "code",
   "execution_count": 44,
   "metadata": {},
   "outputs": [
    {
     "name": "stdout",
     "output_type": "stream",
     "text": [
      "This image most likely belongs to A Not Ripe with a 34.04 percent confidence.\n"
     ]
    }
   ],
   "source": [
    "#12\n",
    "\n",
    "rootdir = \"C:/Users/User/Desktop/Category/test/A Not Ripe/ANR5_90.png\"\n",
    "img = tf.keras.utils.load_img(\n",
    "    rootdir, target_size=(160, 160)\n",
    ")\n",
    "\n",
    "img_array = tf.keras.utils.img_to_array(img)\n",
    "img_array = tf.expand_dims(img_array, axis=0) # Create a batch\n",
    "\n",
    "predictions = model.predict(img_array)\n",
    "score = tf.nn.softmax(predictions[0])\n",
    "\n",
    "print(\n",
    "    \"This image most likely belongs to {} with a {:.2f} percent confidence.\"\n",
    "    .format(class_names[np.argmax(score)], 100 * np.max(score))\n",
    ")"
   ]
  },
  {
   "cell_type": "code",
   "execution_count": 45,
   "metadata": {},
   "outputs": [
    {
     "name": "stdout",
     "output_type": "stream",
     "text": [
      "This image most likely belongs to A Not Ripe with a 35.22 percent confidence.\n"
     ]
    }
   ],
   "source": [
    "#13\n",
    "\n",
    "rootdir = \"C:/Users/User/Desktop/Category/test/A Not Ripe/ANR6_270.png\"\n",
    "img = tf.keras.utils.load_img(\n",
    "    rootdir, target_size=(160, 160)\n",
    ")\n",
    "\n",
    "img_array = tf.keras.utils.img_to_array(img)\n",
    "img_array = tf.expand_dims(img_array, axis=0) # Create a batch\n",
    "\n",
    "predictions = model.predict(img_array)\n",
    "score = tf.nn.softmax(predictions[0])\n",
    "\n",
    "print(\n",
    "    \"This image most likely belongs to {} with a {:.2f} percent confidence.\"\n",
    "    .format(class_names[np.argmax(score)], 100 * np.max(score))\n",
    ")"
   ]
  },
  {
   "cell_type": "code",
   "execution_count": 46,
   "metadata": {},
   "outputs": [
    {
     "name": "stdout",
     "output_type": "stream",
     "text": [
      "This image most likely belongs to A Not Ripe with a 34.87 percent confidence.\n"
     ]
    }
   ],
   "source": [
    "#14\n",
    "\n",
    "rootdir = \"C:/Users/User/Desktop/Category/test/A Not Ripe/ANR79_270.png\"\n",
    "img = tf.keras.utils.load_img(\n",
    "    rootdir, target_size=(160, 160)\n",
    ")\n",
    "\n",
    "img_array = tf.keras.utils.img_to_array(img)\n",
    "img_array = tf.expand_dims(img_array, axis=0) # Create a batch\n",
    "\n",
    "predictions = model.predict(img_array)\n",
    "score = tf.nn.softmax(predictions[0])\n",
    "\n",
    "print(\n",
    "    \"This image most likely belongs to {} with a {:.2f} percent confidence.\"\n",
    "    .format(class_names[np.argmax(score)], 100 * np.max(score))\n",
    ")"
   ]
  },
  {
   "cell_type": "code",
   "execution_count": 47,
   "metadata": {},
   "outputs": [
    {
     "name": "stdout",
     "output_type": "stream",
     "text": [
      "This image most likely belongs to A Not Ripe with a 35.22 percent confidence.\n"
     ]
    }
   ],
   "source": [
    "#15\n",
    "\n",
    "rootdir = \"C:/Users/User/Desktop/Category/test/A Not Ripe/ANR7_90.png\"\n",
    "img = tf.keras.utils.load_img(\n",
    "    rootdir, target_size=(160, 160)\n",
    ")\n",
    "\n",
    "img_array = tf.keras.utils.img_to_array(img)\n",
    "img_array = tf.expand_dims(img_array, axis=0) # Create a batch\n",
    "\n",
    "predictions = model.predict(img_array)\n",
    "score = tf.nn.softmax(predictions[0])\n",
    "\n",
    "print(\n",
    "    \"This image most likely belongs to {} with a {:.2f} percent confidence.\"\n",
    "    .format(class_names[np.argmax(score)], 100 * np.max(score))\n",
    ")"
   ]
  },
  {
   "cell_type": "code",
   "execution_count": 48,
   "metadata": {},
   "outputs": [
    {
     "name": "stdout",
     "output_type": "stream",
     "text": [
      "This image most likely belongs to A Not Ripe with a 35.22 percent confidence.\n"
     ]
    }
   ],
   "source": [
    "#16\n",
    "\n",
    "rootdir = \"C:/Users/User/Desktop/Category/test/A Not Ripe/ANR80_90.png\"\n",
    "img = tf.keras.utils.load_img(\n",
    "    rootdir, target_size=(160, 160)\n",
    ")\n",
    "\n",
    "img_array = tf.keras.utils.img_to_array(img)\n",
    "img_array = tf.expand_dims(img_array, axis=0) # Create a batch\n",
    "\n",
    "predictions = model.predict(img_array)\n",
    "score = tf.nn.softmax(predictions[0])\n",
    "\n",
    "print(\n",
    "    \"This image most likely belongs to {} with a {:.2f} percent confidence.\"\n",
    "    .format(class_names[np.argmax(score)], 100 * np.max(score))\n",
    ")"
   ]
  },
  {
   "cell_type": "code",
   "execution_count": 49,
   "metadata": {},
   "outputs": [
    {
     "name": "stdout",
     "output_type": "stream",
     "text": [
      "This image most likely belongs to A Not Ripe with a 35.17 percent confidence.\n"
     ]
    }
   ],
   "source": [
    "#17\n",
    "\n",
    "rootdir = \"C:/Users/User/Desktop/Category/test/A Not Ripe/ANR81_90.png\"\n",
    "img = tf.keras.utils.load_img(\n",
    "    rootdir, target_size=(160, 160)\n",
    ")\n",
    "\n",
    "img_array = tf.keras.utils.img_to_array(img)\n",
    "img_array = tf.expand_dims(img_array, axis=0) # Create a batch\n",
    "\n",
    "predictions = model.predict(img_array)\n",
    "score = tf.nn.softmax(predictions[0])\n",
    "\n",
    "print(\n",
    "    \"This image most likely belongs to {} with a {:.2f} percent confidence.\"\n",
    "    .format(class_names[np.argmax(score)], 100 * np.max(score))\n",
    ")"
   ]
  },
  {
   "cell_type": "code",
   "execution_count": 50,
   "metadata": {},
   "outputs": [
    {
     "name": "stdout",
     "output_type": "stream",
     "text": [
      "This image most likely belongs to A Not Ripe with a 34.97 percent confidence.\n"
     ]
    }
   ],
   "source": [
    "#18\n",
    "\n",
    "rootdir = \"C:/Users/User/Desktop/Category/test/A Not Ripe/ANR8_90.png\"\n",
    "img = tf.keras.utils.load_img(\n",
    "    rootdir, target_size=(160, 160)\n",
    ")\n",
    "\n",
    "img_array = tf.keras.utils.img_to_array(img)\n",
    "img_array = tf.expand_dims(img_array, axis=0) # Create a batch\n",
    "\n",
    "predictions = model.predict(img_array)\n",
    "score = tf.nn.softmax(predictions[0])\n",
    "\n",
    "print(\n",
    "    \"This image most likely belongs to {} with a {:.2f} percent confidence.\"\n",
    "    .format(class_names[np.argmax(score)], 100 * np.max(score))\n",
    ")"
   ]
  },
  {
   "cell_type": "code",
   "execution_count": 51,
   "metadata": {},
   "outputs": [
    {
     "name": "stdout",
     "output_type": "stream",
     "text": [
      "This image most likely belongs to A Not Ripe with a 35.22 percent confidence.\n"
     ]
    }
   ],
   "source": [
    "#19\n",
    "\n",
    "rootdir = \"C:/Users/User/Desktop/Category/test/A Not Ripe/ANR9_270.png\"\n",
    "img = tf.keras.utils.load_img(\n",
    "    rootdir, target_size=(160, 160)\n",
    ")\n",
    "\n",
    "img_array = tf.keras.utils.img_to_array(img)\n",
    "img_array = tf.expand_dims(img_array, axis=0) # Create a batch\n",
    "\n",
    "predictions = model.predict(img_array)\n",
    "score = tf.nn.softmax(predictions[0])\n",
    "\n",
    "print(\n",
    "    \"This image most likely belongs to {} with a {:.2f} percent confidence.\"\n",
    "    .format(class_names[np.argmax(score)], 100 * np.max(score))\n",
    ")"
   ]
  },
  {
   "cell_type": "code",
   "execution_count": 52,
   "metadata": {},
   "outputs": [
    {
     "name": "stdout",
     "output_type": "stream",
     "text": [
      "This image most likely belongs to C Ripe with a 23.58 percent confidence.\n"
     ]
    }
   ],
   "source": [
    "#1 B Ripe\n",
    "\n",
    "rootdir = \"C:/Users/User/Desktop/Category/test/B Ripe/BR10_180.png\"\n",
    "img = tf.keras.utils.load_img(\n",
    "    rootdir, target_size=(160, 160)\n",
    ")\n",
    "\n",
    "img_array = tf.keras.utils.img_to_array(img)\n",
    "img_array = tf.expand_dims(img_array, axis=0) # Create a batch\n",
    "\n",
    "predictions = model.predict(img_array)\n",
    "score = tf.nn.softmax(predictions[0])\n",
    "\n",
    "print(\n",
    "    \"This image most likely belongs to {} with a {:.2f} percent confidence.\"\n",
    "    .format(class_names[np.argmax(score)], 100 * np.max(score))\n",
    ")"
   ]
  },
  {
   "cell_type": "code",
   "execution_count": 53,
   "metadata": {},
   "outputs": [
    {
     "name": "stdout",
     "output_type": "stream",
     "text": [
      "This image most likely belongs to C Ripe with a 35.12 percent confidence.\n"
     ]
    }
   ],
   "source": [
    "#2\n",
    "\n",
    "rootdir = \"C:/Users/User/Desktop/Category/test/B Ripe/BR11_90.png\"\n",
    "img = tf.keras.utils.load_img(\n",
    "    rootdir, target_size=(160, 160)\n",
    ")\n",
    "\n",
    "img_array = tf.keras.utils.img_to_array(img)\n",
    "img_array = tf.expand_dims(img_array, axis=0) # Create a batch\n",
    "\n",
    "predictions = model.predict(img_array)\n",
    "score = tf.nn.softmax(predictions[0])\n",
    "\n",
    "print(\n",
    "    \"This image most likely belongs to {} with a {:.2f} percent confidence.\"\n",
    "    .format(class_names[np.argmax(score)], 100 * np.max(score))\n",
    ")"
   ]
  },
  {
   "cell_type": "code",
   "execution_count": 54,
   "metadata": {},
   "outputs": [
    {
     "name": "stdout",
     "output_type": "stream",
     "text": [
      "This image most likely belongs to C Not Ripe with a 21.70 percent confidence.\n"
     ]
    }
   ],
   "source": [
    "#3\n",
    "\n",
    "rootdir = \"C:/Users/User/Desktop/Category/test/B Ripe/BR12_180.png\"\n",
    "img = tf.keras.utils.load_img(\n",
    "    rootdir, target_size=(160, 160)\n",
    ")\n",
    "\n",
    "img_array = tf.keras.utils.img_to_array(img)\n",
    "img_array = tf.expand_dims(img_array, axis=0) # Create a batch\n",
    "\n",
    "predictions = model.predict(img_array)\n",
    "score = tf.nn.softmax(predictions[0])\n",
    "\n",
    "print(\n",
    "    \"This image most likely belongs to {} with a {:.2f} percent confidence.\"\n",
    "    .format(class_names[np.argmax(score)], 100 * np.max(score))\n",
    ")"
   ]
  },
  {
   "cell_type": "code",
   "execution_count": 55,
   "metadata": {},
   "outputs": [
    {
     "name": "stdout",
     "output_type": "stream",
     "text": [
      "This image most likely belongs to C Ripe with a 25.46 percent confidence.\n"
     ]
    }
   ],
   "source": [
    "#4\n",
    "\n",
    "rootdir = \"C:/Users/User/Desktop/Category/test/B Ripe/BR13_90.png\"\n",
    "img = tf.keras.utils.load_img(\n",
    "    rootdir, target_size=(160, 160)\n",
    ")\n",
    "\n",
    "img_array = tf.keras.utils.img_to_array(img)\n",
    "img_array = tf.expand_dims(img_array, axis=0) # Create a batch\n",
    "\n",
    "predictions = model.predict(img_array)\n",
    "score = tf.nn.softmax(predictions[0])\n",
    "\n",
    "print(\n",
    "    \"This image most likely belongs to {} with a {:.2f} percent confidence.\"\n",
    "    .format(class_names[np.argmax(score)], 100 * np.max(score))\n",
    ")"
   ]
  },
  {
   "cell_type": "code",
   "execution_count": 56,
   "metadata": {},
   "outputs": [
    {
     "name": "stdout",
     "output_type": "stream",
     "text": [
      "This image most likely belongs to C Ripe with a 34.32 percent confidence.\n"
     ]
    }
   ],
   "source": [
    "#5\n",
    "\n",
    "rootdir = \"C:/Users/User/Desktop/Category/test/B Ripe/BR14_180.png\"\n",
    "img = tf.keras.utils.load_img(\n",
    "    rootdir, target_size=(160, 160)\n",
    ")\n",
    "\n",
    "img_array = tf.keras.utils.img_to_array(img)\n",
    "img_array = tf.expand_dims(img_array, axis=0) # Create a batch\n",
    "\n",
    "predictions = model.predict(img_array)\n",
    "score = tf.nn.softmax(predictions[0])\n",
    "\n",
    "print(\n",
    "    \"This image most likely belongs to {} with a {:.2f} percent confidence.\"\n",
    "    .format(class_names[np.argmax(score)], 100 * np.max(score))\n",
    ")"
   ]
  },
  {
   "cell_type": "code",
   "execution_count": 57,
   "metadata": {},
   "outputs": [
    {
     "name": "stdout",
     "output_type": "stream",
     "text": [
      "This image most likely belongs to C Ripe with a 23.64 percent confidence.\n"
     ]
    }
   ],
   "source": [
    "#6\n",
    "\n",
    "rootdir = \"C:/Users/User/Desktop/Category/test/B Ripe/BR15_180.png\"\n",
    "img = tf.keras.utils.load_img(\n",
    "    rootdir, target_size=(160, 160)\n",
    ")\n",
    "\n",
    "img_array = tf.keras.utils.img_to_array(img)\n",
    "img_array = tf.expand_dims(img_array, axis=0) # Create a batch\n",
    "\n",
    "predictions = model.predict(img_array)\n",
    "score = tf.nn.softmax(predictions[0])\n",
    "\n",
    "print(\n",
    "    \"This image most likely belongs to {} with a {:.2f} percent confidence.\"\n",
    "    .format(class_names[np.argmax(score)], 100 * np.max(score))\n",
    ")"
   ]
  },
  {
   "cell_type": "code",
   "execution_count": 58,
   "metadata": {},
   "outputs": [
    {
     "name": "stdout",
     "output_type": "stream",
     "text": [
      "This image most likely belongs to C Not Ripe with a 33.98 percent confidence.\n"
     ]
    }
   ],
   "source": [
    "#7\n",
    "\n",
    "rootdir = \"C:/Users/User/Desktop/Category/test/B Ripe/BR16_270.png\"\n",
    "img = tf.keras.utils.load_img(\n",
    "    rootdir, target_size=(160, 160)\n",
    ")\n",
    "\n",
    "img_array = tf.keras.utils.img_to_array(img)\n",
    "img_array = tf.expand_dims(img_array, axis=0) # Create a batch\n",
    "\n",
    "predictions = model.predict(img_array)\n",
    "score = tf.nn.softmax(predictions[0])\n",
    "\n",
    "print(\n",
    "    \"This image most likely belongs to {} with a {:.2f} percent confidence.\"\n",
    "    .format(class_names[np.argmax(score)], 100 * np.max(score))\n",
    ")"
   ]
  },
  {
   "cell_type": "code",
   "execution_count": 59,
   "metadata": {},
   "outputs": [
    {
     "name": "stdout",
     "output_type": "stream",
     "text": [
      "This image most likely belongs to C Not Ripe with a 27.79 percent confidence.\n"
     ]
    }
   ],
   "source": [
    "#8\n",
    "\n",
    "rootdir = \"C:/Users/User/Desktop/Category/test/B Ripe/BR1_90.png\"\n",
    "img = tf.keras.utils.load_img(\n",
    "    rootdir, target_size=(160, 160)\n",
    ")\n",
    "\n",
    "img_array = tf.keras.utils.img_to_array(img)\n",
    "img_array = tf.expand_dims(img_array, axis=0) # Create a batch\n",
    "\n",
    "predictions = model.predict(img_array)\n",
    "score = tf.nn.softmax(predictions[0])\n",
    "\n",
    "print(\n",
    "    \"This image most likely belongs to {} with a {:.2f} percent confidence.\"\n",
    "    .format(class_names[np.argmax(score)], 100 * np.max(score))\n",
    ")"
   ]
  },
  {
   "cell_type": "code",
   "execution_count": 60,
   "metadata": {},
   "outputs": [
    {
     "name": "stdout",
     "output_type": "stream",
     "text": [
      "This image most likely belongs to C Ripe with a 34.26 percent confidence.\n"
     ]
    }
   ],
   "source": [
    "#9\n",
    "\n",
    "rootdir = \"C:/Users/User/Desktop/Category/test/B Ripe/BR2_270.png\"\n",
    "img = tf.keras.utils.load_img(\n",
    "    rootdir, target_size=(160, 160)\n",
    ")\n",
    "\n",
    "img_array = tf.keras.utils.img_to_array(img)\n",
    "img_array = tf.expand_dims(img_array, axis=0) # Create a batch\n",
    "\n",
    "predictions = model.predict(img_array)\n",
    "score = tf.nn.softmax(predictions[0])\n",
    "\n",
    "print(\n",
    "    \"This image most likely belongs to {} with a {:.2f} percent confidence.\"\n",
    "    .format(class_names[np.argmax(score)], 100 * np.max(score))\n",
    ")"
   ]
  },
  {
   "cell_type": "code",
   "execution_count": 61,
   "metadata": {},
   "outputs": [
    {
     "name": "stdout",
     "output_type": "stream",
     "text": [
      "This image most likely belongs to C Ripe with a 32.55 percent confidence.\n"
     ]
    }
   ],
   "source": [
    "#10\n",
    "\n",
    "rootdir = \"C:/Users/User/Desktop/Category/test/B Ripe/BR3_90.png\"\n",
    "img = tf.keras.utils.load_img(\n",
    "    rootdir, target_size=(160, 160)\n",
    ")\n",
    "\n",
    "img_array = tf.keras.utils.img_to_array(img)\n",
    "img_array = tf.expand_dims(img_array, axis=0) # Create a batch\n",
    "\n",
    "predictions = model.predict(img_array)\n",
    "score = tf.nn.softmax(predictions[0])\n",
    "\n",
    "print(\n",
    "    \"This image most likely belongs to {} with a {:.2f} percent confidence.\"\n",
    "    .format(class_names[np.argmax(score)], 100 * np.max(score))\n",
    ")"
   ]
  },
  {
   "cell_type": "code",
   "execution_count": 62,
   "metadata": {},
   "outputs": [
    {
     "name": "stdout",
     "output_type": "stream",
     "text": [
      "This image most likely belongs to C Ripe with a 23.17 percent confidence.\n"
     ]
    }
   ],
   "source": [
    "#11\n",
    "\n",
    "rootdir = \"C:/Users/User/Desktop/Category/test/B Ripe/BR4_180.png\"\n",
    "img = tf.keras.utils.load_img(\n",
    "    rootdir, target_size=(160, 160)\n",
    ")\n",
    "\n",
    "img_array = tf.keras.utils.img_to_array(img)\n",
    "img_array = tf.expand_dims(img_array, axis=0) # Create a batch\n",
    "\n",
    "predictions = model.predict(img_array)\n",
    "score = tf.nn.softmax(predictions[0])\n",
    "\n",
    "print(\n",
    "    \"This image most likely belongs to {} with a {:.2f} percent confidence.\"\n",
    "    .format(class_names[np.argmax(score)], 100 * np.max(score))\n",
    ")"
   ]
  },
  {
   "cell_type": "code",
   "execution_count": 63,
   "metadata": {},
   "outputs": [
    {
     "name": "stdout",
     "output_type": "stream",
     "text": [
      "This image most likely belongs to C Ripe with a 32.53 percent confidence.\n"
     ]
    }
   ],
   "source": [
    "#12\n",
    "\n",
    "rootdir = \"C:/Users/User/Desktop/Category/test/B Ripe/BR5_180.png\"\n",
    "img = tf.keras.utils.load_img(\n",
    "    rootdir, target_size=(160, 160)\n",
    ")\n",
    "\n",
    "img_array = tf.keras.utils.img_to_array(img)\n",
    "img_array = tf.expand_dims(img_array, axis=0) # Create a batch\n",
    "\n",
    "predictions = model.predict(img_array)\n",
    "score = tf.nn.softmax(predictions[0])\n",
    "\n",
    "print(\n",
    "    \"This image most likely belongs to {} with a {:.2f} percent confidence.\"\n",
    "    .format(class_names[np.argmax(score)], 100 * np.max(score))\n",
    ")"
   ]
  },
  {
   "cell_type": "code",
   "execution_count": 64,
   "metadata": {},
   "outputs": [
    {
     "name": "stdout",
     "output_type": "stream",
     "text": [
      "This image most likely belongs to B Ripe with a 35.22 percent confidence.\n"
     ]
    }
   ],
   "source": [
    "#13\n",
    "\n",
    "rootdir = \"C:/Users/User/Desktop/Category/test/B Ripe/BR65_0.png\"\n",
    "img = tf.keras.utils.load_img(\n",
    "    rootdir, target_size=(160, 160)\n",
    ")\n",
    "\n",
    "img_array = tf.keras.utils.img_to_array(img)\n",
    "img_array = tf.expand_dims(img_array, axis=0) # Create a batch\n",
    "\n",
    "predictions = model.predict(img_array)\n",
    "score = tf.nn.softmax(predictions[0])\n",
    "\n",
    "print(\n",
    "    \"This image most likely belongs to {} with a {:.2f} percent confidence.\"\n",
    "    .format(class_names[np.argmax(score)], 100 * np.max(score))\n",
    ")"
   ]
  },
  {
   "cell_type": "code",
   "execution_count": 65,
   "metadata": {},
   "outputs": [
    {
     "name": "stdout",
     "output_type": "stream",
     "text": [
      "This image most likely belongs to A Ripe with a 33.26 percent confidence.\n"
     ]
    }
   ],
   "source": [
    "#14\n",
    "\n",
    "rootdir = \"C:/Users/User/Desktop/Category/test/B Ripe/BR66_270.png\"\n",
    "img = tf.keras.utils.load_img(\n",
    "    rootdir, target_size=(160, 160)\n",
    ")\n",
    "\n",
    "img_array = tf.keras.utils.img_to_array(img)\n",
    "img_array = tf.expand_dims(img_array, axis=0) # Create a batch\n",
    "\n",
    "predictions = model.predict(img_array)\n",
    "score = tf.nn.softmax(predictions[0])\n",
    "\n",
    "print(\n",
    "    \"This image most likely belongs to {} with a {:.2f} percent confidence.\"\n",
    "    .format(class_names[np.argmax(score)], 100 * np.max(score))\n",
    ")"
   ]
  },
  {
   "cell_type": "code",
   "execution_count": 66,
   "metadata": {},
   "outputs": [
    {
     "name": "stdout",
     "output_type": "stream",
     "text": [
      "This image most likely belongs to B Ripe with a 35.15 percent confidence.\n"
     ]
    }
   ],
   "source": [
    "#15\n",
    "\n",
    "rootdir = \"C:/Users/User/Desktop/Category/test/B Ripe/BR67_270.png\"\n",
    "img = tf.keras.utils.load_img(\n",
    "    rootdir, target_size=(160, 160)\n",
    ")\n",
    "\n",
    "img_array = tf.keras.utils.img_to_array(img)\n",
    "img_array = tf.expand_dims(img_array, axis=0) # Create a batch\n",
    "\n",
    "predictions = model.predict(img_array)\n",
    "score = tf.nn.softmax(predictions[0])\n",
    "\n",
    "print(\n",
    "    \"This image most likely belongs to {} with a {:.2f} percent confidence.\"\n",
    "    .format(class_names[np.argmax(score)], 100 * np.max(score))\n",
    ")"
   ]
  },
  {
   "cell_type": "code",
   "execution_count": 67,
   "metadata": {},
   "outputs": [
    {
     "name": "stdout",
     "output_type": "stream",
     "text": [
      "This image most likely belongs to C Ripe with a 28.58 percent confidence.\n"
     ]
    }
   ],
   "source": [
    "#16\n",
    "\n",
    "rootdir = \"C:/Users/User/Desktop/Category/test/B Ripe/BR6_90.png\"\n",
    "img = tf.keras.utils.load_img(\n",
    "    rootdir, target_size=(160, 160)\n",
    ")\n",
    "\n",
    "img_array = tf.keras.utils.img_to_array(img)\n",
    "img_array = tf.expand_dims(img_array, axis=0) # Create a batch\n",
    "\n",
    "predictions = model.predict(img_array)\n",
    "score = tf.nn.softmax(predictions[0])\n",
    "\n",
    "print(\n",
    "    \"This image most likely belongs to {} with a {:.2f} percent confidence.\"\n",
    "    .format(class_names[np.argmax(score)], 100 * np.max(score))\n",
    ")"
   ]
  },
  {
   "cell_type": "code",
   "execution_count": 68,
   "metadata": {},
   "outputs": [
    {
     "name": "stdout",
     "output_type": "stream",
     "text": [
      "This image most likely belongs to C Ripe with a 33.17 percent confidence.\n"
     ]
    }
   ],
   "source": [
    "#17\n",
    "\n",
    "rootdir = \"C:/Users/User/Desktop/Category/test/B Ripe/BR7_90.png\"\n",
    "img = tf.keras.utils.load_img(\n",
    "    rootdir, target_size=(160, 160)\n",
    ")\n",
    "\n",
    "img_array = tf.keras.utils.img_to_array(img)\n",
    "img_array = tf.expand_dims(img_array, axis=0) # Create a batch\n",
    "\n",
    "predictions = model.predict(img_array)\n",
    "score = tf.nn.softmax(predictions[0])\n",
    "\n",
    "print(\n",
    "    \"This image most likely belongs to {} with a {:.2f} percent confidence.\"\n",
    "    .format(class_names[np.argmax(score)], 100 * np.max(score))\n",
    ")"
   ]
  },
  {
   "cell_type": "code",
   "execution_count": 69,
   "metadata": {},
   "outputs": [
    {
     "name": "stdout",
     "output_type": "stream",
     "text": [
      "This image most likely belongs to C Ripe with a 24.95 percent confidence.\n"
     ]
    }
   ],
   "source": [
    "#18\n",
    "\n",
    "rootdir = \"C:/Users/User/Desktop/Category/test/B Ripe/BR8_180.png\"\n",
    "img = tf.keras.utils.load_img(\n",
    "    rootdir, target_size=(160, 160)\n",
    ")\n",
    "\n",
    "img_array = tf.keras.utils.img_to_array(img)\n",
    "img_array = tf.expand_dims(img_array, axis=0) # Create a batch\n",
    "\n",
    "predictions = model.predict(img_array)\n",
    "score = tf.nn.softmax(predictions[0])\n",
    "\n",
    "print(\n",
    "    \"This image most likely belongs to {} with a {:.2f} percent confidence.\"\n",
    "    .format(class_names[np.argmax(score)], 100 * np.max(score))\n",
    ")"
   ]
  },
  {
   "cell_type": "code",
   "execution_count": 70,
   "metadata": {},
   "outputs": [
    {
     "name": "stdout",
     "output_type": "stream",
     "text": [
      "This image most likely belongs to A Ripe with a 30.67 percent confidence.\n"
     ]
    }
   ],
   "source": [
    "#19\n",
    "\n",
    "rootdir = \"C:/Users/User/Desktop/Category/test/B Ripe/BR9_180.png\"\n",
    "img = tf.keras.utils.load_img(\n",
    "    rootdir, target_size=(160, 160)\n",
    ")\n",
    "\n",
    "img_array = tf.keras.utils.img_to_array(img)\n",
    "img_array = tf.expand_dims(img_array, axis=0) # Create a batch\n",
    "\n",
    "predictions = model.predict(img_array)\n",
    "score = tf.nn.softmax(predictions[0])\n",
    "\n",
    "print(\n",
    "    \"This image most likely belongs to {} with a {:.2f} percent confidence.\"\n",
    "    .format(class_names[np.argmax(score)], 100 * np.max(score))\n",
    ")"
   ]
  },
  {
   "cell_type": "code",
   "execution_count": 71,
   "metadata": {},
   "outputs": [
    {
     "name": "stdout",
     "output_type": "stream",
     "text": [
      "This image most likely belongs to B Not Ripe with a 35.21 percent confidence.\n"
     ]
    }
   ],
   "source": [
    "#1 B Not Ripe\n",
    "\n",
    "rootdir = \"C:/Users/User/Desktop/Category/test/B Not Ripe/BNR10_270.png\"\n",
    "img = tf.keras.utils.load_img(\n",
    "    rootdir, target_size=(160, 160)\n",
    ")\n",
    "\n",
    "img_array = tf.keras.utils.img_to_array(img)\n",
    "img_array = tf.expand_dims(img_array, axis=0) # Create a batch\n",
    "\n",
    "predictions = model.predict(img_array)\n",
    "score = tf.nn.softmax(predictions[0])\n",
    "\n",
    "print(\n",
    "    \"This image most likely belongs to {} with a {:.2f} percent confidence.\"\n",
    "    .format(class_names[np.argmax(score)], 100 * np.max(score))\n",
    ")"
   ]
  },
  {
   "cell_type": "code",
   "execution_count": 72,
   "metadata": {},
   "outputs": [
    {
     "name": "stdout",
     "output_type": "stream",
     "text": [
      "This image most likely belongs to B Not Ripe with a 35.09 percent confidence.\n"
     ]
    }
   ],
   "source": [
    "#2\n",
    "\n",
    "rootdir = \"C:/Users/User/Desktop/Category/test/B Not Ripe/BNR11_270.png\"\n",
    "img = tf.keras.utils.load_img(\n",
    "    rootdir, target_size=(160, 160)\n",
    ")\n",
    "\n",
    "img_array = tf.keras.utils.img_to_array(img)\n",
    "img_array = tf.expand_dims(img_array, axis=0) # Create a batch\n",
    "\n",
    "predictions = model.predict(img_array)\n",
    "score = tf.nn.softmax(predictions[0])\n",
    "\n",
    "print(\n",
    "    \"This image most likely belongs to {} with a {:.2f} percent confidence.\"\n",
    "    .format(class_names[np.argmax(score)], 100 * np.max(score))\n",
    ")"
   ]
  },
  {
   "cell_type": "code",
   "execution_count": 73,
   "metadata": {},
   "outputs": [
    {
     "name": "stdout",
     "output_type": "stream",
     "text": [
      "This image most likely belongs to C Not Ripe with a 32.71 percent confidence.\n"
     ]
    }
   ],
   "source": [
    "#3\n",
    "\n",
    "rootdir = \"C:/Users/User/Desktop/Category/test/B Not Ripe/BNR12_270.png\"\n",
    "img = tf.keras.utils.load_img(\n",
    "    rootdir, target_size=(160, 160)\n",
    ")\n",
    "\n",
    "img_array = tf.keras.utils.img_to_array(img)\n",
    "img_array = tf.expand_dims(img_array, axis=0) # Create a batch\n",
    "\n",
    "predictions = model.predict(img_array)\n",
    "score = tf.nn.softmax(predictions[0])\n",
    "\n",
    "print(\n",
    "    \"This image most likely belongs to {} with a {:.2f} percent confidence.\"\n",
    "    .format(class_names[np.argmax(score)], 100 * np.max(score))\n",
    ")"
   ]
  },
  {
   "cell_type": "code",
   "execution_count": 74,
   "metadata": {},
   "outputs": [
    {
     "name": "stdout",
     "output_type": "stream",
     "text": [
      "This image most likely belongs to B Ripe with a 34.51 percent confidence.\n"
     ]
    }
   ],
   "source": [
    "#4\n",
    "\n",
    "rootdir = \"C:/Users/User/Desktop/Category/test/B Not Ripe/BNR13_180.png\"\n",
    "img = tf.keras.utils.load_img(\n",
    "    rootdir, target_size=(160, 160)\n",
    ")\n",
    "\n",
    "img_array = tf.keras.utils.img_to_array(img)\n",
    "img_array = tf.expand_dims(img_array, axis=0) # Create a batch\n",
    "\n",
    "predictions = model.predict(img_array)\n",
    "score = tf.nn.softmax(predictions[0])\n",
    "\n",
    "print(\n",
    "    \"This image most likely belongs to {} with a {:.2f} percent confidence.\"\n",
    "    .format(class_names[np.argmax(score)], 100 * np.max(score))\n",
    ")"
   ]
  },
  {
   "cell_type": "code",
   "execution_count": 75,
   "metadata": {},
   "outputs": [
    {
     "name": "stdout",
     "output_type": "stream",
     "text": [
      "This image most likely belongs to B Not Ripe with a 35.21 percent confidence.\n"
     ]
    }
   ],
   "source": [
    "#5\n",
    "\n",
    "rootdir = \"C:/Users/User/Desktop/Category/test/B Not Ripe/BNR14_0.png\"\n",
    "img = tf.keras.utils.load_img(\n",
    "    rootdir, target_size=(160, 160)\n",
    ")\n",
    "\n",
    "img_array = tf.keras.utils.img_to_array(img)\n",
    "img_array = tf.expand_dims(img_array, axis=0) # Create a batch\n",
    "\n",
    "predictions = model.predict(img_array)\n",
    "score = tf.nn.softmax(predictions[0])\n",
    "\n",
    "print(\n",
    "    \"This image most likely belongs to {} with a {:.2f} percent confidence.\"\n",
    "    .format(class_names[np.argmax(score)], 100 * np.max(score))\n",
    ")"
   ]
  },
  {
   "cell_type": "code",
   "execution_count": 76,
   "metadata": {},
   "outputs": [
    {
     "name": "stdout",
     "output_type": "stream",
     "text": [
      "This image most likely belongs to C Ripe with a 20.94 percent confidence.\n"
     ]
    }
   ],
   "source": [
    "#6\n",
    "\n",
    "rootdir = \"C:/Users/User/Desktop/Category/test/B Not Ripe/BNR15_90.png\"\n",
    "img = tf.keras.utils.load_img(\n",
    "    rootdir, target_size=(160, 160)\n",
    ")\n",
    "\n",
    "img_array = tf.keras.utils.img_to_array(img)\n",
    "img_array = tf.expand_dims(img_array, axis=0) # Create a batch\n",
    "\n",
    "predictions = model.predict(img_array)\n",
    "score = tf.nn.softmax(predictions[0])\n",
    "\n",
    "print(\n",
    "    \"This image most likely belongs to {} with a {:.2f} percent confidence.\"\n",
    "    .format(class_names[np.argmax(score)], 100 * np.max(score))\n",
    ")"
   ]
  },
  {
   "cell_type": "code",
   "execution_count": 77,
   "metadata": {},
   "outputs": [
    {
     "name": "stdout",
     "output_type": "stream",
     "text": [
      "This image most likely belongs to B Ripe with a 32.04 percent confidence.\n"
     ]
    }
   ],
   "source": [
    "#7\n",
    "\n",
    "rootdir = \"C:/Users/User/Desktop/Category/test/B Not Ripe/BNR16_270.png\"\n",
    "img = tf.keras.utils.load_img(\n",
    "    rootdir, target_size=(160, 160)\n",
    ")\n",
    "\n",
    "img_array = tf.keras.utils.img_to_array(img)\n",
    "img_array = tf.expand_dims(img_array, axis=0) # Create a batch\n",
    "\n",
    "predictions = model.predict(img_array)\n",
    "score = tf.nn.softmax(predictions[0])\n",
    "\n",
    "print(\n",
    "    \"This image most likely belongs to {} with a {:.2f} percent confidence.\"\n",
    "    .format(class_names[np.argmax(score)], 100 * np.max(score))\n",
    ")"
   ]
  },
  {
   "cell_type": "code",
   "execution_count": 78,
   "metadata": {},
   "outputs": [
    {
     "name": "stdout",
     "output_type": "stream",
     "text": [
      "This image most likely belongs to B Not Ripe with a 35.21 percent confidence.\n"
     ]
    }
   ],
   "source": [
    "#8\n",
    "\n",
    "rootdir = \"C:/Users/User/Desktop/Category/test/B Not Ripe/BNR1_0.png\"\n",
    "img = tf.keras.utils.load_img(\n",
    "    rootdir, target_size=(160, 160)\n",
    ")\n",
    "\n",
    "img_array = tf.keras.utils.img_to_array(img)\n",
    "img_array = tf.expand_dims(img_array, axis=0) # Create a batch\n",
    "\n",
    "predictions = model.predict(img_array)\n",
    "score = tf.nn.softmax(predictions[0])\n",
    "\n",
    "print(\n",
    "    \"This image most likely belongs to {} with a {:.2f} percent confidence.\"\n",
    "    .format(class_names[np.argmax(score)], 100 * np.max(score))\n",
    ")"
   ]
  },
  {
   "cell_type": "code",
   "execution_count": 79,
   "metadata": {},
   "outputs": [
    {
     "name": "stdout",
     "output_type": "stream",
     "text": [
      "This image most likely belongs to B Not Ripe with a 35.22 percent confidence.\n"
     ]
    }
   ],
   "source": [
    "#9\n",
    "\n",
    "rootdir = \"C:/Users/User/Desktop/Category/test/B Not Ripe/BNR2_0.png\"\n",
    "img = tf.keras.utils.load_img(\n",
    "    rootdir, target_size=(160, 160)\n",
    ")\n",
    "\n",
    "img_array = tf.keras.utils.img_to_array(img)\n",
    "img_array = tf.expand_dims(img_array, axis=0) # Create a batch\n",
    "\n",
    "predictions = model.predict(img_array)\n",
    "score = tf.nn.softmax(predictions[0])\n",
    "\n",
    "print(\n",
    "    \"This image most likely belongs to {} with a {:.2f} percent confidence.\"\n",
    "    .format(class_names[np.argmax(score)], 100 * np.max(score))\n",
    ")"
   ]
  },
  {
   "cell_type": "code",
   "execution_count": 80,
   "metadata": {},
   "outputs": [
    {
     "name": "stdout",
     "output_type": "stream",
     "text": [
      "This image most likely belongs to C Ripe with a 26.33 percent confidence.\n"
     ]
    }
   ],
   "source": [
    "#10\n",
    "\n",
    "rootdir = \"C:/Users/User/Desktop/Category/test/B Not Ripe/BNR3_270.png\"\n",
    "img = tf.keras.utils.load_img(\n",
    "    rootdir, target_size=(160, 160)\n",
    ")\n",
    "\n",
    "img_array = tf.keras.utils.img_to_array(img)\n",
    "img_array = tf.expand_dims(img_array, axis=0) # Create a batch\n",
    "\n",
    "predictions = model.predict(img_array)\n",
    "score = tf.nn.softmax(predictions[0])\n",
    "\n",
    "print(\n",
    "    \"This image most likely belongs to {} with a {:.2f} percent confidence.\"\n",
    "    .format(class_names[np.argmax(score)], 100 * np.max(score))\n",
    ")"
   ]
  },
  {
   "cell_type": "code",
   "execution_count": 81,
   "metadata": {},
   "outputs": [
    {
     "name": "stdout",
     "output_type": "stream",
     "text": [
      "This image most likely belongs to B Not Ripe with a 35.22 percent confidence.\n"
     ]
    }
   ],
   "source": [
    "#11\n",
    "\n",
    "rootdir = \"C:/Users/User/Desktop/Category/test/B Not Ripe/BNR4_0.png\"\n",
    "img = tf.keras.utils.load_img(\n",
    "    rootdir, target_size=(160, 160)\n",
    ")\n",
    "\n",
    "img_array = tf.keras.utils.img_to_array(img)\n",
    "img_array = tf.expand_dims(img_array, axis=0) # Create a batch\n",
    "\n",
    "predictions = model.predict(img_array)\n",
    "score = tf.nn.softmax(predictions[0])\n",
    "\n",
    "print(\n",
    "    \"This image most likely belongs to {} with a {:.2f} percent confidence.\"\n",
    "    .format(class_names[np.argmax(score)], 100 * np.max(score))\n",
    ")"
   ]
  },
  {
   "cell_type": "code",
   "execution_count": 82,
   "metadata": {},
   "outputs": [
    {
     "name": "stdout",
     "output_type": "stream",
     "text": [
      "This image most likely belongs to B Ripe with a 34.48 percent confidence.\n"
     ]
    }
   ],
   "source": [
    "#12\n",
    "\n",
    "rootdir = \"C:/Users/User/Desktop/Category/test/B Not Ripe/BNR5_90.png\"\n",
    "img = tf.keras.utils.load_img(\n",
    "    rootdir, target_size=(160, 160)\n",
    ")\n",
    "\n",
    "img_array = tf.keras.utils.img_to_array(img)\n",
    "img_array = tf.expand_dims(img_array, axis=0) # Create a batch\n",
    "\n",
    "predictions = model.predict(img_array)\n",
    "score = tf.nn.softmax(predictions[0])\n",
    "\n",
    "print(\n",
    "    \"This image most likely belongs to {} with a {:.2f} percent confidence.\"\n",
    "    .format(class_names[np.argmax(score)], 100 * np.max(score))\n",
    ")"
   ]
  },
  {
   "cell_type": "code",
   "execution_count": 83,
   "metadata": {},
   "outputs": [
    {
     "name": "stdout",
     "output_type": "stream",
     "text": [
      "This image most likely belongs to C Ripe with a 25.91 percent confidence.\n"
     ]
    }
   ],
   "source": [
    "#13\n",
    "\n",
    "rootdir = \"C:/Users/User/Desktop/Category/test/B Not Ripe/BNR69_180.png\"\n",
    "img = tf.keras.utils.load_img(\n",
    "    rootdir, target_size=(160, 160)\n",
    ")\n",
    "\n",
    "img_array = tf.keras.utils.img_to_array(img)\n",
    "img_array = tf.expand_dims(img_array, axis=0) # Create a batch\n",
    "\n",
    "predictions = model.predict(img_array)\n",
    "score = tf.nn.softmax(predictions[0])\n",
    "\n",
    "print(\n",
    "    \"This image most likely belongs to {} with a {:.2f} percent confidence.\"\n",
    "    .format(class_names[np.argmax(score)], 100 * np.max(score))\n",
    ")"
   ]
  },
  {
   "cell_type": "code",
   "execution_count": 84,
   "metadata": {},
   "outputs": [
    {
     "name": "stdout",
     "output_type": "stream",
     "text": [
      "This image most likely belongs to C Not Ripe with a 34.61 percent confidence.\n"
     ]
    }
   ],
   "source": [
    "#14\n",
    "\n",
    "rootdir = \"C:/Users/User/Desktop/Category/test/B Not Ripe/BNR6_0.png\"\n",
    "img = tf.keras.utils.load_img(\n",
    "    rootdir, target_size=(160, 160)\n",
    ")\n",
    "\n",
    "img_array = tf.keras.utils.img_to_array(img)\n",
    "img_array = tf.expand_dims(img_array, axis=0) # Create a batch\n",
    "\n",
    "predictions = model.predict(img_array)\n",
    "score = tf.nn.softmax(predictions[0])\n",
    "\n",
    "print(\n",
    "    \"This image most likely belongs to {} with a {:.2f} percent confidence.\"\n",
    "    .format(class_names[np.argmax(score)], 100 * np.max(score))\n",
    ")"
   ]
  },
  {
   "cell_type": "code",
   "execution_count": 85,
   "metadata": {},
   "outputs": [
    {
     "name": "stdout",
     "output_type": "stream",
     "text": [
      "This image most likely belongs to C Not Ripe with a 20.91 percent confidence.\n"
     ]
    }
   ],
   "source": [
    "#15\n",
    "\n",
    "rootdir = \"C:/Users/User/Desktop/Category/test/B Not Ripe/BNR70_180.png\"\n",
    "img = tf.keras.utils.load_img(\n",
    "    rootdir, target_size=(160, 160)\n",
    ")\n",
    "\n",
    "img_array = tf.keras.utils.img_to_array(img)\n",
    "img_array = tf.expand_dims(img_array, axis=0) # Create a batch\n",
    "\n",
    "predictions = model.predict(img_array)\n",
    "score = tf.nn.softmax(predictions[0])\n",
    "\n",
    "print(\n",
    "    \"This image most likely belongs to {} with a {:.2f} percent confidence.\"\n",
    "    .format(class_names[np.argmax(score)], 100 * np.max(score))\n",
    ")"
   ]
  },
  {
   "cell_type": "code",
   "execution_count": 86,
   "metadata": {},
   "outputs": [
    {
     "name": "stdout",
     "output_type": "stream",
     "text": [
      "This image most likely belongs to B Not Ripe with a 35.21 percent confidence.\n"
     ]
    }
   ],
   "source": [
    "#16\n",
    "\n",
    "rootdir = \"C:/Users/User/Desktop/Category/test/B Not Ripe/BNR71_270.png\"\n",
    "img = tf.keras.utils.load_img(\n",
    "    rootdir, target_size=(160, 160)\n",
    ")\n",
    "\n",
    "img_array = tf.keras.utils.img_to_array(img)\n",
    "img_array = tf.expand_dims(img_array, axis=0) # Create a batch\n",
    "\n",
    "predictions = model.predict(img_array)\n",
    "score = tf.nn.softmax(predictions[0])\n",
    "\n",
    "print(\n",
    "    \"This image most likely belongs to {} with a {:.2f} percent confidence.\"\n",
    "    .format(class_names[np.argmax(score)], 100 * np.max(score))\n",
    ")"
   ]
  },
  {
   "cell_type": "code",
   "execution_count": 87,
   "metadata": {},
   "outputs": [
    {
     "name": "stdout",
     "output_type": "stream",
     "text": [
      "This image most likely belongs to B Not Ripe with a 35.22 percent confidence.\n"
     ]
    }
   ],
   "source": [
    "#17\n",
    "\n",
    "rootdir = \"C:/Users/User/Desktop/Category/test/B Not Ripe/BNR7_0.png\"\n",
    "img = tf.keras.utils.load_img(\n",
    "    rootdir, target_size=(160, 160)\n",
    ")\n",
    "\n",
    "img_array = tf.keras.utils.img_to_array(img)\n",
    "img_array = tf.expand_dims(img_array, axis=0) # Create a batch\n",
    "\n",
    "predictions = model.predict(img_array)\n",
    "score = tf.nn.softmax(predictions[0])\n",
    "\n",
    "print(\n",
    "    \"This image most likely belongs to {} with a {:.2f} percent confidence.\"\n",
    "    .format(class_names[np.argmax(score)], 100 * np.max(score))\n",
    ")"
   ]
  },
  {
   "cell_type": "code",
   "execution_count": 88,
   "metadata": {},
   "outputs": [
    {
     "name": "stdout",
     "output_type": "stream",
     "text": [
      "This image most likely belongs to B Not Ripe with a 32.58 percent confidence.\n"
     ]
    }
   ],
   "source": [
    "#18\n",
    "\n",
    "rootdir = \"C:/Users/User/Desktop/Category/test/B Not Ripe/BNR8_180.png\"\n",
    "img = tf.keras.utils.load_img(\n",
    "    rootdir, target_size=(160, 160)\n",
    ")\n",
    "\n",
    "img_array = tf.keras.utils.img_to_array(img)\n",
    "img_array = tf.expand_dims(img_array, axis=0) # Create a batch\n",
    "\n",
    "predictions = model.predict(img_array)\n",
    "score = tf.nn.softmax(predictions[0])\n",
    "\n",
    "print(\n",
    "    \"This image most likely belongs to {} with a {:.2f} percent confidence.\"\n",
    "    .format(class_names[np.argmax(score)], 100 * np.max(score))\n",
    ")"
   ]
  },
  {
   "cell_type": "code",
   "execution_count": 89,
   "metadata": {},
   "outputs": [
    {
     "name": "stdout",
     "output_type": "stream",
     "text": [
      "This image most likely belongs to C Ripe with a 35.11 percent confidence.\n"
     ]
    }
   ],
   "source": [
    "#19\n",
    "\n",
    "rootdir = \"C:/Users/User/Desktop/Category/test/B Not Ripe/BNR9_90.png\"\n",
    "img = tf.keras.utils.load_img(\n",
    "    rootdir, target_size=(160, 160)\n",
    ")\n",
    "\n",
    "img_array = tf.keras.utils.img_to_array(img)\n",
    "img_array = tf.expand_dims(img_array, axis=0) # Create a batch\n",
    "\n",
    "predictions = model.predict(img_array)\n",
    "score = tf.nn.softmax(predictions[0])\n",
    "\n",
    "print(\n",
    "    \"This image most likely belongs to {} with a {:.2f} percent confidence.\"\n",
    "    .format(class_names[np.argmax(score)], 100 * np.max(score))\n",
    ")"
   ]
  },
  {
   "cell_type": "code",
   "execution_count": 90,
   "metadata": {},
   "outputs": [
    {
     "name": "stdout",
     "output_type": "stream",
     "text": [
      "This image most likely belongs to C Ripe with a 35.22 percent confidence.\n"
     ]
    }
   ],
   "source": [
    "#1 C Ripe\n",
    "\n",
    "rootdir = \"C:/Users/User/Desktop/Category/test/C Ripe/CR11_0.png\"\n",
    "img = tf.keras.utils.load_img(\n",
    "    rootdir, target_size=(160, 160)\n",
    ")\n",
    "\n",
    "img_array = tf.keras.utils.img_to_array(img)\n",
    "img_array = tf.expand_dims(img_array, axis=0) # Create a batch\n",
    "\n",
    "predictions = model.predict(img_array)\n",
    "score = tf.nn.softmax(predictions[0])\n",
    "\n",
    "print(\n",
    "    \"This image most likely belongs to {} with a {:.2f} percent confidence.\"\n",
    "    .format(class_names[np.argmax(score)], 100 * np.max(score))\n",
    ")"
   ]
  },
  {
   "cell_type": "code",
   "execution_count": 91,
   "metadata": {},
   "outputs": [
    {
     "name": "stdout",
     "output_type": "stream",
     "text": [
      "This image most likely belongs to C Ripe with a 32.41 percent confidence.\n"
     ]
    }
   ],
   "source": [
    "#2\n",
    "\n",
    "rootdir = \"C:/Users/User/Desktop/Category/test/C Ripe/CR13_0.png\"\n",
    "img = tf.keras.utils.load_img(\n",
    "    rootdir, target_size=(160, 160)\n",
    ")\n",
    "\n",
    "img_array = tf.keras.utils.img_to_array(img)\n",
    "img_array = tf.expand_dims(img_array, axis=0) # Create a batch\n",
    "\n",
    "predictions = model.predict(img_array)\n",
    "score = tf.nn.softmax(predictions[0])\n",
    "\n",
    "print(\n",
    "    \"This image most likely belongs to {} with a {:.2f} percent confidence.\"\n",
    "    .format(class_names[np.argmax(score)], 100 * np.max(score))\n",
    ")"
   ]
  },
  {
   "cell_type": "code",
   "execution_count": 92,
   "metadata": {},
   "outputs": [
    {
     "name": "stdout",
     "output_type": "stream",
     "text": [
      "This image most likely belongs to C Ripe with a 35.21 percent confidence.\n"
     ]
    }
   ],
   "source": [
    "#3\n",
    "\n",
    "rootdir = \"C:/Users/User/Desktop/Category/test/C Ripe/CR22_0.png\"\n",
    "img = tf.keras.utils.load_img(\n",
    "    rootdir, target_size=(160, 160)\n",
    ")\n",
    "\n",
    "img_array = tf.keras.utils.img_to_array(img)\n",
    "img_array = tf.expand_dims(img_array, axis=0) # Create a batch\n",
    "\n",
    "predictions = model.predict(img_array)\n",
    "score = tf.nn.softmax(predictions[0])\n",
    "\n",
    "print(\n",
    "    \"This image most likely belongs to {} with a {:.2f} percent confidence.\"\n",
    "    .format(class_names[np.argmax(score)], 100 * np.max(score))\n",
    ")"
   ]
  },
  {
   "cell_type": "code",
   "execution_count": 93,
   "metadata": {},
   "outputs": [
    {
     "name": "stdout",
     "output_type": "stream",
     "text": [
      "This image most likely belongs to C Ripe with a 35.21 percent confidence.\n"
     ]
    }
   ],
   "source": [
    "#4\n",
    "\n",
    "rootdir = \"C:/Users/User/Desktop/Category/test/C Ripe/CR24_0.png\"\n",
    "img = tf.keras.utils.load_img(\n",
    "    rootdir, target_size=(160, 160)\n",
    ")\n",
    "\n",
    "img_array = tf.keras.utils.img_to_array(img)\n",
    "img_array = tf.expand_dims(img_array, axis=0) # Create a batch\n",
    "\n",
    "predictions = model.predict(img_array)\n",
    "score = tf.nn.softmax(predictions[0])\n",
    "\n",
    "print(\n",
    "    \"This image most likely belongs to {} with a {:.2f} percent confidence.\"\n",
    "    .format(class_names[np.argmax(score)], 100 * np.max(score))\n",
    ")"
   ]
  },
  {
   "cell_type": "code",
   "execution_count": 94,
   "metadata": {},
   "outputs": [
    {
     "name": "stdout",
     "output_type": "stream",
     "text": [
      "This image most likely belongs to C Ripe with a 35.22 percent confidence.\n"
     ]
    }
   ],
   "source": [
    "#5\n",
    "\n",
    "rootdir = \"C:/Users/User/Desktop/Category/test/C Ripe/CR30_0.png\"\n",
    "img = tf.keras.utils.load_img(\n",
    "    rootdir, target_size=(160, 160)\n",
    ")\n",
    "\n",
    "img_array = tf.keras.utils.img_to_array(img)\n",
    "img_array = tf.expand_dims(img_array, axis=0) # Create a batch\n",
    "\n",
    "predictions = model.predict(img_array)\n",
    "score = tf.nn.softmax(predictions[0])\n",
    "\n",
    "print(\n",
    "    \"This image most likely belongs to {} with a {:.2f} percent confidence.\"\n",
    "    .format(class_names[np.argmax(score)], 100 * np.max(score))\n",
    ")"
   ]
  },
  {
   "cell_type": "code",
   "execution_count": 95,
   "metadata": {},
   "outputs": [
    {
     "name": "stdout",
     "output_type": "stream",
     "text": [
      "This image most likely belongs to C Ripe with a 35.21 percent confidence.\n"
     ]
    }
   ],
   "source": [
    "#6\n",
    "\n",
    "rootdir = \"C:/Users/User/Desktop/Category/test/C Ripe/CR32_0.png\"\n",
    "img = tf.keras.utils.load_img(\n",
    "    rootdir, target_size=(160, 160)\n",
    ")\n",
    "\n",
    "img_array = tf.keras.utils.img_to_array(img)\n",
    "img_array = tf.expand_dims(img_array, axis=0) # Create a batch\n",
    "\n",
    "predictions = model.predict(img_array)\n",
    "score = tf.nn.softmax(predictions[0])\n",
    "\n",
    "print(\n",
    "    \"This image most likely belongs to {} with a {:.2f} percent confidence.\"\n",
    "    .format(class_names[np.argmax(score)], 100 * np.max(score))\n",
    ")"
   ]
  },
  {
   "cell_type": "code",
   "execution_count": 96,
   "metadata": {},
   "outputs": [
    {
     "name": "stdout",
     "output_type": "stream",
     "text": [
      "This image most likely belongs to C Ripe with a 35.21 percent confidence.\n"
     ]
    }
   ],
   "source": [
    "#7\n",
    "\n",
    "rootdir = \"C:/Users/User/Desktop/Category/test/C Ripe/CR38_0.png\"\n",
    "img = tf.keras.utils.load_img(\n",
    "    rootdir, target_size=(160, 160)\n",
    ")\n",
    "\n",
    "img_array = tf.keras.utils.img_to_array(img)\n",
    "img_array = tf.expand_dims(img_array, axis=0) # Create a batch\n",
    "\n",
    "predictions = model.predict(img_array)\n",
    "score = tf.nn.softmax(predictions[0])\n",
    "\n",
    "print(\n",
    "    \"This image most likely belongs to {} with a {:.2f} percent confidence.\"\n",
    "    .format(class_names[np.argmax(score)], 100 * np.max(score))\n",
    ")"
   ]
  },
  {
   "cell_type": "code",
   "execution_count": 97,
   "metadata": {},
   "outputs": [
    {
     "name": "stdout",
     "output_type": "stream",
     "text": [
      "This image most likely belongs to C Not Ripe with a 31.83 percent confidence.\n"
     ]
    }
   ],
   "source": [
    "#8\n",
    "\n",
    "rootdir = \"C:/Users/User/Desktop/Category/test/C Ripe/CR44_0.png\"\n",
    "img = tf.keras.utils.load_img(\n",
    "    rootdir, target_size=(160, 160)\n",
    ")\n",
    "\n",
    "img_array = tf.keras.utils.img_to_array(img)\n",
    "img_array = tf.expand_dims(img_array, axis=0) # Create a batch\n",
    "\n",
    "predictions = model.predict(img_array)\n",
    "score = tf.nn.softmax(predictions[0])\n",
    "\n",
    "print(\n",
    "    \"This image most likely belongs to {} with a {:.2f} percent confidence.\"\n",
    "    .format(class_names[np.argmax(score)], 100 * np.max(score))\n",
    ")"
   ]
  },
  {
   "cell_type": "code",
   "execution_count": 98,
   "metadata": {},
   "outputs": [
    {
     "name": "stdout",
     "output_type": "stream",
     "text": [
      "This image most likely belongs to C Ripe with a 35.22 percent confidence.\n"
     ]
    }
   ],
   "source": [
    "#9\n",
    "\n",
    "rootdir = \"C:/Users/User/Desktop/Category/test/C Ripe/CR45_0.png\"\n",
    "img = tf.keras.utils.load_img(\n",
    "    rootdir, target_size=(160, 160)\n",
    ")\n",
    "\n",
    "img_array = tf.keras.utils.img_to_array(img)\n",
    "img_array = tf.expand_dims(img_array, axis=0) # Create a batch\n",
    "\n",
    "predictions = model.predict(img_array)\n",
    "score = tf.nn.softmax(predictions[0])\n",
    "\n",
    "print(\n",
    "    \"This image most likely belongs to {} with a {:.2f} percent confidence.\"\n",
    "    .format(class_names[np.argmax(score)], 100 * np.max(score))\n",
    ")"
   ]
  },
  {
   "cell_type": "code",
   "execution_count": 99,
   "metadata": {},
   "outputs": [
    {
     "name": "stdout",
     "output_type": "stream",
     "text": [
      "This image most likely belongs to C Ripe with a 35.22 percent confidence.\n"
     ]
    }
   ],
   "source": [
    "#10\n",
    "\n",
    "rootdir = \"C:/Users/User/Desktop/Category/test/C Ripe/CR46_0.png\"\n",
    "img = tf.keras.utils.load_img(\n",
    "    rootdir, target_size=(160, 160)\n",
    ")\n",
    "\n",
    "img_array = tf.keras.utils.img_to_array(img)\n",
    "img_array = tf.expand_dims(img_array, axis=0) # Create a batch\n",
    "\n",
    "predictions = model.predict(img_array)\n",
    "score = tf.nn.softmax(predictions[0])\n",
    "\n",
    "print(\n",
    "    \"This image most likely belongs to {} with a {:.2f} percent confidence.\"\n",
    "    .format(class_names[np.argmax(score)], 100 * np.max(score))\n",
    ")"
   ]
  },
  {
   "cell_type": "code",
   "execution_count": 100,
   "metadata": {},
   "outputs": [
    {
     "name": "stdout",
     "output_type": "stream",
     "text": [
      "This image most likely belongs to C Ripe with a 35.22 percent confidence.\n"
     ]
    }
   ],
   "source": [
    "#11\n",
    "\n",
    "rootdir = \"C:/Users/User/Desktop/Category/test/C Ripe/CR47_0.png\"\n",
    "img = tf.keras.utils.load_img(\n",
    "    rootdir, target_size=(160, 160)\n",
    ")\n",
    "\n",
    "img_array = tf.keras.utils.img_to_array(img)\n",
    "img_array = tf.expand_dims(img_array, axis=0) # Create a batch\n",
    "\n",
    "predictions = model.predict(img_array)\n",
    "score = tf.nn.softmax(predictions[0])\n",
    "\n",
    "print(\n",
    "    \"This image most likely belongs to {} with a {:.2f} percent confidence.\"\n",
    "    .format(class_names[np.argmax(score)], 100 * np.max(score))\n",
    ")"
   ]
  },
  {
   "cell_type": "code",
   "execution_count": 101,
   "metadata": {},
   "outputs": [
    {
     "name": "stdout",
     "output_type": "stream",
     "text": [
      "This image most likely belongs to C Ripe with a 35.21 percent confidence.\n"
     ]
    }
   ],
   "source": [
    "#12\n",
    "\n",
    "rootdir = \"C:/Users/User/Desktop/Category/test/C Ripe/CR4_0.png\"\n",
    "img = tf.keras.utils.load_img(\n",
    "    rootdir, target_size=(160, 160)\n",
    ")\n",
    "\n",
    "img_array = tf.keras.utils.img_to_array(img)\n",
    "img_array = tf.expand_dims(img_array, axis=0) # Create a batch\n",
    "\n",
    "predictions = model.predict(img_array)\n",
    "score = tf.nn.softmax(predictions[0])\n",
    "\n",
    "print(\n",
    "    \"This image most likely belongs to {} with a {:.2f} percent confidence.\"\n",
    "    .format(class_names[np.argmax(score)], 100 * np.max(score))\n",
    ")"
   ]
  },
  {
   "cell_type": "code",
   "execution_count": 102,
   "metadata": {},
   "outputs": [
    {
     "name": "stdout",
     "output_type": "stream",
     "text": [
      "This image most likely belongs to C Ripe with a 35.21 percent confidence.\n"
     ]
    }
   ],
   "source": [
    "#13\n",
    "\n",
    "rootdir = \"C:/Users/User/Desktop/Category/test/C Ripe/CR50_0.png\"\n",
    "img = tf.keras.utils.load_img(\n",
    "    rootdir, target_size=(160, 160)\n",
    ")\n",
    "\n",
    "img_array = tf.keras.utils.img_to_array(img)\n",
    "img_array = tf.expand_dims(img_array, axis=0) # Create a batch\n",
    "\n",
    "predictions = model.predict(img_array)\n",
    "score = tf.nn.softmax(predictions[0])\n",
    "\n",
    "print(\n",
    "    \"This image most likely belongs to {} with a {:.2f} percent confidence.\"\n",
    "    .format(class_names[np.argmax(score)], 100 * np.max(score))\n",
    ")"
   ]
  },
  {
   "cell_type": "code",
   "execution_count": 103,
   "metadata": {},
   "outputs": [
    {
     "name": "stdout",
     "output_type": "stream",
     "text": [
      "This image most likely belongs to C Ripe with a 35.22 percent confidence.\n"
     ]
    }
   ],
   "source": [
    "#14\n",
    "\n",
    "rootdir = \"C:/Users/User/Desktop/Category/test/C Ripe/CR51_0.png\"\n",
    "img = tf.keras.utils.load_img(\n",
    "    rootdir, target_size=(160, 160)\n",
    ")\n",
    "\n",
    "img_array = tf.keras.utils.img_to_array(img)\n",
    "img_array = tf.expand_dims(img_array, axis=0) # Create a batch\n",
    "\n",
    "predictions = model.predict(img_array)\n",
    "score = tf.nn.softmax(predictions[0])\n",
    "\n",
    "print(\n",
    "    \"This image most likely belongs to {} with a {:.2f} percent confidence.\"\n",
    "    .format(class_names[np.argmax(score)], 100 * np.max(score))\n",
    ")"
   ]
  },
  {
   "cell_type": "code",
   "execution_count": 104,
   "metadata": {},
   "outputs": [
    {
     "name": "stdout",
     "output_type": "stream",
     "text": [
      "This image most likely belongs to C Ripe with a 35.22 percent confidence.\n"
     ]
    }
   ],
   "source": [
    "#15\n",
    "\n",
    "rootdir = \"C:/Users/User/Desktop/Category/test/C Ripe/CR60_0.png\"\n",
    "img = tf.keras.utils.load_img(\n",
    "    rootdir, target_size=(160, 160)\n",
    ")\n",
    "\n",
    "img_array = tf.keras.utils.img_to_array(img)\n",
    "img_array = tf.expand_dims(img_array, axis=0) # Create a batch\n",
    "\n",
    "predictions = model.predict(img_array)\n",
    "score = tf.nn.softmax(predictions[0])\n",
    "\n",
    "print(\n",
    "    \"This image most likely belongs to {} with a {:.2f} percent confidence.\"\n",
    "    .format(class_names[np.argmax(score)], 100 * np.max(score))\n",
    ")"
   ]
  },
  {
   "cell_type": "code",
   "execution_count": 105,
   "metadata": {},
   "outputs": [
    {
     "name": "stdout",
     "output_type": "stream",
     "text": [
      "This image most likely belongs to C Ripe with a 35.21 percent confidence.\n"
     ]
    }
   ],
   "source": [
    "#16\n",
    "\n",
    "rootdir = \"C:/Users/User/Desktop/Category/test/C Ripe/CR62_0.png\"\n",
    "img = tf.keras.utils.load_img(\n",
    "    rootdir, target_size=(160, 160)\n",
    ")\n",
    "\n",
    "img_array = tf.keras.utils.img_to_array(img)\n",
    "img_array = tf.expand_dims(img_array, axis=0) # Create a batch\n",
    "\n",
    "predictions = model.predict(img_array)\n",
    "score = tf.nn.softmax(predictions[0])\n",
    "\n",
    "print(\n",
    "    \"This image most likely belongs to {} with a {:.2f} percent confidence.\"\n",
    "    .format(class_names[np.argmax(score)], 100 * np.max(score))\n",
    ")"
   ]
  },
  {
   "cell_type": "code",
   "execution_count": 106,
   "metadata": {},
   "outputs": [
    {
     "name": "stdout",
     "output_type": "stream",
     "text": [
      "This image most likely belongs to C Ripe with a 35.22 percent confidence.\n"
     ]
    }
   ],
   "source": [
    "#17\n",
    "\n",
    "rootdir = \"C:/Users/User/Desktop/Category/test/C Ripe/CR63_0.png\"\n",
    "img = tf.keras.utils.load_img(\n",
    "    rootdir, target_size=(160, 160)\n",
    ")\n",
    "\n",
    "img_array = tf.keras.utils.img_to_array(img)\n",
    "img_array = tf.expand_dims(img_array, axis=0) # Create a batch\n",
    "\n",
    "predictions = model.predict(img_array)\n",
    "score = tf.nn.softmax(predictions[0])\n",
    "\n",
    "print(\n",
    "    \"This image most likely belongs to {} with a {:.2f} percent confidence.\"\n",
    "    .format(class_names[np.argmax(score)], 100 * np.max(score))\n",
    ")"
   ]
  },
  {
   "cell_type": "code",
   "execution_count": 107,
   "metadata": {},
   "outputs": [
    {
     "name": "stdout",
     "output_type": "stream",
     "text": [
      "This image most likely belongs to C Ripe with a 35.21 percent confidence.\n"
     ]
    }
   ],
   "source": [
    "#18\n",
    "\n",
    "rootdir = \"C:/Users/User/Desktop/Category/test/C Ripe/CR64_0.png\"\n",
    "img = tf.keras.utils.load_img(\n",
    "    rootdir, target_size=(160, 160)\n",
    ")\n",
    "\n",
    "img_array = tf.keras.utils.img_to_array(img)\n",
    "img_array = tf.expand_dims(img_array, axis=0) # Create a batch\n",
    "\n",
    "predictions = model.predict(img_array)\n",
    "score = tf.nn.softmax(predictions[0])\n",
    "\n",
    "print(\n",
    "    \"This image most likely belongs to {} with a {:.2f} percent confidence.\"\n",
    "    .format(class_names[np.argmax(score)], 100 * np.max(score))\n",
    ")"
   ]
  },
  {
   "cell_type": "code",
   "execution_count": 108,
   "metadata": {},
   "outputs": [
    {
     "name": "stdout",
     "output_type": "stream",
     "text": [
      "This image most likely belongs to C Ripe with a 35.22 percent confidence.\n"
     ]
    }
   ],
   "source": [
    "#19\n",
    "\n",
    "rootdir = \"C:/Users/User/Desktop/Category/test/C Ripe/CR8_0.png\"\n",
    "img = tf.keras.utils.load_img(\n",
    "    rootdir, target_size=(160, 160)\n",
    ")\n",
    "\n",
    "img_array = tf.keras.utils.img_to_array(img)\n",
    "img_array = tf.expand_dims(img_array, axis=0) # Create a batch\n",
    "\n",
    "predictions = model.predict(img_array)\n",
    "score = tf.nn.softmax(predictions[0])\n",
    "\n",
    "print(\n",
    "    \"This image most likely belongs to {} with a {:.2f} percent confidence.\"\n",
    "    .format(class_names[np.argmax(score)], 100 * np.max(score))\n",
    ")"
   ]
  },
  {
   "cell_type": "code",
   "execution_count": 109,
   "metadata": {},
   "outputs": [
    {
     "name": "stdout",
     "output_type": "stream",
     "text": [
      "This image most likely belongs to C Not Ripe with a 35.20 percent confidence.\n"
     ]
    }
   ],
   "source": [
    "#1 C Not Ripe\n",
    "\n",
    "rootdir = \"C:/Users/User/Desktop/Category/test/C Not Ripe/CNR10_0.png\"\n",
    "img = tf.keras.utils.load_img(\n",
    "    rootdir, target_size=(160, 160)\n",
    ")\n",
    "\n",
    "img_array = tf.keras.utils.img_to_array(img)\n",
    "img_array = tf.expand_dims(img_array, axis=0) # Create a batch\n",
    "\n",
    "predictions = model.predict(img_array)\n",
    "score = tf.nn.softmax(predictions[0])\n",
    "\n",
    "print(\n",
    "    \"This image most likely belongs to {} with a {:.2f} percent confidence.\"\n",
    "    .format(class_names[np.argmax(score)], 100 * np.max(score))\n",
    ")"
   ]
  },
  {
   "cell_type": "code",
   "execution_count": 111,
   "metadata": {},
   "outputs": [
    {
     "name": "stdout",
     "output_type": "stream",
     "text": [
      "This image most likely belongs to C Not Ripe with a 35.19 percent confidence.\n"
     ]
    }
   ],
   "source": [
    "#2\n",
    "\n",
    "rootdir = \"C:/Users/User/Desktop/Category/test/C Not Ripe/CNR11_0.png\"\n",
    "img = tf.keras.utils.load_img(\n",
    "    rootdir, target_size=(160, 160)\n",
    ")\n",
    "\n",
    "img_array = tf.keras.utils.img_to_array(img)\n",
    "img_array = tf.expand_dims(img_array, axis=0) # Create a batch\n",
    "\n",
    "predictions = model.predict(img_array)\n",
    "score = tf.nn.softmax(predictions[0])\n",
    "\n",
    "print(\n",
    "    \"This image most likely belongs to {} with a {:.2f} percent confidence.\"\n",
    "    .format(class_names[np.argmax(score)], 100 * np.max(score))\n",
    ")"
   ]
  },
  {
   "cell_type": "code",
   "execution_count": 112,
   "metadata": {},
   "outputs": [
    {
     "name": "stdout",
     "output_type": "stream",
     "text": [
      "This image most likely belongs to C Not Ripe with a 35.20 percent confidence.\n"
     ]
    }
   ],
   "source": [
    "#3\n",
    "\n",
    "rootdir = \"C:/Users/User/Desktop/Category/test/C Not Ripe/CNR1_0.png\"\n",
    "img = tf.keras.utils.load_img(\n",
    "    rootdir, target_size=(160, 160)\n",
    ")\n",
    "\n",
    "img_array = tf.keras.utils.img_to_array(img)\n",
    "img_array = tf.expand_dims(img_array, axis=0) # Create a batch\n",
    "\n",
    "predictions = model.predict(img_array)\n",
    "score = tf.nn.softmax(predictions[0])\n",
    "\n",
    "print(\n",
    "    \"This image most likely belongs to {} with a {:.2f} percent confidence.\"\n",
    "    .format(class_names[np.argmax(score)], 100 * np.max(score))\n",
    ")"
   ]
  },
  {
   "cell_type": "code",
   "execution_count": 113,
   "metadata": {},
   "outputs": [
    {
     "ename": "FileNotFoundError",
     "evalue": "[Errno 2] No such file or directory: 'C:/Users/User/Desktop/Category/test/C Not Ripe/CCNR20_0.png'",
     "output_type": "error",
     "traceback": [
      "\u001b[1;31m---------------------------------------------------------------------------\u001b[0m",
      "\u001b[1;31mFileNotFoundError\u001b[0m                         Traceback (most recent call last)",
      "\u001b[1;32m<ipython-input-113-4b1c891b128d>\u001b[0m in \u001b[0;36m<module>\u001b[1;34m\u001b[0m\n\u001b[0;32m      2\u001b[0m \u001b[1;33m\u001b[0m\u001b[0m\n\u001b[0;32m      3\u001b[0m \u001b[0mrootdir\u001b[0m \u001b[1;33m=\u001b[0m \u001b[1;34m\"C:/Users/User/Desktop/Category/test/C Not Ripe/CCNR20_0.png\"\u001b[0m\u001b[1;33m\u001b[0m\u001b[1;33m\u001b[0m\u001b[0m\n\u001b[1;32m----> 4\u001b[1;33m img = tf.keras.utils.load_img(\n\u001b[0m\u001b[0;32m      5\u001b[0m     \u001b[0mrootdir\u001b[0m\u001b[1;33m,\u001b[0m \u001b[0mtarget_size\u001b[0m\u001b[1;33m=\u001b[0m\u001b[1;33m(\u001b[0m\u001b[1;36m160\u001b[0m\u001b[1;33m,\u001b[0m \u001b[1;36m160\u001b[0m\u001b[1;33m)\u001b[0m\u001b[1;33m\u001b[0m\u001b[1;33m\u001b[0m\u001b[0m\n\u001b[0;32m      6\u001b[0m )\n",
      "\u001b[1;32m~\\anaconda3\\lib\\site-packages\\keras\\preprocessing\\image.py\u001b[0m in \u001b[0;36mload_img\u001b[1;34m(path, grayscale, color_mode, target_size, interpolation)\u001b[0m\n\u001b[0;32m    311\u001b[0m       \u001b[0mValueError\u001b[0m\u001b[1;33m:\u001b[0m \u001b[1;32mif\u001b[0m \u001b[0minterpolation\u001b[0m \u001b[0mmethod\u001b[0m \u001b[1;32mis\u001b[0m \u001b[1;32mnot\u001b[0m \u001b[0msupported\u001b[0m\u001b[1;33m.\u001b[0m\u001b[1;33m\u001b[0m\u001b[1;33m\u001b[0m\u001b[0m\n\u001b[0;32m    312\u001b[0m   \"\"\"\n\u001b[1;32m--> 313\u001b[1;33m   return image.load_img(path, grayscale=grayscale, color_mode=color_mode,\n\u001b[0m\u001b[0;32m    314\u001b[0m                         target_size=target_size, interpolation=interpolation)\n\u001b[0;32m    315\u001b[0m \u001b[1;33m\u001b[0m\u001b[0m\n",
      "\u001b[1;32m~\\anaconda3\\lib\\site-packages\\keras_preprocessing\\image\\utils.py\u001b[0m in \u001b[0;36mload_img\u001b[1;34m(path, grayscale, color_mode, target_size, interpolation)\u001b[0m\n\u001b[0;32m    111\u001b[0m         raise ImportError('Could not import PIL.Image. '\n\u001b[0;32m    112\u001b[0m                           'The use of `load_img` requires PIL.')\n\u001b[1;32m--> 113\u001b[1;33m     \u001b[1;32mwith\u001b[0m \u001b[0mopen\u001b[0m\u001b[1;33m(\u001b[0m\u001b[0mpath\u001b[0m\u001b[1;33m,\u001b[0m \u001b[1;34m'rb'\u001b[0m\u001b[1;33m)\u001b[0m \u001b[1;32mas\u001b[0m \u001b[0mf\u001b[0m\u001b[1;33m:\u001b[0m\u001b[1;33m\u001b[0m\u001b[1;33m\u001b[0m\u001b[0m\n\u001b[0m\u001b[0;32m    114\u001b[0m         \u001b[0mimg\u001b[0m \u001b[1;33m=\u001b[0m \u001b[0mpil_image\u001b[0m\u001b[1;33m.\u001b[0m\u001b[0mopen\u001b[0m\u001b[1;33m(\u001b[0m\u001b[0mio\u001b[0m\u001b[1;33m.\u001b[0m\u001b[0mBytesIO\u001b[0m\u001b[1;33m(\u001b[0m\u001b[0mf\u001b[0m\u001b[1;33m.\u001b[0m\u001b[0mread\u001b[0m\u001b[1;33m(\u001b[0m\u001b[1;33m)\u001b[0m\u001b[1;33m)\u001b[0m\u001b[1;33m)\u001b[0m\u001b[1;33m\u001b[0m\u001b[1;33m\u001b[0m\u001b[0m\n\u001b[0;32m    115\u001b[0m         \u001b[1;32mif\u001b[0m \u001b[0mcolor_mode\u001b[0m \u001b[1;33m==\u001b[0m \u001b[1;34m'grayscale'\u001b[0m\u001b[1;33m:\u001b[0m\u001b[1;33m\u001b[0m\u001b[1;33m\u001b[0m\u001b[0m\n",
      "\u001b[1;31mFileNotFoundError\u001b[0m: [Errno 2] No such file or directory: 'C:/Users/User/Desktop/Category/test/C Not Ripe/CCNR20_0.png'"
     ]
    }
   ],
   "source": [
    "#4\n",
    "\n",
    "rootdir = \"C:/Users/User/Desktop/Category/test/C Not Ripe/CCNR20_0.png\"\n",
    "img = tf.keras.utils.load_img(\n",
    "    rootdir, target_size=(160, 160)\n",
    ")\n",
    "\n",
    "img_array = tf.keras.utils.img_to_array(img)\n",
    "img_array = tf.expand_dims(img_array, axis=0) # Create a batch\n",
    "\n",
    "predictions = model.predict(img_array)\n",
    "score = tf.nn.softmax(predictions[0])\n",
    "\n",
    "print(\n",
    "    \"This image most likely belongs to {} with a {:.2f} percent confidence.\"\n",
    "    .format(class_names[np.argmax(score)], 100 * np.max(score))\n",
    ")"
   ]
  },
  {
   "cell_type": "code",
   "execution_count": 114,
   "metadata": {},
   "outputs": [
    {
     "name": "stdout",
     "output_type": "stream",
     "text": [
      "This image most likely belongs to C Not Ripe with a 35.18 percent confidence.\n"
     ]
    }
   ],
   "source": [
    "#5\n",
    "\n",
    "rootdir = \"C:/Users/User/Desktop/Category/test/C Not Ripe/CNR22_0.png\"\n",
    "img = tf.keras.utils.load_img(\n",
    "    rootdir, target_size=(160, 160)\n",
    ")\n",
    "\n",
    "img_array = tf.keras.utils.img_to_array(img)\n",
    "img_array = tf.expand_dims(img_array, axis=0) # Create a batch\n",
    "\n",
    "predictions = model.predict(img_array)\n",
    "score = tf.nn.softmax(predictions[0])\n",
    "\n",
    "print(\n",
    "    \"This image most likely belongs to {} with a {:.2f} percent confidence.\"\n",
    "    .format(class_names[np.argmax(score)], 100 * np.max(score))\n",
    ")"
   ]
  },
  {
   "cell_type": "code",
   "execution_count": 115,
   "metadata": {},
   "outputs": [
    {
     "name": "stdout",
     "output_type": "stream",
     "text": [
      "This image most likely belongs to C Not Ripe with a 35.21 percent confidence.\n"
     ]
    }
   ],
   "source": [
    "#6\n",
    "\n",
    "rootdir = \"C:/Users/User/Desktop/Category/test/C Not Ripe/CNR28_0.png\"\n",
    "img = tf.keras.utils.load_img(\n",
    "    rootdir, target_size=(160, 160)\n",
    ")\n",
    "\n",
    "img_array = tf.keras.utils.img_to_array(img)\n",
    "img_array = tf.expand_dims(img_array, axis=0) # Create a batch\n",
    "\n",
    "predictions = model.predict(img_array)\n",
    "score = tf.nn.softmax(predictions[0])\n",
    "\n",
    "print(\n",
    "    \"This image most likely belongs to {} with a {:.2f} percent confidence.\"\n",
    "    .format(class_names[np.argmax(score)], 100 * np.max(score))\n",
    ")"
   ]
  },
  {
   "cell_type": "code",
   "execution_count": 116,
   "metadata": {},
   "outputs": [
    {
     "name": "stdout",
     "output_type": "stream",
     "text": [
      "This image most likely belongs to C Not Ripe with a 35.22 percent confidence.\n"
     ]
    }
   ],
   "source": [
    "#7\n",
    "\n",
    "rootdir = \"C:/Users/User/Desktop/Category/test/C Not Ripe/CNR30_0.png\"\n",
    "img = tf.keras.utils.load_img(\n",
    "    rootdir, target_size=(160, 160)\n",
    ")\n",
    "\n",
    "img_array = tf.keras.utils.img_to_array(img)\n",
    "img_array = tf.expand_dims(img_array, axis=0) # Create a batch\n",
    "\n",
    "predictions = model.predict(img_array)\n",
    "score = tf.nn.softmax(predictions[0])\n",
    "\n",
    "print(\n",
    "    \"This image most likely belongs to {} with a {:.2f} percent confidence.\"\n",
    "    .format(class_names[np.argmax(score)], 100 * np.max(score))\n",
    ")"
   ]
  },
  {
   "cell_type": "code",
   "execution_count": 117,
   "metadata": {},
   "outputs": [
    {
     "name": "stdout",
     "output_type": "stream",
     "text": [
      "This image most likely belongs to C Not Ripe with a 35.22 percent confidence.\n"
     ]
    }
   ],
   "source": [
    "#8\n",
    "\n",
    "rootdir = \"C:/Users/User/Desktop/Category/test/C Not Ripe/CNR38_0.png\"\n",
    "img = tf.keras.utils.load_img(\n",
    "    rootdir, target_size=(160, 160)\n",
    ")\n",
    "\n",
    "img_array = tf.keras.utils.img_to_array(img)\n",
    "img_array = tf.expand_dims(img_array, axis=0) # Create a batch\n",
    "\n",
    "predictions = model.predict(img_array)\n",
    "score = tf.nn.softmax(predictions[0])\n",
    "\n",
    "print(\n",
    "    \"This image most likely belongs to {} with a {:.2f} percent confidence.\"\n",
    "    .format(class_names[np.argmax(score)], 100 * np.max(score))\n",
    ")"
   ]
  },
  {
   "cell_type": "code",
   "execution_count": 118,
   "metadata": {},
   "outputs": [
    {
     "name": "stdout",
     "output_type": "stream",
     "text": [
      "This image most likely belongs to C Not Ripe with a 34.21 percent confidence.\n"
     ]
    }
   ],
   "source": [
    "#9\n",
    "\n",
    "rootdir = \"C:/Users/User/Desktop/Category/test/C Not Ripe/CNR43_0.png\"\n",
    "img = tf.keras.utils.load_img(\n",
    "    rootdir, target_size=(160, 160)\n",
    ")\n",
    "\n",
    "img_array = tf.keras.utils.img_to_array(img)\n",
    "img_array = tf.expand_dims(img_array, axis=0) # Create a batch\n",
    "\n",
    "predictions = model.predict(img_array)\n",
    "score = tf.nn.softmax(predictions[0])\n",
    "\n",
    "print(\n",
    "    \"This image most likely belongs to {} with a {:.2f} percent confidence.\"\n",
    "    .format(class_names[np.argmax(score)], 100 * np.max(score))\n",
    ")"
   ]
  },
  {
   "cell_type": "code",
   "execution_count": 119,
   "metadata": {},
   "outputs": [
    {
     "name": "stdout",
     "output_type": "stream",
     "text": [
      "This image most likely belongs to C Not Ripe with a 35.22 percent confidence.\n"
     ]
    }
   ],
   "source": [
    "#10\n",
    "\n",
    "rootdir = \"C:/Users/User/Desktop/Category/test/C Not Ripe/CNR52_0.png\"\n",
    "img = tf.keras.utils.load_img(\n",
    "    rootdir, target_size=(160, 160)\n",
    ")\n",
    "\n",
    "img_array = tf.keras.utils.img_to_array(img)\n",
    "img_array = tf.expand_dims(img_array, axis=0) # Create a batch\n",
    "\n",
    "predictions = model.predict(img_array)\n",
    "score = tf.nn.softmax(predictions[0])\n",
    "\n",
    "print(\n",
    "    \"This image most likely belongs to {} with a {:.2f} percent confidence.\"\n",
    "    .format(class_names[np.argmax(score)], 100 * np.max(score))\n",
    ")"
   ]
  },
  {
   "cell_type": "code",
   "execution_count": 120,
   "metadata": {},
   "outputs": [
    {
     "name": "stdout",
     "output_type": "stream",
     "text": [
      "This image most likely belongs to C Not Ripe with a 35.21 percent confidence.\n"
     ]
    }
   ],
   "source": [
    "#11\n",
    "\n",
    "rootdir = \"C:/Users/User/Desktop/Category/test/C Not Ripe/CNR57_0.png\"\n",
    "img = tf.keras.utils.load_img(\n",
    "    rootdir, target_size=(160, 160)\n",
    ")\n",
    "\n",
    "img_array = tf.keras.utils.img_to_array(img)\n",
    "img_array = tf.expand_dims(img_array, axis=0) # Create a batch\n",
    "\n",
    "predictions = model.predict(img_array)\n",
    "score = tf.nn.softmax(predictions[0])\n",
    "\n",
    "print(\n",
    "    \"This image most likely belongs to {} with a {:.2f} percent confidence.\"\n",
    "    .format(class_names[np.argmax(score)], 100 * np.max(score))\n",
    ")"
   ]
  },
  {
   "cell_type": "code",
   "execution_count": 121,
   "metadata": {},
   "outputs": [
    {
     "name": "stdout",
     "output_type": "stream",
     "text": [
      "This image most likely belongs to C Ripe with a 22.35 percent confidence.\n"
     ]
    }
   ],
   "source": [
    "#12\n",
    "\n",
    "rootdir = \"C:/Users/User/Desktop/Category/test/C Not Ripe/CNR58_0.png\"\n",
    "img = tf.keras.utils.load_img(\n",
    "    rootdir, target_size=(160, 160)\n",
    ")\n",
    "\n",
    "img_array = tf.keras.utils.img_to_array(img)\n",
    "img_array = tf.expand_dims(img_array, axis=0) # Create a batch\n",
    "\n",
    "predictions = model.predict(img_array)\n",
    "score = tf.nn.softmax(predictions[0])\n",
    "\n",
    "print(\n",
    "    \"This image most likely belongs to {} with a {:.2f} percent confidence.\"\n",
    "    .format(class_names[np.argmax(score)], 100 * np.max(score))\n",
    ")"
   ]
  },
  {
   "cell_type": "code",
   "execution_count": 122,
   "metadata": {},
   "outputs": [
    {
     "name": "stdout",
     "output_type": "stream",
     "text": [
      "This image most likely belongs to C Not Ripe with a 35.21 percent confidence.\n"
     ]
    }
   ],
   "source": [
    "#13\n",
    "\n",
    "rootdir = \"C:/Users/User/Desktop/Category/test/C Not Ripe/CNR59_0.png\"\n",
    "img = tf.keras.utils.load_img(\n",
    "    rootdir, target_size=(160, 160)\n",
    ")\n",
    "\n",
    "img_array = tf.keras.utils.img_to_array(img)\n",
    "img_array = tf.expand_dims(img_array, axis=0) # Create a batch\n",
    "\n",
    "predictions = model.predict(img_array)\n",
    "score = tf.nn.softmax(predictions[0])\n",
    "\n",
    "print(\n",
    "    \"This image most likely belongs to {} with a {:.2f} percent confidence.\"\n",
    "    .format(class_names[np.argmax(score)], 100 * np.max(score))\n",
    ")"
   ]
  },
  {
   "cell_type": "code",
   "execution_count": 123,
   "metadata": {},
   "outputs": [
    {
     "name": "stdout",
     "output_type": "stream",
     "text": [
      "This image most likely belongs to C Not Ripe with a 35.21 percent confidence.\n"
     ]
    }
   ],
   "source": [
    "#14\n",
    "\n",
    "rootdir = \"C:/Users/User/Desktop/Category/test/C Not Ripe/CNR5_0.png\"\n",
    "img = tf.keras.utils.load_img(\n",
    "    rootdir, target_size=(160, 160)\n",
    ")\n",
    "\n",
    "img_array = tf.keras.utils.img_to_array(img)\n",
    "img_array = tf.expand_dims(img_array, axis=0) # Create a batch\n",
    "\n",
    "predictions = model.predict(img_array)\n",
    "score = tf.nn.softmax(predictions[0])\n",
    "\n",
    "print(\n",
    "    \"This image most likely belongs to {} with a {:.2f} percent confidence.\"\n",
    "    .format(class_names[np.argmax(score)], 100 * np.max(score))\n",
    ")"
   ]
  },
  {
   "cell_type": "code",
   "execution_count": 124,
   "metadata": {},
   "outputs": [
    {
     "name": "stdout",
     "output_type": "stream",
     "text": [
      "This image most likely belongs to C Not Ripe with a 35.22 percent confidence.\n"
     ]
    }
   ],
   "source": [
    "#15\n",
    "\n",
    "rootdir = \"C:/Users/User/Desktop/Category/test/C Not Ripe/CNR62_0.png\"\n",
    "img = tf.keras.utils.load_img(\n",
    "    rootdir, target_size=(160, 160)\n",
    ")\n",
    "\n",
    "img_array = tf.keras.utils.img_to_array(img)\n",
    "img_array = tf.expand_dims(img_array, axis=0) # Create a batch\n",
    "\n",
    "predictions = model.predict(img_array)\n",
    "score = tf.nn.softmax(predictions[0])\n",
    "\n",
    "print(\n",
    "    \"This image most likely belongs to {} with a {:.2f} percent confidence.\"\n",
    "    .format(class_names[np.argmax(score)], 100 * np.max(score))\n",
    ")"
   ]
  },
  {
   "cell_type": "code",
   "execution_count": 125,
   "metadata": {},
   "outputs": [
    {
     "name": "stdout",
     "output_type": "stream",
     "text": [
      "This image most likely belongs to C Not Ripe with a 35.21 percent confidence.\n"
     ]
    }
   ],
   "source": [
    "#16\n",
    "\n",
    "rootdir = \"C:/Users/User/Desktop/Category/test/C Not Ripe/CNR63_0.png\"\n",
    "img = tf.keras.utils.load_img(\n",
    "    rootdir, target_size=(160, 160)\n",
    ")\n",
    "\n",
    "img_array = tf.keras.utils.img_to_array(img)\n",
    "img_array = tf.expand_dims(img_array, axis=0) # Create a batch\n",
    "\n",
    "predictions = model.predict(img_array)\n",
    "score = tf.nn.softmax(predictions[0])\n",
    "\n",
    "print(\n",
    "    \"This image most likely belongs to {} with a {:.2f} percent confidence.\"\n",
    "    .format(class_names[np.argmax(score)], 100 * np.max(score))\n",
    ")"
   ]
  },
  {
   "cell_type": "code",
   "execution_count": 126,
   "metadata": {},
   "outputs": [
    {
     "name": "stdout",
     "output_type": "stream",
     "text": [
      "This image most likely belongs to C Not Ripe with a 35.22 percent confidence.\n"
     ]
    }
   ],
   "source": [
    "#17\n",
    "\n",
    "rootdir = \"C:/Users/User/Desktop/Category/test/C Not Ripe/CNR64_0.png\"\n",
    "img = tf.keras.utils.load_img(\n",
    "    rootdir, target_size=(160, 160)\n",
    ")\n",
    "\n",
    "img_array = tf.keras.utils.img_to_array(img)\n",
    "img_array = tf.expand_dims(img_array, axis=0) # Create a batch\n",
    "\n",
    "predictions = model.predict(img_array)\n",
    "score = tf.nn.softmax(predictions[0])\n",
    "\n",
    "print(\n",
    "    \"This image most likely belongs to {} with a {:.2f} percent confidence.\"\n",
    "    .format(class_names[np.argmax(score)], 100 * np.max(score))\n",
    ")"
   ]
  },
  {
   "cell_type": "code",
   "execution_count": 127,
   "metadata": {},
   "outputs": [
    {
     "name": "stdout",
     "output_type": "stream",
     "text": [
      "This image most likely belongs to C Ripe with a 35.22 percent confidence.\n"
     ]
    }
   ],
   "source": [
    "#18\n",
    "\n",
    "rootdir = \"C:/Users/User/Desktop/Category/test/C Not Ripe/CNR6_0.png\"\n",
    "img = tf.keras.utils.load_img(\n",
    "    rootdir, target_size=(160, 160)\n",
    ")\n",
    "\n",
    "img_array = tf.keras.utils.img_to_array(img)\n",
    "img_array = tf.expand_dims(img_array, axis=0) # Create a batch\n",
    "\n",
    "predictions = model.predict(img_array)\n",
    "score = tf.nn.softmax(predictions[0])\n",
    "\n",
    "print(\n",
    "    \"This image most likely belongs to {} with a {:.2f} percent confidence.\"\n",
    "    .format(class_names[np.argmax(score)], 100 * np.max(score))\n",
    ")"
   ]
  },
  {
   "cell_type": "code",
   "execution_count": 128,
   "metadata": {},
   "outputs": [
    {
     "name": "stdout",
     "output_type": "stream",
     "text": [
      "This image most likely belongs to C Ripe with a 26.72 percent confidence.\n"
     ]
    }
   ],
   "source": [
    "#19\n",
    "\n",
    "rootdir = \"C:/Users/User/Desktop/Category/test/C Not Ripe/CNR9_0.png\"\n",
    "img = tf.keras.utils.load_img(\n",
    "    rootdir, target_size=(160, 160)\n",
    ")\n",
    "\n",
    "img_array = tf.keras.utils.img_to_array(img)\n",
    "img_array = tf.expand_dims(img_array, axis=0) # Create a batch\n",
    "\n",
    "predictions = model.predict(img_array)\n",
    "score = tf.nn.softmax(predictions[0])\n",
    "\n",
    "print(\n",
    "    \"This image most likely belongs to {} with a {:.2f} percent confidence.\"\n",
    "    .format(class_names[np.argmax(score)], 100 * np.max(score))\n",
    ")"
   ]
  },
  {
   "cell_type": "code",
   "execution_count": 129,
   "metadata": {},
   "outputs": [
    {
     "data": {
      "image/png": "[encoded data removed]",
      "text/plain": [
       "<Figure size 576x576 with 2 Axes>"
      ]
     },
     "metadata": {
      "needs_background": "light"
     },
     "output_type": "display_data"
    }
   ],
   "source": [
    "acc = history.history['accuracy']\n",
    "val_acc = history.history['val_accuracy']\n",
    "\n",
    "loss = history.history['loss']\n",
    "val_loss = history.history['val_loss']\n",
    "\n",
    "epochs_range = range(epochs)\n",
    "\n",
    "plt.figure(figsize=(8, 8))\n",
    "plt.subplot(1, 2, 1)\n",
    "plt.plot(epochs_range, acc, label='Training')\n",
    "plt.plot(epochs_range, val_acc, label='Test')\n",
    "plt.legend(loc='lower right')\n",
    "plt.title('Accuracy')\n",
    "\n",
    "plt.subplot(1, 2, 2)\n",
    "plt.plot(epochs_range, loss, label='Training')\n",
    "plt.plot(epochs_range, val_loss, label='Test')\n",
    "plt.legend(loc='upper right')\n",
    "plt.title('Loss')\n",
    "plt.show()"
   ]
  }
 ],
 "metadata": {
  "kernelspec": {
   "display_name": "Python 3",
   "language": "python",
   "name": "python3"
  },
  "language_info": {
   "codemirror_mode": {
    "name": "ipython",
    "version": 3
   },
   "file_extension": ".py",
   "mimetype": "text/x-python",
   "name": "python",
   "nbconvert_exporter": "python",
   "pygments_lexer": "ipython3",
   "version": "3.8.5"
  }
 },
 "nbformat": 4,
 "nbformat_minor": 4
}
