{
 "cells": [
  {
   "cell_type": "code",
   "execution_count": 1,
   "metadata": {},
   "outputs": [],
   "source": [
    "from tensorflow.keras.preprocessing.image import ImageDataGenerator\n",
    "from tensorflow.keras.preprocessing import image\n",
    "from tensorflow import keras\n",
    "from tensorflow.keras import models\n",
    "from tensorflow.keras import preprocessing\n",
    "from tensorflow.keras.preprocessing import image_dataset_from_directory\n",
    "\n",
    "from tensorflow.keras.optimizers import Adam\n",
    "from tensorflow.keras.layers import Dense, Flatten, Conv2D, MaxPool2D, Activation,BatchNormalization, Dropout\n",
    "from tensorflow.keras import Sequential\n",
    "from keras.optimizers import *\n",
    "\"\"\n",
    "\n",
    "import tensorflow as tf\n",
    "import numpy as np\n",
    "import pandas as pd\n",
    "import os\n",
    "import PIL\n",
    "import matplotlib.pyplot as plt\n",
    "\n",
    "import cv2"
   ]
  },
  {
   "cell_type": "code",
   "execution_count": 2,
   "metadata": {},
   "outputs": [
    {
     "name": "stdout",
     "output_type": "stream",
     "text": [
      "Found 426 files belonging to 6 classes.\n",
      "Using 299 files for training.\n"
     ]
    }
   ],
   "source": [
    "#load train images\n",
    "img_size=160\n",
    "train_dataset = tf.keras.utils.image_dataset_from_directory('C:/Users/User/Documents/UPM/Semester 3/Category/basedata',\n",
    "                                                            validation_split=0.3,\n",
    "                                                            batch_size = 32,\n",
    "                                                            label_mode = 'categorical',\n",
    "                                                            subset='training',\n",
    "                                                            seed=123,\n",
    "                                                            image_size=(img_size,img_size),\n",
    "                                                            shuffle=True\n",
    "                                                           )\n",
    "\n",
    "\n",
    "\n"
   ]
  },
  {
   "cell_type": "code",
   "execution_count": 3,
   "metadata": {},
   "outputs": [
    {
     "name": "stdout",
     "output_type": "stream",
     "text": [
      "Found 426 files belonging to 6 classes.\n",
      "Using 127 files for validation.\n"
     ]
    }
   ],
   "source": [
    "#load test images\n",
    "img_size=160\n",
    "test_dataset = tf.keras.utils.image_dataset_from_directory('C:/Users/User/Desktop/Category/basedata/',\n",
    "                                                           validation_split=0.3,\n",
    "                                                           batch_size = 32,\n",
    "                                                           label_mode = 'categorical',\n",
    "                                                           subset='validation',\n",
    "                                                           seed=123,\n",
    "                                                           image_size=(img_size,img_size),\n",
    "                                                           shuffle=True\n",
    "                                                          )"
   ]
  },
  {
   "cell_type": "code",
   "execution_count": 4,
   "metadata": {},
   "outputs": [],
   "source": [
    "normalization_layer = tf.keras.layers.Rescaling(1./255)"
   ]
  },
  {
   "cell_type": "code",
   "execution_count": 5,
   "metadata": {},
   "outputs": [
    {
     "name": "stdout",
     "output_type": "stream",
     "text": [
      "Model: \"sequential\"\n",
      "_________________________________________________________________\n",
      " Layer (type)                Output Shape              Param #   \n",
      "=================================================================\n",
      " conv2d (Conv2D)             (None, 150, 150, 64)      23296     \n",
      "                                                                 \n",
      " max_pooling2d (MaxPooling2D  (None, 75, 75, 64)       0         \n",
      " )                                                               \n",
      "                                                                 \n",
      " batch_normalization (BatchN  (None, 75, 75, 64)       256       \n",
      " ormalization)                                                   \n",
      "                                                                 \n",
      " conv2d_1 (Conv2D)           (None, 65, 65, 128)       991360    \n",
      "                                                                 \n",
      " max_pooling2d_1 (MaxPooling  (None, 32, 32, 128)      0         \n",
      " 2D)                                                             \n",
      "                                                                 \n",
      " batch_normalization_1 (Batc  (None, 32, 32, 128)      512       \n",
      " hNormalization)                                                 \n",
      "                                                                 \n",
      " conv2d_2 (Conv2D)           (None, 22, 22, 256)       3965184   \n",
      "                                                                 \n",
      " max_pooling2d_2 (MaxPooling  (None, 11, 11, 256)      0         \n",
      " 2D)                                                             \n",
      "                                                                 \n",
      " batch_normalization_2 (Batc  (None, 11, 11, 256)      1024      \n",
      " hNormalization)                                                 \n",
      "                                                                 \n",
      " global_max_pooling2d (Globa  (None, 256)              0         \n",
      " lMaxPooling2D)                                                  \n",
      "                                                                 \n",
      " flatten (Flatten)           (None, 256)               0         \n",
      "                                                                 \n",
      " dense (Dense)               (None, 256)               65792     \n",
      "                                                                 \n",
      " batch_normalization_3 (Batc  (None, 256)              1024      \n",
      " hNormalization)                                                 \n",
      "                                                                 \n",
      " dense_1 (Dense)             (None, 6)                 1542      \n",
      "                                                                 \n",
      "=================================================================\n",
      "Total params: 5,049,990\n",
      "Trainable params: 5,048,582\n",
      "Non-trainable params: 1,408\n",
      "_________________________________________________________________\n"
     ]
    }
   ],
   "source": [
    "img_size=160\n",
    "model = tf.keras.models.Sequential()\n",
    "\n",
    "# Input layer\n",
    "# Can be omitted, you can specify the input_shape in other layers\n",
    "model.add(tf.keras.layers.InputLayer(input_shape=(img_size,img_size,3)))\n",
    "\n",
    "# 1st 2D Convolution layer\n",
    "model.add(tf.keras.layers.Conv2D(64, kernel_size=(11,11), activation='relu'))\n",
    "# Max Pool layer \n",
    "# It downsmaples the input representetion within the pool_size size\n",
    "model.add(tf.keras.layers.MaxPool2D())\n",
    "# Normalization layer\n",
    "# The layer normalizes its output using the mean and standard deviation of the current batch of inputs.\n",
    "model.add(tf.keras.layers.BatchNormalization())\n",
    "\n",
    "\n",
    "# 2nd 2D Convolution layer\n",
    "model.add(tf.keras.layers.Conv2D(128, kernel_size=(11,11),activation='relu'))\n",
    "# Max Pool layer \n",
    "model.add(tf.keras.layers.MaxPool2D())\n",
    "# Normalization layer\n",
    "model.add(tf.keras.layers.BatchNormalization())\n",
    "\n",
    "# 1st fully convolutional layer \n",
    "model.add(tf.keras.layers.Conv2D(256, kernel_size=(11,11),activation='relu'))\n",
    "# Max Pool layer \n",
    "model.add(tf.keras.layers.MaxPool2D())\n",
    "# Normalization layer\n",
    "model.add(tf.keras.layers.BatchNormalization())\n",
    "# Global Max Pool layer\n",
    "model.add(tf.keras.layers.GlobalMaxPool2D())\n",
    "\n",
    "\n",
    "# Dense Layers after flattening the data\n",
    "model.add(tf.keras.layers.Flatten())\n",
    "model.add(tf.keras.layers.Dense(256, activation='relu'))\n",
    "\n",
    "# Normalization layer\n",
    "model.add(tf.keras.layers.BatchNormalization())\n",
    "\n",
    "#Add Output Layer\n",
    "model.add(tf.keras.layers.Dense(6, activation='softmax')) # = 12 predicted classes\n",
    "\n",
    "model.compile(optimizer='adam', loss='categorical_crossentropy', metrics=['accuracy'])\n",
    "\n",
    "model.summary()"
   ]
  },
  {
   "cell_type": "code",
   "execution_count": 6,
   "metadata": {},
   "outputs": [
    {
     "name": "stdout",
     "output_type": "stream",
     "text": [
      "Epoch 1/270\n",
      "10/10 [==============================] - 17s 1s/step - loss: 1.6304 - accuracy: 0.4448 - val_loss: 664.1993 - val_accuracy: 0.1260\n",
      "Epoch 2/270\n",
      "10/10 [==============================] - 2s 194ms/step - loss: 0.9071 - accuracy: 0.6154 - val_loss: 435.9639 - val_accuracy: 0.1260\n",
      "Epoch 3/270\n",
      "10/10 [==============================] - 2s 194ms/step - loss: 0.6782 - accuracy: 0.7124 - val_loss: 267.0940 - val_accuracy: 0.1260\n",
      "Epoch 4/270\n",
      "10/10 [==============================] - 2s 194ms/step - loss: 0.5642 - accuracy: 0.7625 - val_loss: 155.0402 - val_accuracy: 0.1260\n",
      "Epoch 5/270\n",
      "10/10 [==============================] - 2s 194ms/step - loss: 0.4815 - accuracy: 0.8428 - val_loss: 108.6137 - val_accuracy: 0.1260\n",
      "Epoch 6/270\n",
      "10/10 [==============================] - 2s 197ms/step - loss: 0.3789 - accuracy: 0.8696 - val_loss: 70.6673 - val_accuracy: 0.1260\n",
      "Epoch 7/270\n",
      "10/10 [==============================] - 2s 194ms/step - loss: 0.3617 - accuracy: 0.8930 - val_loss: 52.7297 - val_accuracy: 0.1260\n",
      "Epoch 8/270\n",
      "10/10 [==============================] - 2s 195ms/step - loss: 0.3292 - accuracy: 0.9030 - val_loss: 45.2603 - val_accuracy: 0.1260\n",
      "Epoch 9/270\n",
      "10/10 [==============================] - 2s 194ms/step - loss: 0.3118 - accuracy: 0.8963 - val_loss: 43.7230 - val_accuracy: 0.1260\n",
      "Epoch 10/270\n",
      "10/10 [==============================] - 2s 194ms/step - loss: 0.2628 - accuracy: 0.9231 - val_loss: 31.8864 - val_accuracy: 0.1260\n",
      "Epoch 11/270\n",
      "10/10 [==============================] - 2s 194ms/step - loss: 0.2844 - accuracy: 0.8930 - val_loss: 18.8032 - val_accuracy: 0.1260\n",
      "Epoch 12/270\n",
      "10/10 [==============================] - 2s 194ms/step - loss: 0.1943 - accuracy: 0.9532 - val_loss: 19.7325 - val_accuracy: 0.1260\n",
      "Epoch 13/270\n",
      "10/10 [==============================] - 2s 194ms/step - loss: 0.1487 - accuracy: 0.9632 - val_loss: 19.5959 - val_accuracy: 0.1260\n",
      "Epoch 14/270\n",
      "10/10 [==============================] - 2s 193ms/step - loss: 0.1359 - accuracy: 0.9666 - val_loss: 12.8243 - val_accuracy: 0.1575\n",
      "Epoch 15/270\n",
      "10/10 [==============================] - 2s 194ms/step - loss: 0.1374 - accuracy: 0.9699 - val_loss: 18.4087 - val_accuracy: 0.1654\n",
      "Epoch 16/270\n",
      "10/10 [==============================] - 2s 194ms/step - loss: 0.1230 - accuracy: 0.9833 - val_loss: 17.3617 - val_accuracy: 0.2835\n",
      "Epoch 17/270\n",
      "10/10 [==============================] - 2s 194ms/step - loss: 0.1091 - accuracy: 0.9699 - val_loss: 15.2176 - val_accuracy: 0.1890\n",
      "Epoch 18/270\n",
      "10/10 [==============================] - 2s 194ms/step - loss: 0.1077 - accuracy: 0.9766 - val_loss: 13.7709 - val_accuracy: 0.1496\n",
      "Epoch 19/270\n",
      "10/10 [==============================] - 2s 194ms/step - loss: 0.1026 - accuracy: 0.9666 - val_loss: 9.2380 - val_accuracy: 0.2598\n",
      "Epoch 20/270\n",
      "10/10 [==============================] - 2s 194ms/step - loss: 0.1111 - accuracy: 0.9632 - val_loss: 12.0185 - val_accuracy: 0.1654\n",
      "Epoch 21/270\n",
      "10/10 [==============================] - 2s 194ms/step - loss: 0.1154 - accuracy: 0.9766 - val_loss: 6.9735 - val_accuracy: 0.2520\n",
      "Epoch 22/270\n",
      "10/10 [==============================] - 2s 195ms/step - loss: 0.1662 - accuracy: 0.9632 - val_loss: 7.4994 - val_accuracy: 0.3858\n",
      "Epoch 23/270\n",
      "10/10 [==============================] - 2s 196ms/step - loss: 0.0928 - accuracy: 0.9766 - val_loss: 10.7742 - val_accuracy: 0.2677\n",
      "Epoch 24/270\n",
      "10/10 [==============================] - 2s 195ms/step - loss: 0.0794 - accuracy: 0.9866 - val_loss: 12.2819 - val_accuracy: 0.2598\n",
      "Epoch 25/270\n",
      "10/10 [==============================] - 2s 195ms/step - loss: 0.0645 - accuracy: 0.9799 - val_loss: 7.1365 - val_accuracy: 0.3386\n",
      "Epoch 26/270\n",
      "10/10 [==============================] - 2s 196ms/step - loss: 0.1047 - accuracy: 0.9732 - val_loss: 5.3133 - val_accuracy: 0.3858\n",
      "Epoch 27/270\n",
      "10/10 [==============================] - 2s 194ms/step - loss: 0.0815 - accuracy: 0.9632 - val_loss: 5.9641 - val_accuracy: 0.2992\n",
      "Epoch 28/270\n",
      "10/10 [==============================] - 2s 195ms/step - loss: 0.0477 - accuracy: 0.9933 - val_loss: 5.9377 - val_accuracy: 0.3465\n",
      "Epoch 29/270\n",
      "10/10 [==============================] - 2s 194ms/step - loss: 0.0379 - accuracy: 0.9967 - val_loss: 3.1185 - val_accuracy: 0.4331\n",
      "Epoch 30/270\n",
      "10/10 [==============================] - 2s 195ms/step - loss: 0.0268 - accuracy: 0.9967 - val_loss: 4.6159 - val_accuracy: 0.2677\n",
      "Epoch 31/270\n",
      "10/10 [==============================] - 2s 195ms/step - loss: 0.0248 - accuracy: 0.9967 - val_loss: 2.2458 - val_accuracy: 0.5433\n",
      "Epoch 32/270\n",
      "10/10 [==============================] - 2s 195ms/step - loss: 0.0097 - accuracy: 1.0000 - val_loss: 1.4730 - val_accuracy: 0.6220\n",
      "Epoch 33/270\n",
      "10/10 [==============================] - 2s 195ms/step - loss: 0.0081 - accuracy: 1.0000 - val_loss: 1.2252 - val_accuracy: 0.6535\n",
      "Epoch 34/270\n",
      "10/10 [==============================] - 2s 196ms/step - loss: 0.0152 - accuracy: 0.9933 - val_loss: 1.3923 - val_accuracy: 0.6063\n",
      "Epoch 35/270\n",
      "10/10 [==============================] - 2s 195ms/step - loss: 0.0914 - accuracy: 0.9799 - val_loss: 6.5527 - val_accuracy: 0.2362\n",
      "Epoch 36/270\n",
      "10/10 [==============================] - 2s 195ms/step - loss: 0.0889 - accuracy: 0.9732 - val_loss: 3.8609 - val_accuracy: 0.2441\n",
      "Epoch 37/270\n",
      "10/10 [==============================] - 2s 194ms/step - loss: 0.0811 - accuracy: 0.9766 - val_loss: 6.9966 - val_accuracy: 0.2047\n",
      "Epoch 38/270\n",
      "10/10 [==============================] - 2s 194ms/step - loss: 0.1248 - accuracy: 0.9599 - val_loss: 5.4168 - val_accuracy: 0.3465\n",
      "Epoch 39/270\n",
      "10/10 [==============================] - 2s 196ms/step - loss: 0.0821 - accuracy: 0.9833 - val_loss: 9.1019 - val_accuracy: 0.1417\n",
      "Epoch 40/270\n",
      "10/10 [==============================] - 2s 194ms/step - loss: 0.1197 - accuracy: 0.9699 - val_loss: 3.3426 - val_accuracy: 0.2756\n",
      "Epoch 41/270\n",
      "10/10 [==============================] - 2s 194ms/step - loss: 0.0640 - accuracy: 0.9933 - val_loss: 2.1167 - val_accuracy: 0.4961\n",
      "Epoch 42/270\n",
      "10/10 [==============================] - 2s 196ms/step - loss: 0.0509 - accuracy: 0.9933 - val_loss: 3.6919 - val_accuracy: 0.2441\n",
      "Epoch 43/270\n",
      "10/10 [==============================] - 2s 195ms/step - loss: 0.0336 - accuracy: 0.9933 - val_loss: 2.8268 - val_accuracy: 0.4252\n",
      "Epoch 44/270\n",
      "10/10 [==============================] - 2s 195ms/step - loss: 0.0195 - accuracy: 1.0000 - val_loss: 2.3201 - val_accuracy: 0.4961\n",
      "Epoch 45/270\n",
      "10/10 [==============================] - 2s 194ms/step - loss: 0.0135 - accuracy: 1.0000 - val_loss: 1.7541 - val_accuracy: 0.5512\n",
      "Epoch 46/270\n",
      "10/10 [==============================] - 2s 193ms/step - loss: 0.0135 - accuracy: 1.0000 - val_loss: 1.5610 - val_accuracy: 0.6063\n",
      "Epoch 47/270\n",
      "10/10 [==============================] - 2s 194ms/step - loss: 0.0103 - accuracy: 0.9967 - val_loss: 1.5451 - val_accuracy: 0.5906\n",
      "Epoch 48/270\n",
      "10/10 [==============================] - 2s 194ms/step - loss: 0.0337 - accuracy: 0.9933 - val_loss: 1.5485 - val_accuracy: 0.5512\n",
      "Epoch 49/270\n",
      "10/10 [==============================] - 2s 194ms/step - loss: 0.0362 - accuracy: 0.9933 - val_loss: 1.2977 - val_accuracy: 0.6220\n",
      "Epoch 50/270\n",
      "10/10 [==============================] - 2s 194ms/step - loss: 0.0333 - accuracy: 0.9933 - val_loss: 2.2309 - val_accuracy: 0.5669\n",
      "Epoch 51/270\n",
      "10/10 [==============================] - 2s 194ms/step - loss: 0.0758 - accuracy: 0.9799 - val_loss: 2.1605 - val_accuracy: 0.5669\n",
      "Epoch 52/270\n",
      "10/10 [==============================] - 2s 194ms/step - loss: 0.0701 - accuracy: 0.9799 - val_loss: 1.5562 - val_accuracy: 0.5669\n",
      "Epoch 53/270\n",
      "10/10 [==============================] - 2s 194ms/step - loss: 0.0475 - accuracy: 0.9833 - val_loss: 1.5051 - val_accuracy: 0.6535\n",
      "Epoch 54/270\n",
      "10/10 [==============================] - 2s 194ms/step - loss: 0.0296 - accuracy: 0.9933 - val_loss: 2.0210 - val_accuracy: 0.5748\n",
      "Epoch 55/270\n",
      "10/10 [==============================] - 2s 194ms/step - loss: 0.0080 - accuracy: 1.0000 - val_loss: 1.6620 - val_accuracy: 0.6614\n",
      "Epoch 56/270\n",
      "10/10 [==============================] - 2s 198ms/step - loss: 0.0079 - accuracy: 1.0000 - val_loss: 1.7549 - val_accuracy: 0.6614\n",
      "Epoch 57/270\n",
      "10/10 [==============================] - 2s 195ms/step - loss: 0.0084 - accuracy: 1.0000 - val_loss: 1.5007 - val_accuracy: 0.6457\n"
     ]
    },
    {
     "name": "stdout",
     "output_type": "stream",
     "text": [
      "Epoch 58/270\n",
      "10/10 [==============================] - 2s 203ms/step - loss: 0.0061 - accuracy: 1.0000 - val_loss: 1.6403 - val_accuracy: 0.6614\n",
      "Epoch 59/270\n",
      "10/10 [==============================] - 2s 196ms/step - loss: 0.0077 - accuracy: 1.0000 - val_loss: 1.5398 - val_accuracy: 0.6378\n",
      "Epoch 60/270\n",
      "10/10 [==============================] - 2s 198ms/step - loss: 0.0040 - accuracy: 1.0000 - val_loss: 1.5082 - val_accuracy: 0.6220\n",
      "Epoch 61/270\n",
      "10/10 [==============================] - 2s 204ms/step - loss: 0.0168 - accuracy: 0.9967 - val_loss: 4.8430 - val_accuracy: 0.2756\n",
      "Epoch 62/270\n",
      "10/10 [==============================] - 2s 197ms/step - loss: 0.0172 - accuracy: 0.9967 - val_loss: 1.7669 - val_accuracy: 0.6378\n",
      "Epoch 63/270\n",
      "10/10 [==============================] - 2s 196ms/step - loss: 0.0072 - accuracy: 1.0000 - val_loss: 3.0278 - val_accuracy: 0.5039\n",
      "Epoch 64/270\n",
      "10/10 [==============================] - 2s 212ms/step - loss: 0.0117 - accuracy: 1.0000 - val_loss: 4.3749 - val_accuracy: 0.3386\n",
      "Epoch 65/270\n",
      "10/10 [==============================] - 2s 201ms/step - loss: 0.0360 - accuracy: 0.9866 - val_loss: 2.4544 - val_accuracy: 0.5827\n",
      "Epoch 66/270\n",
      "10/10 [==============================] - 2s 203ms/step - loss: 0.0750 - accuracy: 0.9799 - val_loss: 2.1338 - val_accuracy: 0.5512\n",
      "Epoch 67/270\n",
      "10/10 [==============================] - 3s 232ms/step - loss: 0.0456 - accuracy: 0.9900 - val_loss: 1.5138 - val_accuracy: 0.6693\n",
      "Epoch 68/270\n",
      "10/10 [==============================] - 2s 201ms/step - loss: 0.0714 - accuracy: 0.9799 - val_loss: 2.3963 - val_accuracy: 0.4882\n",
      "Epoch 69/270\n",
      "10/10 [==============================] - 2s 196ms/step - loss: 0.0751 - accuracy: 0.9799 - val_loss: 2.0814 - val_accuracy: 0.4803\n",
      "Epoch 70/270\n",
      "10/10 [==============================] - 2s 195ms/step - loss: 0.0590 - accuracy: 0.9799 - val_loss: 2.2287 - val_accuracy: 0.5512\n",
      "Epoch 71/270\n",
      "10/10 [==============================] - 2s 196ms/step - loss: 0.0891 - accuracy: 0.9732 - val_loss: 3.7906 - val_accuracy: 0.4961\n",
      "Epoch 72/270\n",
      "10/10 [==============================] - 2s 196ms/step - loss: 0.0515 - accuracy: 0.9933 - val_loss: 1.7588 - val_accuracy: 0.5984\n",
      "Epoch 73/270\n",
      "10/10 [==============================] - 2s 198ms/step - loss: 0.0489 - accuracy: 0.9933 - val_loss: 2.2046 - val_accuracy: 0.5748\n",
      "Epoch 74/270\n",
      "10/10 [==============================] - 2s 199ms/step - loss: 0.0407 - accuracy: 0.9900 - val_loss: 2.8807 - val_accuracy: 0.4409\n",
      "Epoch 75/270\n",
      "10/10 [==============================] - 2s 198ms/step - loss: 0.0561 - accuracy: 0.9766 - val_loss: 3.2359 - val_accuracy: 0.4016\n",
      "Epoch 76/270\n",
      "10/10 [==============================] - 2s 197ms/step - loss: 0.0384 - accuracy: 0.9900 - val_loss: 3.4711 - val_accuracy: 0.3307\n",
      "Epoch 77/270\n",
      "10/10 [==============================] - 2s 198ms/step - loss: 0.0409 - accuracy: 0.9967 - val_loss: 2.6327 - val_accuracy: 0.4724\n",
      "Epoch 78/270\n",
      "10/10 [==============================] - 2s 198ms/step - loss: 0.0189 - accuracy: 0.9967 - val_loss: 1.7448 - val_accuracy: 0.6142\n",
      "Epoch 79/270\n",
      "10/10 [==============================] - 2s 197ms/step - loss: 0.0107 - accuracy: 1.0000 - val_loss: 2.4521 - val_accuracy: 0.5748\n",
      "Epoch 80/270\n",
      "10/10 [==============================] - 2s 198ms/step - loss: 0.0114 - accuracy: 0.9967 - val_loss: 2.5605 - val_accuracy: 0.5354\n",
      "Epoch 81/270\n",
      "10/10 [==============================] - 2s 198ms/step - loss: 0.0053 - accuracy: 1.0000 - val_loss: 1.8310 - val_accuracy: 0.5984\n",
      "Epoch 82/270\n",
      "10/10 [==============================] - 2s 198ms/step - loss: 0.0053 - accuracy: 1.0000 - val_loss: 1.6822 - val_accuracy: 0.6142\n",
      "Epoch 83/270\n",
      "10/10 [==============================] - 2s 198ms/step - loss: 0.0032 - accuracy: 1.0000 - val_loss: 1.7071 - val_accuracy: 0.6693\n",
      "Epoch 84/270\n",
      "10/10 [==============================] - 2s 197ms/step - loss: 0.0043 - accuracy: 1.0000 - val_loss: 1.7943 - val_accuracy: 0.6063\n",
      "Epoch 85/270\n",
      "10/10 [==============================] - 2s 197ms/step - loss: 0.0019 - accuracy: 1.0000 - val_loss: 1.7723 - val_accuracy: 0.6299\n",
      "Epoch 86/270\n",
      "10/10 [==============================] - 2s 196ms/step - loss: 0.0015 - accuracy: 1.0000 - val_loss: 1.6801 - val_accuracy: 0.6142\n",
      "Epoch 87/270\n",
      "10/10 [==============================] - 2s 197ms/step - loss: 0.0021 - accuracy: 1.0000 - val_loss: 1.6071 - val_accuracy: 0.6299\n",
      "Epoch 88/270\n",
      "10/10 [==============================] - 2s 197ms/step - loss: 0.0022 - accuracy: 1.0000 - val_loss: 1.5310 - val_accuracy: 0.6772\n",
      "Epoch 89/270\n",
      "10/10 [==============================] - 2s 197ms/step - loss: 0.0014 - accuracy: 1.0000 - val_loss: 1.4408 - val_accuracy: 0.6850\n",
      "Epoch 90/270\n",
      "10/10 [==============================] - 2s 200ms/step - loss: 0.0014 - accuracy: 1.0000 - val_loss: 1.3460 - val_accuracy: 0.7244\n",
      "Epoch 91/270\n",
      "10/10 [==============================] - 2s 198ms/step - loss: 0.0023 - accuracy: 1.0000 - val_loss: 1.3220 - val_accuracy: 0.6850\n",
      "Epoch 92/270\n",
      "10/10 [==============================] - 2s 198ms/step - loss: 8.6218e-04 - accuracy: 1.0000 - val_loss: 1.3181 - val_accuracy: 0.6535\n",
      "Epoch 93/270\n",
      "10/10 [==============================] - 2s 197ms/step - loss: 0.0021 - accuracy: 1.0000 - val_loss: 1.2990 - val_accuracy: 0.6535\n",
      "Epoch 94/270\n",
      "10/10 [==============================] - 2s 197ms/step - loss: 0.0011 - accuracy: 1.0000 - val_loss: 1.2861 - val_accuracy: 0.6457\n",
      "Epoch 95/270\n",
      "10/10 [==============================] - 2s 197ms/step - loss: 0.0036 - accuracy: 1.0000 - val_loss: 1.2940 - val_accuracy: 0.6614\n",
      "Epoch 96/270\n",
      "10/10 [==============================] - 2s 198ms/step - loss: 0.0018 - accuracy: 1.0000 - val_loss: 1.4181 - val_accuracy: 0.6693\n",
      "Epoch 97/270\n",
      "10/10 [==============================] - 2s 197ms/step - loss: 0.0018 - accuracy: 1.0000 - val_loss: 1.3244 - val_accuracy: 0.6693\n",
      "Epoch 98/270\n",
      "10/10 [==============================] - 2s 197ms/step - loss: 0.0025 - accuracy: 1.0000 - val_loss: 1.3233 - val_accuracy: 0.6850\n",
      "Epoch 99/270\n",
      "10/10 [==============================] - 2s 197ms/step - loss: 0.0037 - accuracy: 1.0000 - val_loss: 1.5862 - val_accuracy: 0.6772\n",
      "Epoch 100/270\n",
      "10/10 [==============================] - 2s 197ms/step - loss: 0.0052 - accuracy: 1.0000 - val_loss: 1.4358 - val_accuracy: 0.6535\n",
      "Epoch 101/270\n",
      "10/10 [==============================] - 2s 197ms/step - loss: 0.0014 - accuracy: 1.0000 - val_loss: 1.4407 - val_accuracy: 0.6693\n",
      "Epoch 102/270\n",
      "10/10 [==============================] - 2s 198ms/step - loss: 0.0022 - accuracy: 1.0000 - val_loss: 1.4563 - val_accuracy: 0.6535\n",
      "Epoch 103/270\n",
      "10/10 [==============================] - 2s 198ms/step - loss: 0.0014 - accuracy: 1.0000 - val_loss: 1.4433 - val_accuracy: 0.6535\n",
      "Epoch 104/270\n",
      "10/10 [==============================] - 2s 198ms/step - loss: 0.0011 - accuracy: 1.0000 - val_loss: 1.4186 - val_accuracy: 0.6614\n",
      "Epoch 105/270\n",
      "10/10 [==============================] - 2s 198ms/step - loss: 7.6505e-04 - accuracy: 1.0000 - val_loss: 1.3977 - val_accuracy: 0.6535\n",
      "Epoch 106/270\n",
      "10/10 [==============================] - 2s 198ms/step - loss: 8.4981e-04 - accuracy: 1.0000 - val_loss: 1.3927 - val_accuracy: 0.6614\n",
      "Epoch 107/270\n",
      "10/10 [==============================] - 2s 199ms/step - loss: 5.6136e-04 - accuracy: 1.0000 - val_loss: 1.3866 - val_accuracy: 0.6614\n",
      "Epoch 108/270\n",
      "10/10 [==============================] - 2s 200ms/step - loss: 8.1655e-04 - accuracy: 1.0000 - val_loss: 1.3855 - val_accuracy: 0.6457\n",
      "Epoch 109/270\n",
      "10/10 [==============================] - 2s 198ms/step - loss: 9.8025e-04 - accuracy: 1.0000 - val_loss: 1.3945 - val_accuracy: 0.6614\n",
      "Epoch 110/270\n",
      "10/10 [==============================] - 2s 197ms/step - loss: 4.9095e-04 - accuracy: 1.0000 - val_loss: 1.3973 - val_accuracy: 0.6535\n",
      "Epoch 111/270\n",
      "10/10 [==============================] - 2s 198ms/step - loss: 0.0014 - accuracy: 1.0000 - val_loss: 1.3798 - val_accuracy: 0.6614\n",
      "Epoch 112/270\n",
      "10/10 [==============================] - 2s 198ms/step - loss: 6.0414e-04 - accuracy: 1.0000 - val_loss: 1.3647 - val_accuracy: 0.6535\n",
      "Epoch 113/270\n",
      "10/10 [==============================] - 2s 199ms/step - loss: 6.9805e-04 - accuracy: 1.0000 - val_loss: 1.3548 - val_accuracy: 0.6772\n",
      "Epoch 114/270\n",
      "10/10 [==============================] - 2s 198ms/step - loss: 8.7039e-04 - accuracy: 1.0000 - val_loss: 1.3458 - val_accuracy: 0.6772\n",
      "Epoch 115/270\n",
      "10/10 [==============================] - 2s 197ms/step - loss: 0.0014 - accuracy: 1.0000 - val_loss: 1.3360 - val_accuracy: 0.6614\n",
      "Epoch 116/270\n",
      "10/10 [==============================] - 2s 197ms/step - loss: 7.3042e-04 - accuracy: 1.0000 - val_loss: 1.3305 - val_accuracy: 0.6378\n",
      "Epoch 117/270\n",
      "10/10 [==============================] - 2s 198ms/step - loss: 8.1987e-04 - accuracy: 1.0000 - val_loss: 1.3237 - val_accuracy: 0.6378\n",
      "Epoch 118/270\n",
      "10/10 [==============================] - 2s 198ms/step - loss: 0.0011 - accuracy: 1.0000 - val_loss: 1.3154 - val_accuracy: 0.6772\n",
      "Epoch 119/270\n",
      "10/10 [==============================] - 2s 198ms/step - loss: 3.9282e-04 - accuracy: 1.0000 - val_loss: 1.3135 - val_accuracy: 0.6772\n",
      "Epoch 120/270\n",
      "10/10 [==============================] - 2s 197ms/step - loss: 8.2940e-04 - accuracy: 1.0000 - val_loss: 1.3063 - val_accuracy: 0.6693\n",
      "Epoch 121/270\n",
      "10/10 [==============================] - 2s 197ms/step - loss: 6.7492e-04 - accuracy: 1.0000 - val_loss: 1.3101 - val_accuracy: 0.6378\n",
      "Epoch 122/270\n",
      "10/10 [==============================] - 2s 197ms/step - loss: 8.2152e-04 - accuracy: 1.0000 - val_loss: 1.3144 - val_accuracy: 0.6850\n",
      "Epoch 123/270\n",
      "10/10 [==============================] - 2s 197ms/step - loss: 3.0638e-04 - accuracy: 1.0000 - val_loss: 1.3141 - val_accuracy: 0.6850\n",
      "Epoch 124/270\n",
      "10/10 [==============================] - 2s 197ms/step - loss: 5.3526e-04 - accuracy: 1.0000 - val_loss: 1.3172 - val_accuracy: 0.6693\n",
      "Epoch 125/270\n",
      "10/10 [==============================] - 2s 197ms/step - loss: 0.0017 - accuracy: 1.0000 - val_loss: 1.3006 - val_accuracy: 0.6850\n",
      "Epoch 126/270\n",
      "10/10 [==============================] - 2s 201ms/step - loss: 0.0051 - accuracy: 0.9967 - val_loss: 2.6792 - val_accuracy: 0.4409\n",
      "Epoch 127/270\n",
      "10/10 [==============================] - 2s 196ms/step - loss: 0.0041 - accuracy: 1.0000 - val_loss: 2.4132 - val_accuracy: 0.5591\n",
      "Epoch 128/270\n",
      "10/10 [==============================] - 2s 198ms/step - loss: 0.0016 - accuracy: 1.0000 - val_loss: 2.1805 - val_accuracy: 0.5984\n",
      "Epoch 129/270\n",
      "10/10 [==============================] - 2s 197ms/step - loss: 0.0034 - accuracy: 1.0000 - val_loss: 1.8405 - val_accuracy: 0.6299\n",
      "Epoch 130/270\n",
      "10/10 [==============================] - 2s 197ms/step - loss: 0.0016 - accuracy: 1.0000 - val_loss: 1.5009 - val_accuracy: 0.6693\n",
      "Epoch 131/270\n",
      "10/10 [==============================] - 2s 197ms/step - loss: 0.0013 - accuracy: 1.0000 - val_loss: 1.3547 - val_accuracy: 0.6850\n",
      "Epoch 132/270\n",
      "10/10 [==============================] - 2s 197ms/step - loss: 9.9247e-04 - accuracy: 1.0000 - val_loss: 1.2989 - val_accuracy: 0.6850\n",
      "Epoch 133/270\n",
      "10/10 [==============================] - 2s 196ms/step - loss: 0.0021 - accuracy: 1.0000 - val_loss: 1.2913 - val_accuracy: 0.6772\n",
      "Epoch 134/270\n",
      "10/10 [==============================] - 2s 197ms/step - loss: 0.0151 - accuracy: 0.9967 - val_loss: 1.7116 - val_accuracy: 0.6220\n",
      "Epoch 135/270\n",
      "10/10 [==============================] - 2s 196ms/step - loss: 0.0179 - accuracy: 0.9967 - val_loss: 1.6969 - val_accuracy: 0.6299\n",
      "Epoch 136/270\n",
      "10/10 [==============================] - 2s 197ms/step - loss: 0.0200 - accuracy: 0.9967 - val_loss: 2.0060 - val_accuracy: 0.6220\n",
      "Epoch 137/270\n",
      "10/10 [==============================] - 2s 196ms/step - loss: 0.0052 - accuracy: 1.0000 - val_loss: 1.6614 - val_accuracy: 0.6457\n",
      "Epoch 138/270\n",
      "10/10 [==============================] - 2s 195ms/step - loss: 0.0037 - accuracy: 1.0000 - val_loss: 2.9085 - val_accuracy: 0.5433\n",
      "Epoch 139/270\n",
      "10/10 [==============================] - 2s 195ms/step - loss: 0.0018 - accuracy: 1.0000 - val_loss: 3.1865 - val_accuracy: 0.5591\n",
      "Epoch 140/270\n",
      "10/10 [==============================] - 2s 195ms/step - loss: 0.0064 - accuracy: 1.0000 - val_loss: 2.6736 - val_accuracy: 0.6063\n",
      "Epoch 141/270\n",
      "10/10 [==============================] - 2s 195ms/step - loss: 0.0059 - accuracy: 1.0000 - val_loss: 2.5516 - val_accuracy: 0.5906\n",
      "Epoch 142/270\n",
      "10/10 [==============================] - 2s 195ms/step - loss: 0.0042 - accuracy: 1.0000 - val_loss: 2.6493 - val_accuracy: 0.5906\n",
      "Epoch 143/270\n",
      "10/10 [==============================] - 2s 195ms/step - loss: 0.0387 - accuracy: 0.9833 - val_loss: 3.0836 - val_accuracy: 0.5669\n",
      "Epoch 144/270\n",
      "10/10 [==============================] - 2s 195ms/step - loss: 0.0286 - accuracy: 0.9900 - val_loss: 3.7751 - val_accuracy: 0.5039\n",
      "Epoch 145/270\n",
      "10/10 [==============================] - 2s 195ms/step - loss: 0.2766 - accuracy: 0.9565 - val_loss: 7.7588 - val_accuracy: 0.4882\n",
      "Epoch 146/270\n",
      "10/10 [==============================] - 2s 196ms/step - loss: 0.1994 - accuracy: 0.9264 - val_loss: 7.6623 - val_accuracy: 0.4409\n",
      "Epoch 147/270\n",
      "10/10 [==============================] - 2s 195ms/step - loss: 0.1461 - accuracy: 0.9498 - val_loss: 13.7136 - val_accuracy: 0.1654\n",
      "Epoch 148/270\n",
      "10/10 [==============================] - 2s 195ms/step - loss: 0.1716 - accuracy: 0.9298 - val_loss: 12.3889 - val_accuracy: 0.1575\n",
      "Epoch 149/270\n",
      "10/10 [==============================] - 2s 196ms/step - loss: 0.0962 - accuracy: 0.9699 - val_loss: 15.5329 - val_accuracy: 0.1811\n",
      "Epoch 150/270\n",
      "10/10 [==============================] - 2s 196ms/step - loss: 0.0858 - accuracy: 0.9833 - val_loss: 9.6852 - val_accuracy: 0.2047\n",
      "Epoch 151/270\n",
      "10/10 [==============================] - 2s 197ms/step - loss: 0.0470 - accuracy: 0.9933 - val_loss: 8.3001 - val_accuracy: 0.2205\n",
      "Epoch 152/270\n",
      "10/10 [==============================] - 2s 195ms/step - loss: 0.0211 - accuracy: 1.0000 - val_loss: 4.5760 - val_accuracy: 0.3937\n",
      "Epoch 153/270\n",
      "10/10 [==============================] - 2s 196ms/step - loss: 0.0110 - accuracy: 0.9967 - val_loss: 4.2708 - val_accuracy: 0.4173\n",
      "Epoch 154/270\n",
      "10/10 [==============================] - 2s 195ms/step - loss: 0.0245 - accuracy: 0.9933 - val_loss: 3.9457 - val_accuracy: 0.4016\n",
      "Epoch 155/270\n",
      "10/10 [==============================] - 2s 193ms/step - loss: 0.0119 - accuracy: 1.0000 - val_loss: 4.8003 - val_accuracy: 0.3307\n",
      "Epoch 156/270\n",
      "10/10 [==============================] - 2s 194ms/step - loss: 0.0198 - accuracy: 0.9933 - val_loss: 3.4786 - val_accuracy: 0.4094\n",
      "Epoch 157/270\n",
      "10/10 [==============================] - 2s 193ms/step - loss: 0.0052 - accuracy: 1.0000 - val_loss: 3.3603 - val_accuracy: 0.4331\n",
      "Epoch 158/270\n",
      "10/10 [==============================] - 2s 193ms/step - loss: 0.0105 - accuracy: 1.0000 - val_loss: 3.0358 - val_accuracy: 0.4882\n",
      "Epoch 159/270\n",
      "10/10 [==============================] - 2s 194ms/step - loss: 0.0066 - accuracy: 1.0000 - val_loss: 3.0074 - val_accuracy: 0.4961\n",
      "Epoch 160/270\n",
      "10/10 [==============================] - 2s 194ms/step - loss: 0.0059 - accuracy: 1.0000 - val_loss: 2.9397 - val_accuracy: 0.5118\n",
      "Epoch 161/270\n",
      "10/10 [==============================] - 2s 193ms/step - loss: 0.0017 - accuracy: 1.0000 - val_loss: 2.8765 - val_accuracy: 0.4803\n",
      "Epoch 162/270\n",
      "10/10 [==============================] - 2s 193ms/step - loss: 0.0040 - accuracy: 1.0000 - val_loss: 2.8191 - val_accuracy: 0.4803\n",
      "Epoch 163/270\n",
      "10/10 [==============================] - 2s 193ms/step - loss: 0.0013 - accuracy: 1.0000 - val_loss: 2.7697 - val_accuracy: 0.5039\n",
      "Epoch 164/270\n",
      "10/10 [==============================] - 2s 193ms/step - loss: 0.0016 - accuracy: 1.0000 - val_loss: 2.6969 - val_accuracy: 0.5039\n",
      "Epoch 165/270\n",
      "10/10 [==============================] - 2s 193ms/step - loss: 0.0011 - accuracy: 1.0000 - val_loss: 2.5895 - val_accuracy: 0.5276\n",
      "Epoch 166/270\n",
      "10/10 [==============================] - 2s 194ms/step - loss: 0.0014 - accuracy: 1.0000 - val_loss: 2.5138 - val_accuracy: 0.5276\n",
      "Epoch 167/270\n",
      "10/10 [==============================] - 2s 193ms/step - loss: 0.0024 - accuracy: 1.0000 - val_loss: 2.4852 - val_accuracy: 0.5354\n",
      "Epoch 168/270\n",
      "10/10 [==============================] - 2s 194ms/step - loss: 0.0013 - accuracy: 1.0000 - val_loss: 2.4252 - val_accuracy: 0.5197\n",
      "Epoch 169/270\n",
      "10/10 [==============================] - 2s 193ms/step - loss: 0.0011 - accuracy: 1.0000 - val_loss: 2.2876 - val_accuracy: 0.5276\n",
      "Epoch 170/270\n"
     ]
    },
    {
     "name": "stdout",
     "output_type": "stream",
     "text": [
      "10/10 [==============================] - 2s 193ms/step - loss: 8.2444e-04 - accuracy: 1.0000 - val_loss: 2.2119 - val_accuracy: 0.5433\n",
      "Epoch 171/270\n",
      "10/10 [==============================] - 2s 193ms/step - loss: 0.0011 - accuracy: 1.0000 - val_loss: 2.1470 - val_accuracy: 0.5433\n",
      "Epoch 172/270\n",
      "10/10 [==============================] - 2s 193ms/step - loss: 9.5831e-04 - accuracy: 1.0000 - val_loss: 2.1153 - val_accuracy: 0.5669\n",
      "Epoch 173/270\n",
      "10/10 [==============================] - 2s 193ms/step - loss: 0.0059 - accuracy: 0.9967 - val_loss: 2.2913 - val_accuracy: 0.5512\n",
      "Epoch 174/270\n",
      "10/10 [==============================] - 2s 193ms/step - loss: 0.0045 - accuracy: 1.0000 - val_loss: 2.7174 - val_accuracy: 0.4803\n",
      "Epoch 175/270\n",
      "10/10 [==============================] - 2s 193ms/step - loss: 0.0058 - accuracy: 1.0000 - val_loss: 2.9286 - val_accuracy: 0.5039\n",
      "Epoch 176/270\n",
      "10/10 [==============================] - 2s 193ms/step - loss: 0.0033 - accuracy: 1.0000 - val_loss: 3.7330 - val_accuracy: 0.4409\n",
      "Epoch 177/270\n",
      "10/10 [==============================] - 2s 194ms/step - loss: 0.0030 - accuracy: 1.0000 - val_loss: 4.0214 - val_accuracy: 0.4331\n",
      "Epoch 178/270\n",
      "10/10 [==============================] - 2s 193ms/step - loss: 0.0014 - accuracy: 1.0000 - val_loss: 3.7124 - val_accuracy: 0.4331\n",
      "Epoch 179/270\n",
      "10/10 [==============================] - 2s 194ms/step - loss: 9.5053e-04 - accuracy: 1.0000 - val_loss: 3.2267 - val_accuracy: 0.4646\n",
      "Epoch 180/270\n",
      "10/10 [==============================] - 2s 193ms/step - loss: 0.0016 - accuracy: 1.0000 - val_loss: 2.8175 - val_accuracy: 0.5276\n",
      "Epoch 181/270\n",
      "10/10 [==============================] - 2s 193ms/step - loss: 0.0017 - accuracy: 1.0000 - val_loss: 2.3343 - val_accuracy: 0.5984\n",
      "Epoch 182/270\n",
      "10/10 [==============================] - 2s 193ms/step - loss: 9.7942e-04 - accuracy: 1.0000 - val_loss: 2.2839 - val_accuracy: 0.5984\n",
      "Epoch 183/270\n",
      "10/10 [==============================] - 2s 193ms/step - loss: 0.0012 - accuracy: 1.0000 - val_loss: 2.1553 - val_accuracy: 0.6063\n",
      "Epoch 184/270\n",
      "10/10 [==============================] - 2s 194ms/step - loss: 0.0010 - accuracy: 1.0000 - val_loss: 2.0153 - val_accuracy: 0.5984\n",
      "Epoch 185/270\n",
      "10/10 [==============================] - 2s 193ms/step - loss: 7.9881e-04 - accuracy: 1.0000 - val_loss: 1.8980 - val_accuracy: 0.5906\n",
      "Epoch 186/270\n",
      "10/10 [==============================] - 2s 193ms/step - loss: 9.3710e-04 - accuracy: 1.0000 - val_loss: 1.8496 - val_accuracy: 0.5984\n",
      "Epoch 187/270\n",
      "10/10 [==============================] - 2s 194ms/step - loss: 4.8827e-04 - accuracy: 1.0000 - val_loss: 1.8185 - val_accuracy: 0.5984\n",
      "Epoch 188/270\n",
      "10/10 [==============================] - 2s 193ms/step - loss: 4.0358e-04 - accuracy: 1.0000 - val_loss: 1.7808 - val_accuracy: 0.5984\n",
      "Epoch 189/270\n",
      "10/10 [==============================] - 2s 193ms/step - loss: 7.0651e-04 - accuracy: 1.0000 - val_loss: 1.7573 - val_accuracy: 0.6220\n",
      "Epoch 190/270\n",
      "10/10 [==============================] - 2s 193ms/step - loss: 5.0949e-04 - accuracy: 1.0000 - val_loss: 1.7703 - val_accuracy: 0.6220\n",
      "Epoch 191/270\n",
      "10/10 [==============================] - 2s 194ms/step - loss: 4.5321e-04 - accuracy: 1.0000 - val_loss: 1.7489 - val_accuracy: 0.6299\n",
      "Epoch 192/270\n",
      "10/10 [==============================] - 2s 193ms/step - loss: 5.1856e-04 - accuracy: 1.0000 - val_loss: 1.7161 - val_accuracy: 0.6220\n",
      "Epoch 193/270\n",
      "10/10 [==============================] - 2s 193ms/step - loss: 3.3294e-04 - accuracy: 1.0000 - val_loss: 1.7029 - val_accuracy: 0.6535\n",
      "Epoch 194/270\n",
      "10/10 [==============================] - 2s 194ms/step - loss: 5.6694e-04 - accuracy: 1.0000 - val_loss: 1.6735 - val_accuracy: 0.6457\n",
      "Epoch 195/270\n",
      "10/10 [==============================] - 2s 193ms/step - loss: 0.0020 - accuracy: 1.0000 - val_loss: 1.6187 - val_accuracy: 0.6378\n",
      "Epoch 196/270\n",
      "10/10 [==============================] - 2s 193ms/step - loss: 0.0040 - accuracy: 1.0000 - val_loss: 1.5815 - val_accuracy: 0.6142\n",
      "Epoch 197/270\n",
      "10/10 [==============================] - 2s 193ms/step - loss: 5.3574e-04 - accuracy: 1.0000 - val_loss: 1.9220 - val_accuracy: 0.5276\n",
      "Epoch 198/270\n",
      "10/10 [==============================] - 2s 193ms/step - loss: 0.0131 - accuracy: 0.9967 - val_loss: 1.6670 - val_accuracy: 0.5906\n",
      "Epoch 199/270\n",
      "10/10 [==============================] - 2s 194ms/step - loss: 0.1035 - accuracy: 0.9799 - val_loss: 3.6045 - val_accuracy: 0.3228\n",
      "Epoch 200/270\n",
      "10/10 [==============================] - 2s 194ms/step - loss: 0.0874 - accuracy: 0.9666 - val_loss: 25.2030 - val_accuracy: 0.2283\n",
      "Epoch 201/270\n",
      "10/10 [==============================] - 2s 194ms/step - loss: 0.0829 - accuracy: 0.9732 - val_loss: 16.1108 - val_accuracy: 0.2677\n",
      "Epoch 202/270\n",
      "10/10 [==============================] - 2s 193ms/step - loss: 0.0486 - accuracy: 0.9799 - val_loss: 8.3710 - val_accuracy: 0.3071\n",
      "Epoch 203/270\n",
      "10/10 [==============================] - 2s 194ms/step - loss: 0.1304 - accuracy: 0.9632 - val_loss: 23.1530 - val_accuracy: 0.2126\n",
      "Epoch 204/270\n",
      "10/10 [==============================] - 2s 193ms/step - loss: 0.0876 - accuracy: 0.9666 - val_loss: 12.5505 - val_accuracy: 0.3150\n",
      "Epoch 205/270\n",
      "10/10 [==============================] - 2s 193ms/step - loss: 0.0409 - accuracy: 0.9900 - val_loss: 9.7270 - val_accuracy: 0.4173\n",
      "Epoch 206/270\n",
      "10/10 [==============================] - 2s 193ms/step - loss: 0.0368 - accuracy: 0.9866 - val_loss: 7.8932 - val_accuracy: 0.2520\n",
      "Epoch 207/270\n",
      "10/10 [==============================] - 2s 194ms/step - loss: 0.0345 - accuracy: 0.9900 - val_loss: 3.9948 - val_accuracy: 0.3465\n",
      "Epoch 208/270\n",
      "10/10 [==============================] - 2s 194ms/step - loss: 0.0760 - accuracy: 0.9666 - val_loss: 4.6092 - val_accuracy: 0.4882\n",
      "Epoch 209/270\n",
      "10/10 [==============================] - 2s 194ms/step - loss: 0.0805 - accuracy: 0.9799 - val_loss: 2.0368 - val_accuracy: 0.6063\n",
      "Epoch 210/270\n",
      "10/10 [==============================] - 2s 194ms/step - loss: 0.0476 - accuracy: 0.9799 - val_loss: 8.2680 - val_accuracy: 0.3307\n",
      "Epoch 211/270\n",
      "10/10 [==============================] - 2s 194ms/step - loss: 0.0116 - accuracy: 1.0000 - val_loss: 9.2943 - val_accuracy: 0.3386\n",
      "Epoch 212/270\n",
      "10/10 [==============================] - 2s 193ms/step - loss: 0.0123 - accuracy: 1.0000 - val_loss: 8.0915 - val_accuracy: 0.4094\n",
      "Epoch 213/270\n",
      "10/10 [==============================] - 2s 194ms/step - loss: 0.0210 - accuracy: 0.9933 - val_loss: 6.5815 - val_accuracy: 0.4488\n",
      "Epoch 214/270\n",
      "10/10 [==============================] - 2s 193ms/step - loss: 0.0032 - accuracy: 1.0000 - val_loss: 6.1833 - val_accuracy: 0.4567\n",
      "Epoch 215/270\n",
      "10/10 [==============================] - 2s 194ms/step - loss: 0.0047 - accuracy: 1.0000 - val_loss: 4.8654 - val_accuracy: 0.4961\n",
      "Epoch 216/270\n",
      "10/10 [==============================] - 2s 193ms/step - loss: 0.0054 - accuracy: 1.0000 - val_loss: 3.4277 - val_accuracy: 0.5354\n",
      "Epoch 217/270\n",
      "10/10 [==============================] - 2s 194ms/step - loss: 0.0014 - accuracy: 1.0000 - val_loss: 2.6996 - val_accuracy: 0.6063\n",
      "Epoch 218/270\n",
      "10/10 [==============================] - 2s 194ms/step - loss: 0.0027 - accuracy: 1.0000 - val_loss: 2.3596 - val_accuracy: 0.6220\n",
      "Epoch 219/270\n",
      "10/10 [==============================] - 2s 193ms/step - loss: 0.0036 - accuracy: 1.0000 - val_loss: 2.3634 - val_accuracy: 0.6063\n",
      "Epoch 220/270\n",
      "10/10 [==============================] - 2s 194ms/step - loss: 0.0158 - accuracy: 0.9933 - val_loss: 3.1786 - val_accuracy: 0.5197\n",
      "Epoch 221/270\n",
      "10/10 [==============================] - 2s 194ms/step - loss: 0.0398 - accuracy: 0.9933 - val_loss: 6.8740 - val_accuracy: 0.4016\n",
      "Epoch 222/270\n",
      "10/10 [==============================] - 2s 193ms/step - loss: 0.0263 - accuracy: 0.9900 - val_loss: 6.8544 - val_accuracy: 0.2913\n",
      "Epoch 223/270\n",
      "10/10 [==============================] - 2s 194ms/step - loss: 0.0256 - accuracy: 0.9933 - val_loss: 5.0193 - val_accuracy: 0.3543\n",
      "Epoch 224/270\n",
      "10/10 [==============================] - 2s 193ms/step - loss: 0.0119 - accuracy: 1.0000 - val_loss: 2.8342 - val_accuracy: 0.5433\n",
      "Epoch 225/270\n",
      "10/10 [==============================] - 2s 193ms/step - loss: 0.0052 - accuracy: 1.0000 - val_loss: 1.8619 - val_accuracy: 0.6142\n",
      "Epoch 226/270\n",
      "10/10 [==============================] - 2s 194ms/step - loss: 0.0045 - accuracy: 1.0000 - val_loss: 1.9383 - val_accuracy: 0.6378\n",
      "Epoch 227/270\n",
      "10/10 [==============================] - 2s 193ms/step - loss: 0.0051 - accuracy: 1.0000 - val_loss: 2.0329 - val_accuracy: 0.5669\n",
      "Epoch 228/270\n",
      "10/10 [==============================] - 2s 193ms/step - loss: 0.0082 - accuracy: 1.0000 - val_loss: 2.0123 - val_accuracy: 0.6220\n",
      "Epoch 229/270\n",
      "10/10 [==============================] - 2s 193ms/step - loss: 0.0035 - accuracy: 1.0000 - val_loss: 3.3457 - val_accuracy: 0.4961\n",
      "Epoch 230/270\n",
      "10/10 [==============================] - 2s 194ms/step - loss: 0.0035 - accuracy: 1.0000 - val_loss: 2.8037 - val_accuracy: 0.5039\n",
      "Epoch 231/270\n",
      "10/10 [==============================] - 2s 193ms/step - loss: 0.0013 - accuracy: 1.0000 - val_loss: 2.1853 - val_accuracy: 0.5591\n",
      "Epoch 232/270\n",
      "10/10 [==============================] - 2s 194ms/step - loss: 0.0103 - accuracy: 0.9933 - val_loss: 1.7438 - val_accuracy: 0.6063\n",
      "Epoch 233/270\n",
      "10/10 [==============================] - 2s 193ms/step - loss: 0.0488 - accuracy: 0.9833 - val_loss: 6.5969 - val_accuracy: 0.2835\n",
      "Epoch 234/270\n",
      "10/10 [==============================] - 2s 193ms/step - loss: 0.0874 - accuracy: 0.9799 - val_loss: 4.6609 - val_accuracy: 0.3701\n",
      "Epoch 235/270\n",
      "10/10 [==============================] - 2s 193ms/step - loss: 0.0551 - accuracy: 0.9866 - val_loss: 6.3067 - val_accuracy: 0.3543\n",
      "Epoch 236/270\n",
      "10/10 [==============================] - 2s 194ms/step - loss: 0.0529 - accuracy: 0.9732 - val_loss: 4.1780 - val_accuracy: 0.3228\n",
      "Epoch 237/270\n",
      "10/10 [==============================] - 2s 194ms/step - loss: 0.0687 - accuracy: 0.9766 - val_loss: 3.9325 - val_accuracy: 0.3307\n",
      "Epoch 238/270\n",
      "10/10 [==============================] - 2s 193ms/step - loss: 0.0527 - accuracy: 0.9766 - val_loss: 3.2994 - val_accuracy: 0.3543\n",
      "Epoch 239/270\n",
      "10/10 [==============================] - 2s 193ms/step - loss: 0.0217 - accuracy: 0.9967 - val_loss: 5.1969 - val_accuracy: 0.2283\n",
      "Epoch 240/270\n",
      "10/10 [==============================] - 2s 193ms/step - loss: 0.0175 - accuracy: 0.9933 - val_loss: 3.5360 - val_accuracy: 0.3543\n",
      "Epoch 241/270\n",
      "10/10 [==============================] - 2s 194ms/step - loss: 0.0176 - accuracy: 0.9933 - val_loss: 2.1486 - val_accuracy: 0.4488\n",
      "Epoch 242/270\n",
      "10/10 [==============================] - 2s 193ms/step - loss: 0.0128 - accuracy: 0.9967 - val_loss: 2.0227 - val_accuracy: 0.5591\n",
      "Epoch 243/270\n",
      "10/10 [==============================] - 2s 193ms/step - loss: 0.0043 - accuracy: 1.0000 - val_loss: 1.9758 - val_accuracy: 0.5669\n",
      "Epoch 244/270\n",
      "10/10 [==============================] - 2s 193ms/step - loss: 0.0016 - accuracy: 1.0000 - val_loss: 2.4029 - val_accuracy: 0.5197\n",
      "Epoch 245/270\n",
      "10/10 [==============================] - 2s 193ms/step - loss: 0.0034 - accuracy: 1.0000 - val_loss: 2.3534 - val_accuracy: 0.5433\n",
      "Epoch 246/270\n",
      "10/10 [==============================] - 2s 193ms/step - loss: 0.0198 - accuracy: 0.9933 - val_loss: 2.4559 - val_accuracy: 0.4882\n",
      "Epoch 247/270\n",
      "10/10 [==============================] - 2s 194ms/step - loss: 0.0659 - accuracy: 0.9666 - val_loss: 6.9187 - val_accuracy: 0.1732\n",
      "Epoch 248/270\n",
      "10/10 [==============================] - 2s 194ms/step - loss: 0.0561 - accuracy: 0.9799 - val_loss: 4.3486 - val_accuracy: 0.4409\n",
      "Epoch 249/270\n",
      "10/10 [==============================] - 2s 193ms/step - loss: 0.0901 - accuracy: 0.9732 - val_loss: 12.8086 - val_accuracy: 0.2126\n",
      "Epoch 250/270\n",
      "10/10 [==============================] - 2s 193ms/step - loss: 0.0343 - accuracy: 0.9933 - val_loss: 6.6837 - val_accuracy: 0.3307\n",
      "Epoch 251/270\n",
      "10/10 [==============================] - 2s 194ms/step - loss: 0.0249 - accuracy: 0.9900 - val_loss: 6.5489 - val_accuracy: 0.4252\n",
      "Epoch 252/270\n",
      "10/10 [==============================] - 2s 194ms/step - loss: 0.0275 - accuracy: 0.9933 - val_loss: 2.3156 - val_accuracy: 0.5906\n",
      "Epoch 253/270\n",
      "10/10 [==============================] - 2s 195ms/step - loss: 0.0217 - accuracy: 0.9866 - val_loss: 1.9727 - val_accuracy: 0.6142\n",
      "Epoch 254/270\n",
      "10/10 [==============================] - 2s 197ms/step - loss: 0.0088 - accuracy: 1.0000 - val_loss: 2.2951 - val_accuracy: 0.6378\n",
      "Epoch 255/270\n",
      "10/10 [==============================] - 2s 195ms/step - loss: 0.0052 - accuracy: 0.9967 - val_loss: 1.7107 - val_accuracy: 0.6535\n",
      "Epoch 256/270\n",
      "10/10 [==============================] - 2s 194ms/step - loss: 0.0022 - accuracy: 1.0000 - val_loss: 1.5911 - val_accuracy: 0.6535\n",
      "Epoch 257/270\n",
      "10/10 [==============================] - 2s 196ms/step - loss: 0.0039 - accuracy: 1.0000 - val_loss: 1.5453 - val_accuracy: 0.6457\n",
      "Epoch 258/270\n",
      "10/10 [==============================] - 2s 194ms/step - loss: 0.0020 - accuracy: 1.0000 - val_loss: 1.6105 - val_accuracy: 0.6378\n",
      "Epoch 259/270\n",
      "10/10 [==============================] - 2s 193ms/step - loss: 0.0015 - accuracy: 1.0000 - val_loss: 1.6198 - val_accuracy: 0.6142\n",
      "Epoch 260/270\n",
      "10/10 [==============================] - 2s 194ms/step - loss: 0.0014 - accuracy: 1.0000 - val_loss: 1.6325 - val_accuracy: 0.6142\n",
      "Epoch 261/270\n",
      "10/10 [==============================] - 2s 194ms/step - loss: 0.0013 - accuracy: 1.0000 - val_loss: 1.6101 - val_accuracy: 0.5984\n",
      "Epoch 262/270\n",
      "10/10 [==============================] - 2s 194ms/step - loss: 8.5421e-04 - accuracy: 1.0000 - val_loss: 1.5623 - val_accuracy: 0.6142\n",
      "Epoch 263/270\n",
      "10/10 [==============================] - 2s 193ms/step - loss: 0.0012 - accuracy: 1.0000 - val_loss: 1.4965 - val_accuracy: 0.6457\n",
      "Epoch 264/270\n",
      "10/10 [==============================] - 2s 193ms/step - loss: 0.0026 - accuracy: 1.0000 - val_loss: 1.4902 - val_accuracy: 0.6220\n",
      "Epoch 265/270\n",
      "10/10 [==============================] - 2s 193ms/step - loss: 9.8461e-04 - accuracy: 1.0000 - val_loss: 1.8566 - val_accuracy: 0.6299\n",
      "Epoch 266/270\n",
      "10/10 [==============================] - 2s 194ms/step - loss: 0.0030 - accuracy: 1.0000 - val_loss: 1.9007 - val_accuracy: 0.6220\n",
      "Epoch 267/270\n",
      "10/10 [==============================] - 2s 194ms/step - loss: 0.0030 - accuracy: 1.0000 - val_loss: 1.6180 - val_accuracy: 0.6378\n",
      "Epoch 268/270\n",
      "10/10 [==============================] - 2s 193ms/step - loss: 0.0020 - accuracy: 1.0000 - val_loss: 1.4869 - val_accuracy: 0.6378\n",
      "Epoch 269/270\n",
      "10/10 [==============================] - 2s 194ms/step - loss: 8.1967e-04 - accuracy: 1.0000 - val_loss: 1.4229 - val_accuracy: 0.6457\n",
      "Epoch 270/270\n",
      "10/10 [==============================] - 2s 193ms/step - loss: 0.0038 - accuracy: 1.0000 - val_loss: 1.4469 - val_accuracy: 0.6378\n"
     ]
    }
   ],
   "source": [
    "epochs =270\n",
    "\n",
    "history = model.fit(\n",
    "    train_dataset, \n",
    "    epochs=epochs,\n",
    "    validation_data=test_dataset\n",
    ")"
   ]
  },
  {
   "cell_type": "code",
   "execution_count": 7,
   "metadata": {},
   "outputs": [],
   "source": [
    "#Compile model\n",
    "model.compile(\n",
    "  optimizer='adam',\n",
    "  loss='mse',\n",
    "  metrics=[tf.keras.metrics.CategoricalAccuracy()])"
   ]
  },
  {
   "cell_type": "code",
   "execution_count": 8,
   "metadata": {},
   "outputs": [
    {
     "name": "stdout",
     "output_type": "stream",
     "text": [
      "4/4 [==============================] - 0s 38ms/step - loss: 0.0931 - categorical_accuracy: 0.6378\n",
      "Test Accuracy: 63.78%\n"
     ]
    }
   ],
   "source": [
    "evaluation = model.evaluate(test_dataset)\n",
    "print(f\"Test Accuracy: {evaluation[1] * 100:.2f}%\")"
   ]
  },
  {
   "cell_type": "code",
   "execution_count": 9,
   "metadata": {},
   "outputs": [
    {
     "name": "stdout",
     "output_type": "stream",
     "text": [
      "4/4 - 0s - loss: 0.0931 - categorical_accuracy: 0.6378 - 242ms/epoch - 61ms/step\n"
     ]
    }
   ],
   "source": [
    "test_loss, test_acc = model.evaluate(test_dataset, verbose=2)"
   ]
  },
  {
   "cell_type": "code",
   "execution_count": 10,
   "metadata": {},
   "outputs": [],
   "source": [
    "# compile the model\n",
    "model.compile(loss='categorical_crossentropy', optimizer='adam', metrics=['accuracy'])"
   ]
  },
  {
   "cell_type": "code",
   "execution_count": 11,
   "metadata": {},
   "outputs": [
    {
     "name": "stdout",
     "output_type": "stream",
     "text": [
      "4/4 - 0s - loss: 1.4469 - accuracy: 0.6378 - 499ms/epoch - 125ms/step\n"
     ]
    }
   ],
   "source": [
    "test_loss, test_acc = model.evaluate(test_dataset, verbose=2)"
   ]
  },
  {
   "cell_type": "code",
   "execution_count": 12,
   "metadata": {},
   "outputs": [
    {
     "name": "stdout",
     "output_type": "stream",
     "text": [
      "10/10 [==============================] - 2s 222ms/step - loss: 5.5227e-04 - accuracy: 1.0000\n",
      "Train Accuracy: 100.00%\n"
     ]
    }
   ],
   "source": [
    "evaluation = model.evaluate(train_dataset)\n",
    "print(f\"Train Accuracy: {evaluation[1] * 100:.2f}%\")"
   ]
  },
  {
   "cell_type": "code",
   "execution_count": 13,
   "metadata": {},
   "outputs": [
    {
     "name": "stdout",
     "output_type": "stream",
     "text": [
      "['A Not Ripe', 'A Ripe', 'B Not Ripe', 'B Ripe', 'C Not Ripe', 'C Ripe']\n"
     ]
    }
   ],
   "source": [
    "class_names = test_dataset.class_names\n",
    "print(class_names)"
   ]
  },
  {
   "cell_type": "code",
   "execution_count": 14,
   "metadata": {},
   "outputs": [
    {
     "name": "stdout",
     "output_type": "stream",
     "text": [
      "This image most likely belongs to A Ripe with a 35.09 percent confidence.\n"
     ]
    }
   ],
   "source": [
    "#1 A Ripe\n",
    "rootdir = \"C:/Users/User/Desktop/Category/test/A Ripe/AR10_90.png\"\n",
    "img = tf.keras.utils.load_img(\n",
    "    rootdir, target_size=(160, 160)\n",
    ")\n",
    "\n",
    "img_array = tf.keras.utils.img_to_array(img)\n",
    "img_array = tf.expand_dims(img_array, axis=0) # Create a batch\n",
    "\n",
    "predictions = model.predict(img_array)\n",
    "score = tf.nn.softmax(predictions[0])\n",
    "\n",
    "print(\n",
    "    \"This image most likely belongs to {} with a {:.2f} percent confidence.\"\n",
    "    .format(class_names[np.argmax(score)], 100 * np.max(score))\n",
    ")"
   ]
  },
  {
   "cell_type": "code",
   "execution_count": 15,
   "metadata": {},
   "outputs": [
    {
     "name": "stdout",
     "output_type": "stream",
     "text": [
      "This image most likely belongs to A Ripe with a 34.23 percent confidence.\n"
     ]
    }
   ],
   "source": [
    "#2\n",
    "rootdir = \"C:/Users/User/Desktop/Category/test/A Ripe/AR11_180.png\"\n",
    "img = tf.keras.utils.load_img(\n",
    "    rootdir, target_size=(160, 160)\n",
    ")\n",
    "\n",
    "img_array = tf.keras.utils.img_to_array(img)\n",
    "img_array = tf.expand_dims(img_array, axis=0) # Create a batch\n",
    "\n",
    "predictions = model.predict(img_array)\n",
    "score = tf.nn.softmax(predictions[0])\n",
    "\n",
    "print(\n",
    "    \"This image most likely belongs to {} with a {:.2f} percent confidence.\"\n",
    "    .format(class_names[np.argmax(score)], 100 * np.max(score))\n",
    ")\n"
   ]
  },
  {
   "cell_type": "code",
   "execution_count": 16,
   "metadata": {},
   "outputs": [
    {
     "name": "stdout",
     "output_type": "stream",
     "text": [
      "This image most likely belongs to A Not Ripe with a 29.47 percent confidence.\n"
     ]
    }
   ],
   "source": [
    "#3\n",
    "rootdir = \"C:/Users/User/Desktop/Category/test/A Ripe/AR12_0.png\"\n",
    "img = tf.keras.utils.load_img(\n",
    "    rootdir, target_size=(160, 160)\n",
    ")\n",
    "\n",
    "img_array = tf.keras.utils.img_to_array(img)\n",
    "img_array = tf.expand_dims(img_array, axis=0) # Create a batch\n",
    "\n",
    "predictions = model.predict(img_array)\n",
    "score = tf.nn.softmax(predictions[0])\n",
    "\n",
    "print(\n",
    "    \"This image most likely belongs to {} with a {:.2f} percent confidence.\"\n",
    "    .format(class_names[np.argmax(score)], 100 * np.max(score))\n",
    ")"
   ]
  },
  {
   "cell_type": "code",
   "execution_count": 17,
   "metadata": {},
   "outputs": [
    {
     "name": "stdout",
     "output_type": "stream",
     "text": [
      "This image most likely belongs to A Not Ripe with a 35.16 percent confidence.\n"
     ]
    }
   ],
   "source": [
    "#4\n",
    "rootdir = \"C:/Users/User/Desktop/Category/test/A Ripe/AR13_180.png\"\n",
    "img = tf.keras.utils.load_img(\n",
    "    rootdir, target_size=(160, 160)\n",
    ")\n",
    "\n",
    "img_array = tf.keras.utils.img_to_array(img)\n",
    "img_array = tf.expand_dims(img_array, axis=0) # Create a batch\n",
    "\n",
    "predictions = model.predict(img_array)\n",
    "score = tf.nn.softmax(predictions[0])\n",
    "\n",
    "print(\n",
    "    \"This image most likely belongs to {} with a {:.2f} percent confidence.\"\n",
    "    .format(class_names[np.argmax(score)], 100 * np.max(score))\n",
    ")\n"
   ]
  },
  {
   "cell_type": "code",
   "execution_count": 18,
   "metadata": {},
   "outputs": [
    {
     "name": "stdout",
     "output_type": "stream",
     "text": [
      "This image most likely belongs to A Ripe with a 35.22 percent confidence.\n"
     ]
    }
   ],
   "source": [
    "#5\n",
    "rootdir = \"C:/Users/User/Desktop/Category/test/A Ripe/AR14_0.png\"\n",
    "img = tf.keras.utils.load_img(\n",
    "    rootdir, target_size=(160, 160)\n",
    ")\n",
    "\n",
    "img_array = tf.keras.utils.img_to_array(img)\n",
    "img_array = tf.expand_dims(img_array, axis=0) # Create a batch\n",
    "\n",
    "predictions = model.predict(img_array)\n",
    "score = tf.nn.softmax(predictions[0])\n",
    "\n",
    "print(\n",
    "    \"This image most likely belongs to {} with a {:.2f} percent confidence.\"\n",
    "    .format(class_names[np.argmax(score)], 100 * np.max(score))\n",
    ")\n"
   ]
  },
  {
   "cell_type": "code",
   "execution_count": 19,
   "metadata": {},
   "outputs": [
    {
     "name": "stdout",
     "output_type": "stream",
     "text": [
      "This image most likely belongs to A Ripe with a 23.06 percent confidence.\n"
     ]
    }
   ],
   "source": [
    "#6\n",
    "rootdir = \"C:/Users/User/Desktop/Category/test/A Ripe/AR15_0.png\"\n",
    "img = tf.keras.utils.load_img(\n",
    "    rootdir, target_size=(160, 160)\n",
    ")\n",
    "\n",
    "img_array = tf.keras.utils.img_to_array(img)\n",
    "img_array = tf.expand_dims(img_array, axis=0) # Create a batch\n",
    "\n",
    "predictions = model.predict(img_array)\n",
    "score = tf.nn.softmax(predictions[0])\n",
    "\n",
    "print(\n",
    "    \"This image most likely belongs to {} with a {:.2f} percent confidence.\"\n",
    "    .format(class_names[np.argmax(score)], 100 * np.max(score))\n",
    ")\n"
   ]
  },
  {
   "cell_type": "code",
   "execution_count": 20,
   "metadata": {},
   "outputs": [
    {
     "name": "stdout",
     "output_type": "stream",
     "text": [
      "This image most likely belongs to A Not Ripe with a 35.08 percent confidence.\n"
     ]
    }
   ],
   "source": [
    "#7\n",
    "rootdir = \"C:/Users/User/Desktop/Category/test/A Ripe/AR16_0.png\"\n",
    "img = tf.keras.utils.load_img(\n",
    "    rootdir, target_size=(160, 160)\n",
    ")\n",
    "\n",
    "img_array = tf.keras.utils.img_to_array(img)\n",
    "img_array = tf.expand_dims(img_array, axis=0) # Create a batch\n",
    "\n",
    "predictions = model.predict(img_array)\n",
    "score = tf.nn.softmax(predictions[0])\n",
    "\n",
    "print(\n",
    "    \"This image most likely belongs to {} with a {:.2f} percent confidence.\"\n",
    "    .format(class_names[np.argmax(score)], 100 * np.max(score))\n",
    ")\n"
   ]
  },
  {
   "cell_type": "code",
   "execution_count": 21,
   "metadata": {},
   "outputs": [
    {
     "name": "stdout",
     "output_type": "stream",
     "text": [
      "This image most likely belongs to A Ripe with a 35.20 percent confidence.\n"
     ]
    }
   ],
   "source": [
    "#8\n",
    "rootdir = \"C:/Users/User/Desktop/Category/test/A Ripe/AR1_270.png\"\n",
    "img = tf.keras.utils.load_img(\n",
    "    rootdir, target_size=(160,160)\n",
    ")\n",
    "\n",
    "img_array = tf.keras.utils.img_to_array(img)\n",
    "img_array = tf.expand_dims(img_array, axis=0) # Create a batch\n",
    "\n",
    "predictions = model.predict(img_array)\n",
    "score = tf.nn.softmax(predictions[0])\n",
    "\n",
    "print(\n",
    "    \"This image most likely belongs to {} with a {:.2f} percent confidence.\"\n",
    "    .format(class_names[np.argmax(score)], 100 * np.max(score))\n",
    ")\n"
   ]
  },
  {
   "cell_type": "code",
   "execution_count": 22,
   "metadata": {},
   "outputs": [
    {
     "name": "stdout",
     "output_type": "stream",
     "text": [
      "This image most likely belongs to A Ripe with a 35.21 percent confidence.\n"
     ]
    }
   ],
   "source": [
    "#9\n",
    "rootdir = \"C:/Users/User/Desktop/Category/test/A Ripe/AR2_180.png\"\n",
    "img = tf.keras.utils.load_img(\n",
    "    rootdir, target_size=(160,160)\n",
    ")\n",
    "\n",
    "img_array = tf.keras.utils.img_to_array(img)\n",
    "img_array = tf.expand_dims(img_array, axis=0) # Create a batch\n",
    "\n",
    "predictions = model.predict(img_array)\n",
    "score = tf.nn.softmax(predictions[0])\n",
    "\n",
    "print(\n",
    "    \"This image most likely belongs to {} with a {:.2f} percent confidence.\"\n",
    "    .format(class_names[np.argmax(score)], 100 * np.max(score))\n",
    ")\n"
   ]
  },
  {
   "cell_type": "code",
   "execution_count": 23,
   "metadata": {},
   "outputs": [
    {
     "name": "stdout",
     "output_type": "stream",
     "text": [
      "This image most likely belongs to A Ripe with a 32.29 percent confidence.\n"
     ]
    }
   ],
   "source": [
    "#10\n",
    "rootdir = \"C:/Users/User/Desktop/Category/test/A Ripe/AR3_180.png\"\n",
    "img = tf.keras.utils.load_img(\n",
    "    rootdir, target_size=(160,160)\n",
    ")\n",
    "\n",
    "img_array = tf.keras.utils.img_to_array(img)\n",
    "img_array = tf.expand_dims(img_array, axis=0) # Create a batch\n",
    "\n",
    "predictions = model.predict(img_array)\n",
    "score = tf.nn.softmax(predictions[0])\n",
    "\n",
    "print(\n",
    "    \"This image most likely belongs to {} with a {:.2f} percent confidence.\"\n",
    "    .format(class_names[np.argmax(score)], 100 * np.max(score))\n",
    ")\n"
   ]
  },
  {
   "cell_type": "code",
   "execution_count": 24,
   "metadata": {},
   "outputs": [
    {
     "name": "stdout",
     "output_type": "stream",
     "text": [
      "This image most likely belongs to A Ripe with a 22.84 percent confidence.\n"
     ]
    }
   ],
   "source": [
    "#11\n",
    "rootdir = \"C:/Users/User/Desktop/Category/test/A Ripe/AR4_270.png\"\n",
    "img = tf.keras.utils.load_img(\n",
    "    rootdir, target_size=(160,160)\n",
    ")\n",
    "\n",
    "img_array = tf.keras.utils.img_to_array(img)\n",
    "img_array = tf.expand_dims(img_array, axis=0) # Create a batch\n",
    "\n",
    "predictions = model.predict(img_array)\n",
    "score = tf.nn.softmax(predictions[0])\n",
    "\n",
    "print(\n",
    "    \"This image most likely belongs to {} with a {:.2f} percent confidence.\"\n",
    "    .format(class_names[np.argmax(score)], 100 * np.max(score))\n",
    ")\n"
   ]
  },
  {
   "cell_type": "code",
   "execution_count": 25,
   "metadata": {},
   "outputs": [
    {
     "name": "stdout",
     "output_type": "stream",
     "text": [
      "This image most likely belongs to A Ripe with a 34.96 percent confidence.\n"
     ]
    }
   ],
   "source": [
    "#12\n",
    "rootdir = \"C:/Users/User/Desktop/Category/test/A Ripe/AR5_180.png\"\n",
    "img = tf.keras.utils.load_img(\n",
    "    rootdir, target_size=(160, 160)\n",
    ")\n",
    "\n",
    "img_array = tf.keras.utils.img_to_array(img)\n",
    "img_array = tf.expand_dims(img_array, axis=0) # Create a batch\n",
    "\n",
    "predictions = model.predict(img_array)\n",
    "score = tf.nn.softmax(predictions[0])\n",
    "\n",
    "print(\n",
    "    \"This image most likely belongs to {} with a {:.2f} percent confidence.\"\n",
    "    .format(class_names[np.argmax(score)], 100 * np.max(score))\n",
    ")\n"
   ]
  },
  {
   "cell_type": "code",
   "execution_count": 26,
   "metadata": {},
   "outputs": [
    {
     "name": "stdout",
     "output_type": "stream",
     "text": [
      "This image most likely belongs to A Ripe with a 35.20 percent confidence.\n"
     ]
    }
   ],
   "source": [
    "#13\n",
    "rootdir = \"C:/Users/User/Desktop/Category/test/A Ripe/AR6_270.png\"\n",
    "img = tf.keras.utils.load_img(\n",
    "    rootdir, target_size=(160, 160)\n",
    ")\n",
    "\n",
    "img_array = tf.keras.utils.img_to_array(img)\n",
    "img_array = tf.expand_dims(img_array, axis=0) # Create a batch\n",
    "\n",
    "predictions = model.predict(img_array)\n",
    "score = tf.nn.softmax(predictions[0])\n",
    "\n",
    "print(\n",
    "    \"This image most likely belongs to {} with a {:.2f} percent confidence.\"\n",
    "    .format(class_names[np.argmax(score)], 100 * np.max(score))\n",
    ")\n"
   ]
  },
  {
   "cell_type": "code",
   "execution_count": 27,
   "metadata": {},
   "outputs": [
    {
     "name": "stdout",
     "output_type": "stream",
     "text": [
      "This image most likely belongs to A Ripe with a 27.91 percent confidence.\n"
     ]
    }
   ],
   "source": [
    "#14\n",
    "rootdir = \"C:/Users/User/Desktop/Category/test/A Ripe/AR77_270.png\"\n",
    "img = tf.keras.utils.load_img(\n",
    "    rootdir, target_size=(160, 160)\n",
    ")\n",
    "\n",
    "img_array = tf.keras.utils.img_to_array(img)\n",
    "img_array = tf.expand_dims(img_array, axis=0) # Create a batch\n",
    "\n",
    "predictions = model.predict(img_array)\n",
    "score = tf.nn.softmax(predictions[0])\n",
    "\n",
    "print(\n",
    "    \"This image most likely belongs to {} with a {:.2f} percent confidence.\"\n",
    "    .format(class_names[np.argmax(score)], 100 * np.max(score))\n",
    ")\n"
   ]
  },
  {
   "cell_type": "code",
   "execution_count": 28,
   "metadata": {},
   "outputs": [
    {
     "name": "stdout",
     "output_type": "stream",
     "text": [
      "This image most likely belongs to A Ripe with a 35.20 percent confidence.\n"
     ]
    }
   ],
   "source": [
    "#15\n",
    "rootdir = \"C:/Users/User/Desktop/Category/test/A Ripe/AR78_90.png\"\n",
    "img = tf.keras.utils.load_img(\n",
    "    rootdir, target_size=(160, 160)\n",
    ")\n",
    "\n",
    "img_array = tf.keras.utils.img_to_array(img)\n",
    "img_array = tf.expand_dims(img_array, axis=0) # Create a batch\n",
    "\n",
    "predictions = model.predict(img_array)\n",
    "score = tf.nn.softmax(predictions[0])\n",
    "\n",
    "print(\n",
    "    \"This image most likely belongs to {} with a {:.2f} percent confidence.\"\n",
    "    .format(class_names[np.argmax(score)], 100 * np.max(score))\n",
    ")\n"
   ]
  },
  {
   "cell_type": "code",
   "execution_count": 29,
   "metadata": {},
   "outputs": [
    {
     "name": "stdout",
     "output_type": "stream",
     "text": [
      "This image most likely belongs to A Ripe with a 35.22 percent confidence.\n"
     ]
    }
   ],
   "source": [
    "#17\n",
    "rootdir = \"C:/Users/User/Desktop/Category/test/A Ripe/AR7_180.png\"\n",
    "img = tf.keras.utils.load_img(\n",
    "    rootdir, target_size=(160, 160)\n",
    ")\n",
    "\n",
    "img_array = tf.keras.utils.img_to_array(img)\n",
    "img_array = tf.expand_dims(img_array, axis=0) # Create a batch\n",
    "\n",
    "predictions = model.predict(img_array)\n",
    "score = tf.nn.softmax(predictions[0])\n",
    "\n",
    "print(\n",
    "    \"This image most likely belongs to {} with a {:.2f} percent confidence.\"\n",
    "    .format(class_names[np.argmax(score)], 100 * np.max(score))\n",
    ")\n"
   ]
  },
  {
   "cell_type": "code",
   "execution_count": 30,
   "metadata": {},
   "outputs": [
    {
     "name": "stdout",
     "output_type": "stream",
     "text": [
      "This image most likely belongs to A Ripe with a 35.22 percent confidence.\n"
     ]
    }
   ],
   "source": [
    "#17\n",
    "rootdir = \"C:/Users/User/Desktop/Category/test/A Ripe/AR7_180.png\"\n",
    "img = tf.keras.utils.load_img(\n",
    "    rootdir, target_size=(160, 160)\n",
    ")\n",
    "\n",
    "img_array = tf.keras.utils.img_to_array(img)\n",
    "img_array = tf.expand_dims(img_array, axis=0) # Create a batch\n",
    "\n",
    "predictions = model.predict(img_array)\n",
    "score = tf.nn.softmax(predictions[0])\n",
    "\n",
    "print(\n",
    "    \"This image most likely belongs to {} with a {:.2f} percent confidence.\"\n",
    "    .format(class_names[np.argmax(score)], 100 * np.max(score))\n",
    ")\n"
   ]
  },
  {
   "cell_type": "code",
   "execution_count": 31,
   "metadata": {},
   "outputs": [
    {
     "name": "stdout",
     "output_type": "stream",
     "text": [
      "This image most likely belongs to A Ripe with a 32.80 percent confidence.\n"
     ]
    }
   ],
   "source": [
    "#18\n",
    "rootdir = \"C:/Users/User/Desktop/Category/test/A Ripe/AR8_0.png\"\n",
    "img = tf.keras.utils.load_img(\n",
    "    rootdir, target_size=(160, 160)\n",
    ")\n",
    "\n",
    "img_array = tf.keras.utils.img_to_array(img)\n",
    "img_array = tf.expand_dims(img_array, axis=0) # Create a batch\n",
    "\n",
    "predictions = model.predict(img_array)\n",
    "score = tf.nn.softmax(predictions[0])\n",
    "\n",
    "print(\n",
    "    \"This image most likely belongs to {} with a {:.2f} percent confidence.\"\n",
    "    .format(class_names[np.argmax(score)], 100 * np.max(score))\n",
    ")\n"
   ]
  },
  {
   "cell_type": "code",
   "execution_count": 32,
   "metadata": {},
   "outputs": [
    {
     "name": "stdout",
     "output_type": "stream",
     "text": [
      "This image most likely belongs to A Ripe with a 34.91 percent confidence.\n"
     ]
    }
   ],
   "source": [
    "#19\n",
    "rootdir = \"C:/Users/User/Desktop/Category/test/A Ripe/AR9_270.png\"\n",
    "img = tf.keras.utils.load_img(\n",
    "    rootdir, target_size=(160, 160)\n",
    ")\n",
    "\n",
    "img_array = tf.keras.utils.img_to_array(img)\n",
    "img_array = tf.expand_dims(img_array, axis=0) # Create a batch\n",
    "\n",
    "predictions = model.predict(img_array)\n",
    "score = tf.nn.softmax(predictions[0])\n",
    "\n",
    "print(\n",
    "    \"This image most likely belongs to {} with a {:.2f} percent confidence.\"\n",
    "    .format(class_names[np.argmax(score)], 100 * np.max(score))\n",
    ")\n"
   ]
  },
  {
   "cell_type": "code",
   "execution_count": 33,
   "metadata": {},
   "outputs": [
    {
     "name": "stdout",
     "output_type": "stream",
     "text": [
      "This image most likely belongs to A Not Ripe with a 35.22 percent confidence.\n"
     ]
    }
   ],
   "source": [
    "#1 A Not Ripe\n",
    "\n",
    "rootdir = \"C:/Users/User/Desktop/Category/test/A Not Ripe/ANR10_0.png\"\n",
    "img = tf.keras.utils.load_img(\n",
    "    rootdir, target_size=(160, 160)\n",
    ")\n",
    "\n",
    "img_array = tf.keras.utils.img_to_array(img)\n",
    "img_array = tf.expand_dims(img_array, axis=0) # Create a batch\n",
    "\n",
    "predictions = model.predict(img_array)\n",
    "score = tf.nn.softmax(predictions[0])\n",
    "\n",
    "print(\n",
    "    \"This image most likely belongs to {} with a {:.2f} percent confidence.\"\n",
    "    .format(class_names[np.argmax(score)], 100 * np.max(score))\n",
    ")\n",
    "\n"
   ]
  },
  {
   "cell_type": "code",
   "execution_count": 34,
   "metadata": {},
   "outputs": [
    {
     "name": "stdout",
     "output_type": "stream",
     "text": [
      "This image most likely belongs to A Not Ripe with a 35.22 percent confidence.\n"
     ]
    }
   ],
   "source": [
    "#2\n",
    "\n",
    "rootdir = \"C:/Users/User/Desktop/Category/test/A Not Ripe/ANR11_0.png\"\n",
    "img = tf.keras.utils.load_img(\n",
    "    rootdir, target_size=(160, 160)\n",
    ")\n",
    "\n",
    "img_array = tf.keras.utils.img_to_array(img)\n",
    "img_array = tf.expand_dims(img_array, axis=0) # Create a batch\n",
    "\n",
    "predictions = model.predict(img_array)\n",
    "score = tf.nn.softmax(predictions[0])\n",
    "\n",
    "print(\n",
    "    \"This image most likely belongs to {} with a {:.2f} percent confidence.\"\n",
    "    .format(class_names[np.argmax(score)], 100 * np.max(score))\n",
    ")"
   ]
  },
  {
   "cell_type": "code",
   "execution_count": 35,
   "metadata": {},
   "outputs": [
    {
     "name": "stdout",
     "output_type": "stream",
     "text": [
      "This image most likely belongs to A Not Ripe with a 35.22 percent confidence.\n"
     ]
    }
   ],
   "source": [
    "#3\n",
    "\n",
    "rootdir = \"C:/Users/User/Desktop/Category/test/A Not Ripe/ANR12_90.png\"\n",
    "img = tf.keras.utils.load_img(\n",
    "    rootdir, target_size=(160, 160)\n",
    ")\n",
    "\n",
    "img_array = tf.keras.utils.img_to_array(img)\n",
    "img_array = tf.expand_dims(img_array, axis=0) # Create a batch\n",
    "\n",
    "predictions = model.predict(img_array)\n",
    "score = tf.nn.softmax(predictions[0])\n",
    "\n",
    "print(\n",
    "    \"This image most likely belongs to {} with a {:.2f} percent confidence.\"\n",
    "    .format(class_names[np.argmax(score)], 100 * np.max(score))\n",
    ")"
   ]
  },
  {
   "cell_type": "code",
   "execution_count": 36,
   "metadata": {},
   "outputs": [
    {
     "name": "stdout",
     "output_type": "stream",
     "text": [
      "This image most likely belongs to A Not Ripe with a 30.78 percent confidence.\n"
     ]
    }
   ],
   "source": [
    "#4\n",
    "\n",
    "rootdir = \"C:/Users/User/Desktop/Category/test/A Not Ripe/ANR13_90.png\"\n",
    "img = tf.keras.utils.load_img(\n",
    "    rootdir, target_size=(160,160)\n",
    ")\n",
    "\n",
    "img_array = tf.keras.utils.img_to_array(img)\n",
    "img_array = tf.expand_dims(img_array, axis=0) # Create a batch\n",
    "\n",
    "predictions = model.predict(img_array)\n",
    "score = tf.nn.softmax(predictions[0])\n",
    "\n",
    "print(\n",
    "    \"This image most likely belongs to {} with a {:.2f} percent confidence.\"\n",
    "    .format(class_names[np.argmax(score)], 100 * np.max(score))\n",
    ")"
   ]
  },
  {
   "cell_type": "code",
   "execution_count": 37,
   "metadata": {},
   "outputs": [
    {
     "name": "stdout",
     "output_type": "stream",
     "text": [
      "This image most likely belongs to A Not Ripe with a 35.18 percent confidence.\n"
     ]
    }
   ],
   "source": [
    "#5\n",
    "\n",
    "rootdir = \"C:/Users/User/Desktop/Category/test/A Not Ripe/ANR14_180.png\"\n",
    "img = tf.keras.utils.load_img(\n",
    "    rootdir, target_size=(160,160)\n",
    ")\n",
    "\n",
    "img_array = tf.keras.utils.img_to_array(img)\n",
    "img_array = tf.expand_dims(img_array, axis=0) # Create a batch\n",
    "\n",
    "predictions = model.predict(img_array)\n",
    "score = tf.nn.softmax(predictions[0])\n",
    "\n",
    "print(\n",
    "    \"This image most likely belongs to {} with a {:.2f} percent confidence.\"\n",
    "    .format(class_names[np.argmax(score)], 100 * np.max(score))\n",
    ")"
   ]
  },
  {
   "cell_type": "code",
   "execution_count": 38,
   "metadata": {},
   "outputs": [
    {
     "name": "stdout",
     "output_type": "stream",
     "text": [
      "This image most likely belongs to A Not Ripe with a 35.22 percent confidence.\n"
     ]
    }
   ],
   "source": [
    "#6\n",
    "\n",
    "rootdir = \"C:/Users/User/Desktop/Category/test/A Not Ripe/ANR15_0.png\"\n",
    "img = tf.keras.utils.load_img(\n",
    "    rootdir, target_size=(160, 160)\n",
    ")\n",
    "\n",
    "img_array = tf.keras.utils.img_to_array(img)\n",
    "img_array = tf.expand_dims(img_array, axis=0) # Create a batch\n",
    "\n",
    "predictions = model.predict(img_array)\n",
    "score = tf.nn.softmax(predictions[0])\n",
    "\n",
    "print(\n",
    "    \"This image most likely belongs to {} with a {:.2f} percent confidence.\"\n",
    "    .format(class_names[np.argmax(score)], 100 * np.max(score))\n",
    ")"
   ]
  },
  {
   "cell_type": "code",
   "execution_count": 39,
   "metadata": {},
   "outputs": [
    {
     "name": "stdout",
     "output_type": "stream",
     "text": [
      "This image most likely belongs to A Not Ripe with a 35.19 percent confidence.\n"
     ]
    }
   ],
   "source": [
    "#7\n",
    "\n",
    "rootdir = \"C:/Users/User/Desktop/Category/test/A Not Ripe/ANR16_90.png\"\n",
    "img = tf.keras.utils.load_img(\n",
    "    rootdir, target_size=(160, 160)\n",
    ")\n",
    "\n",
    "img_array = tf.keras.utils.img_to_array(img)\n",
    "img_array = tf.expand_dims(img_array, axis=0) # Create a batch\n",
    "\n",
    "predictions = model.predict(img_array)\n",
    "score = tf.nn.softmax(predictions[0])\n",
    "\n",
    "print(\n",
    "    \"This image most likely belongs to {} with a {:.2f} percent confidence.\"\n",
    "    .format(class_names[np.argmax(score)], 100 * np.max(score))\n",
    ")"
   ]
  },
  {
   "cell_type": "code",
   "execution_count": 40,
   "metadata": {},
   "outputs": [
    {
     "name": "stdout",
     "output_type": "stream",
     "text": [
      "This image most likely belongs to A Not Ripe with a 35.22 percent confidence.\n"
     ]
    }
   ],
   "source": [
    "#8\n",
    "\n",
    "rootdir = \"C:/Users/User/Desktop/Category/test/A Not Ripe/ANR1_270.png\"\n",
    "img = tf.keras.utils.load_img(\n",
    "    rootdir, target_size=(160, 160)\n",
    ")\n",
    "\n",
    "img_array = tf.keras.utils.img_to_array(img)\n",
    "img_array = tf.expand_dims(img_array, axis=0) # Create a batch\n",
    "\n",
    "predictions = model.predict(img_array)\n",
    "score = tf.nn.softmax(predictions[0])\n",
    "\n",
    "print(\n",
    "    \"This image most likely belongs to {} with a {:.2f} percent confidence.\"\n",
    "    .format(class_names[np.argmax(score)], 100 * np.max(score))\n",
    ")"
   ]
  },
  {
   "cell_type": "code",
   "execution_count": 41,
   "metadata": {},
   "outputs": [
    {
     "name": "stdout",
     "output_type": "stream",
     "text": [
      "This image most likely belongs to A Not Ripe with a 35.21 percent confidence.\n"
     ]
    }
   ],
   "source": [
    "#9\n",
    "\n",
    "rootdir = \"C:/Users/User/Desktop/Category/test/A Not Ripe/ANR2_0.png\"\n",
    "img = tf.keras.utils.load_img(\n",
    "    rootdir, target_size=(160, 160)\n",
    ")\n",
    "\n",
    "img_array = tf.keras.utils.img_to_array(img)\n",
    "img_array = tf.expand_dims(img_array, axis=0) # Create a batch\n",
    "\n",
    "predictions = model.predict(img_array)\n",
    "score = tf.nn.softmax(predictions[0])\n",
    "\n",
    "print(\n",
    "    \"This image most likely belongs to {} with a {:.2f} percent confidence.\"\n",
    "    .format(class_names[np.argmax(score)], 100 * np.max(score))\n",
    ")"
   ]
  },
  {
   "cell_type": "code",
   "execution_count": 42,
   "metadata": {},
   "outputs": [
    {
     "name": "stdout",
     "output_type": "stream",
     "text": [
      "This image most likely belongs to A Not Ripe with a 35.22 percent confidence.\n"
     ]
    }
   ],
   "source": [
    "#10\n",
    "\n",
    "rootdir = \"C:/Users/User/Desktop/Category/test/A Not Ripe/ANR3_270.png\"\n",
    "img = tf.keras.utils.load_img(\n",
    "    rootdir, target_size=(160, 160)\n",
    ")\n",
    "\n",
    "img_array = tf.keras.utils.img_to_array(img)\n",
    "img_array = tf.expand_dims(img_array, axis=0) # Create a batch\n",
    "\n",
    "predictions = model.predict(img_array)\n",
    "score = tf.nn.softmax(predictions[0])\n",
    "\n",
    "print(\n",
    "    \"This image most likely belongs to {} with a {:.2f} percent confidence.\"\n",
    "    .format(class_names[np.argmax(score)], 100 * np.max(score))\n",
    ")"
   ]
  },
  {
   "cell_type": "code",
   "execution_count": 43,
   "metadata": {},
   "outputs": [
    {
     "name": "stdout",
     "output_type": "stream",
     "text": [
      "This image most likely belongs to A Not Ripe with a 35.22 percent confidence.\n"
     ]
    }
   ],
   "source": [
    "#11\n",
    "\n",
    "rootdir = \"C:/Users/User/Desktop/Category/test/A Not Ripe/ANR4_0.png\"\n",
    "img = tf.keras.utils.load_img(\n",
    "    rootdir, target_size=(160, 160)\n",
    ")\n",
    "\n",
    "img_array = tf.keras.utils.img_to_array(img)\n",
    "img_array = tf.expand_dims(img_array, axis=0) # Create a batch\n",
    "\n",
    "predictions = model.predict(img_array)\n",
    "score = tf.nn.softmax(predictions[0])\n",
    "\n",
    "print(\n",
    "    \"This image most likely belongs to {} with a {:.2f} percent confidence.\"\n",
    "    .format(class_names[np.argmax(score)], 100 * np.max(score))\n",
    ")"
   ]
  },
  {
   "cell_type": "code",
   "execution_count": 44,
   "metadata": {},
   "outputs": [
    {
     "name": "stdout",
     "output_type": "stream",
     "text": [
      "This image most likely belongs to A Not Ripe with a 34.92 percent confidence.\n"
     ]
    }
   ],
   "source": [
    "#12\n",
    "\n",
    "rootdir = \"C:/Users/User/Desktop/Category/test/A Not Ripe/ANR5_90.png\"\n",
    "img = tf.keras.utils.load_img(\n",
    "    rootdir, target_size=(160, 160)\n",
    ")\n",
    "\n",
    "img_array = tf.keras.utils.img_to_array(img)\n",
    "img_array = tf.expand_dims(img_array, axis=0) # Create a batch\n",
    "\n",
    "predictions = model.predict(img_array)\n",
    "score = tf.nn.softmax(predictions[0])\n",
    "\n",
    "print(\n",
    "    \"This image most likely belongs to {} with a {:.2f} percent confidence.\"\n",
    "    .format(class_names[np.argmax(score)], 100 * np.max(score))\n",
    ")"
   ]
  },
  {
   "cell_type": "code",
   "execution_count": 45,
   "metadata": {},
   "outputs": [
    {
     "name": "stdout",
     "output_type": "stream",
     "text": [
      "This image most likely belongs to A Not Ripe with a 35.22 percent confidence.\n"
     ]
    }
   ],
   "source": [
    "#13\n",
    "\n",
    "rootdir = \"C:/Users/User/Desktop/Category/test/A Not Ripe/ANR6_270.png\"\n",
    "img = tf.keras.utils.load_img(\n",
    "    rootdir, target_size=(160, 160)\n",
    ")\n",
    "\n",
    "img_array = tf.keras.utils.img_to_array(img)\n",
    "img_array = tf.expand_dims(img_array, axis=0) # Create a batch\n",
    "\n",
    "predictions = model.predict(img_array)\n",
    "score = tf.nn.softmax(predictions[0])\n",
    "\n",
    "print(\n",
    "    \"This image most likely belongs to {} with a {:.2f} percent confidence.\"\n",
    "    .format(class_names[np.argmax(score)], 100 * np.max(score))\n",
    ")"
   ]
  },
  {
   "cell_type": "code",
   "execution_count": 46,
   "metadata": {},
   "outputs": [
    {
     "name": "stdout",
     "output_type": "stream",
     "text": [
      "This image most likely belongs to A Not Ripe with a 35.22 percent confidence.\n"
     ]
    }
   ],
   "source": [
    "#14\n",
    "\n",
    "rootdir = \"C:/Users/User/Desktop/Category/test/A Not Ripe/ANR79_270.png\"\n",
    "img = tf.keras.utils.load_img(\n",
    "    rootdir, target_size=(160, 160)\n",
    ")\n",
    "\n",
    "img_array = tf.keras.utils.img_to_array(img)\n",
    "img_array = tf.expand_dims(img_array, axis=0) # Create a batch\n",
    "\n",
    "predictions = model.predict(img_array)\n",
    "score = tf.nn.softmax(predictions[0])\n",
    "\n",
    "print(\n",
    "    \"This image most likely belongs to {} with a {:.2f} percent confidence.\"\n",
    "    .format(class_names[np.argmax(score)], 100 * np.max(score))\n",
    ")"
   ]
  },
  {
   "cell_type": "code",
   "execution_count": 47,
   "metadata": {},
   "outputs": [
    {
     "name": "stdout",
     "output_type": "stream",
     "text": [
      "This image most likely belongs to A Not Ripe with a 35.22 percent confidence.\n"
     ]
    }
   ],
   "source": [
    "#15\n",
    "\n",
    "rootdir = \"C:/Users/User/Desktop/Category/test/A Not Ripe/ANR7_90.png\"\n",
    "img = tf.keras.utils.load_img(\n",
    "    rootdir, target_size=(160, 160)\n",
    ")\n",
    "\n",
    "img_array = tf.keras.utils.img_to_array(img)\n",
    "img_array = tf.expand_dims(img_array, axis=0) # Create a batch\n",
    "\n",
    "predictions = model.predict(img_array)\n",
    "score = tf.nn.softmax(predictions[0])\n",
    "\n",
    "print(\n",
    "    \"This image most likely belongs to {} with a {:.2f} percent confidence.\"\n",
    "    .format(class_names[np.argmax(score)], 100 * np.max(score))\n",
    ")"
   ]
  },
  {
   "cell_type": "code",
   "execution_count": 48,
   "metadata": {},
   "outputs": [
    {
     "name": "stdout",
     "output_type": "stream",
     "text": [
      "This image most likely belongs to A Not Ripe with a 35.22 percent confidence.\n"
     ]
    }
   ],
   "source": [
    "#16\n",
    "\n",
    "rootdir = \"C:/Users/User/Desktop/Category/test/A Not Ripe/ANR80_90.png\"\n",
    "img = tf.keras.utils.load_img(\n",
    "    rootdir, target_size=(160, 160)\n",
    ")\n",
    "\n",
    "img_array = tf.keras.utils.img_to_array(img)\n",
    "img_array = tf.expand_dims(img_array, axis=0) # Create a batch\n",
    "\n",
    "predictions = model.predict(img_array)\n",
    "score = tf.nn.softmax(predictions[0])\n",
    "\n",
    "print(\n",
    "    \"This image most likely belongs to {} with a {:.2f} percent confidence.\"\n",
    "    .format(class_names[np.argmax(score)], 100 * np.max(score))\n",
    ")"
   ]
  },
  {
   "cell_type": "code",
   "execution_count": 49,
   "metadata": {},
   "outputs": [
    {
     "name": "stdout",
     "output_type": "stream",
     "text": [
      "This image most likely belongs to A Not Ripe with a 35.22 percent confidence.\n"
     ]
    }
   ],
   "source": [
    "#17\n",
    "\n",
    "rootdir = \"C:/Users/User/Desktop/Category/test/A Not Ripe/ANR81_90.png\"\n",
    "img = tf.keras.utils.load_img(\n",
    "    rootdir, target_size=(160, 160)\n",
    ")\n",
    "\n",
    "img_array = tf.keras.utils.img_to_array(img)\n",
    "img_array = tf.expand_dims(img_array, axis=0) # Create a batch\n",
    "\n",
    "predictions = model.predict(img_array)\n",
    "score = tf.nn.softmax(predictions[0])\n",
    "\n",
    "print(\n",
    "    \"This image most likely belongs to {} with a {:.2f} percent confidence.\"\n",
    "    .format(class_names[np.argmax(score)], 100 * np.max(score))\n",
    ")"
   ]
  },
  {
   "cell_type": "code",
   "execution_count": 50,
   "metadata": {},
   "outputs": [
    {
     "name": "stdout",
     "output_type": "stream",
     "text": [
      "This image most likely belongs to A Not Ripe with a 35.11 percent confidence.\n"
     ]
    }
   ],
   "source": [
    "#18\n",
    "\n",
    "rootdir = \"C:/Users/User/Desktop/Category/test/A Not Ripe/ANR8_90.png\"\n",
    "img = tf.keras.utils.load_img(\n",
    "    rootdir, target_size=(160, 160)\n",
    ")\n",
    "\n",
    "img_array = tf.keras.utils.img_to_array(img)\n",
    "img_array = tf.expand_dims(img_array, axis=0) # Create a batch\n",
    "\n",
    "predictions = model.predict(img_array)\n",
    "score = tf.nn.softmax(predictions[0])\n",
    "\n",
    "print(\n",
    "    \"This image most likely belongs to {} with a {:.2f} percent confidence.\"\n",
    "    .format(class_names[np.argmax(score)], 100 * np.max(score))\n",
    ")"
   ]
  },
  {
   "cell_type": "code",
   "execution_count": 51,
   "metadata": {},
   "outputs": [
    {
     "name": "stdout",
     "output_type": "stream",
     "text": [
      "This image most likely belongs to A Not Ripe with a 35.22 percent confidence.\n"
     ]
    }
   ],
   "source": [
    "#19\n",
    "\n",
    "rootdir = \"C:/Users/User/Desktop/Category/test/A Not Ripe/ANR9_270.png\"\n",
    "img = tf.keras.utils.load_img(\n",
    "    rootdir, target_size=(160, 160)\n",
    ")\n",
    "\n",
    "img_array = tf.keras.utils.img_to_array(img)\n",
    "img_array = tf.expand_dims(img_array, axis=0) # Create a batch\n",
    "\n",
    "predictions = model.predict(img_array)\n",
    "score = tf.nn.softmax(predictions[0])\n",
    "\n",
    "print(\n",
    "    \"This image most likely belongs to {} with a {:.2f} percent confidence.\"\n",
    "    .format(class_names[np.argmax(score)], 100 * np.max(score))\n",
    ")"
   ]
  },
  {
   "cell_type": "code",
   "execution_count": 52,
   "metadata": {},
   "outputs": [
    {
     "name": "stdout",
     "output_type": "stream",
     "text": [
      "This image most likely belongs to A Ripe with a 35.00 percent confidence.\n"
     ]
    }
   ],
   "source": [
    "#1 B Ripe\n",
    "\n",
    "rootdir = \"C:/Users/User/Desktop/Category/test/B Ripe/BR10_180.png\"\n",
    "img = tf.keras.utils.load_img(\n",
    "    rootdir, target_size=(160, 160)\n",
    ")\n",
    "\n",
    "img_array = tf.keras.utils.img_to_array(img)\n",
    "img_array = tf.expand_dims(img_array, axis=0) # Create a batch\n",
    "\n",
    "predictions = model.predict(img_array)\n",
    "score = tf.nn.softmax(predictions[0])\n",
    "\n",
    "print(\n",
    "    \"This image most likely belongs to {} with a {:.2f} percent confidence.\"\n",
    "    .format(class_names[np.argmax(score)], 100 * np.max(score))\n",
    ")"
   ]
  },
  {
   "cell_type": "code",
   "execution_count": 53,
   "metadata": {},
   "outputs": [
    {
     "name": "stdout",
     "output_type": "stream",
     "text": [
      "This image most likely belongs to A Ripe with a 29.03 percent confidence.\n"
     ]
    }
   ],
   "source": [
    "#2\n",
    "\n",
    "rootdir = \"C:/Users/User/Desktop/Category/test/B Ripe/BR11_90.png\"\n",
    "img = tf.keras.utils.load_img(\n",
    "    rootdir, target_size=(160, 160)\n",
    ")\n",
    "\n",
    "img_array = tf.keras.utils.img_to_array(img)\n",
    "img_array = tf.expand_dims(img_array, axis=0) # Create a batch\n",
    "\n",
    "predictions = model.predict(img_array)\n",
    "score = tf.nn.softmax(predictions[0])\n",
    "\n",
    "print(\n",
    "    \"This image most likely belongs to {} with a {:.2f} percent confidence.\"\n",
    "    .format(class_names[np.argmax(score)], 100 * np.max(score))\n",
    ")"
   ]
  },
  {
   "cell_type": "code",
   "execution_count": 54,
   "metadata": {},
   "outputs": [
    {
     "name": "stdout",
     "output_type": "stream",
     "text": [
      "This image most likely belongs to B Ripe with a 31.37 percent confidence.\n"
     ]
    }
   ],
   "source": [
    "#3\n",
    "\n",
    "rootdir = \"C:/Users/User/Desktop/Category/test/B Ripe/BR12_180.png\"\n",
    "img = tf.keras.utils.load_img(\n",
    "    rootdir, target_size=(160, 160)\n",
    ")\n",
    "\n",
    "img_array = tf.keras.utils.img_to_array(img)\n",
    "img_array = tf.expand_dims(img_array, axis=0) # Create a batch\n",
    "\n",
    "predictions = model.predict(img_array)\n",
    "score = tf.nn.softmax(predictions[0])\n",
    "\n",
    "print(\n",
    "    \"This image most likely belongs to {} with a {:.2f} percent confidence.\"\n",
    "    .format(class_names[np.argmax(score)], 100 * np.max(score))\n",
    ")"
   ]
  },
  {
   "cell_type": "code",
   "execution_count": 55,
   "metadata": {},
   "outputs": [
    {
     "name": "stdout",
     "output_type": "stream",
     "text": [
      "This image most likely belongs to A Ripe with a 29.81 percent confidence.\n"
     ]
    }
   ],
   "source": [
    "#4\n",
    "\n",
    "rootdir = \"C:/Users/User/Desktop/Category/test/B Ripe/BR13_90.png\"\n",
    "img = tf.keras.utils.load_img(\n",
    "    rootdir, target_size=(160, 160)\n",
    ")\n",
    "\n",
    "img_array = tf.keras.utils.img_to_array(img)\n",
    "img_array = tf.expand_dims(img_array, axis=0) # Create a batch\n",
    "\n",
    "predictions = model.predict(img_array)\n",
    "score = tf.nn.softmax(predictions[0])\n",
    "\n",
    "print(\n",
    "    \"This image most likely belongs to {} with a {:.2f} percent confidence.\"\n",
    "    .format(class_names[np.argmax(score)], 100 * np.max(score))\n",
    ")"
   ]
  },
  {
   "cell_type": "code",
   "execution_count": 56,
   "metadata": {},
   "outputs": [
    {
     "name": "stdout",
     "output_type": "stream",
     "text": [
      "This image most likely belongs to B Ripe with a 34.55 percent confidence.\n"
     ]
    }
   ],
   "source": [
    "#5\n",
    "\n",
    "rootdir = \"C:/Users/User/Desktop/Category/test/B Ripe/BR14_180.png\"\n",
    "img = tf.keras.utils.load_img(\n",
    "    rootdir, target_size=(160, 160)\n",
    ")\n",
    "\n",
    "img_array = tf.keras.utils.img_to_array(img)\n",
    "img_array = tf.expand_dims(img_array, axis=0) # Create a batch\n",
    "\n",
    "predictions = model.predict(img_array)\n",
    "score = tf.nn.softmax(predictions[0])\n",
    "\n",
    "print(\n",
    "    \"This image most likely belongs to {} with a {:.2f} percent confidence.\"\n",
    "    .format(class_names[np.argmax(score)], 100 * np.max(score))\n",
    ")"
   ]
  },
  {
   "cell_type": "code",
   "execution_count": 57,
   "metadata": {},
   "outputs": [
    {
     "name": "stdout",
     "output_type": "stream",
     "text": [
      "This image most likely belongs to B Ripe with a 34.79 percent confidence.\n"
     ]
    }
   ],
   "source": [
    "#6\n",
    "\n",
    "rootdir = \"C:/Users/User/Desktop/Category/test/B Ripe/BR15_180.png\"\n",
    "img = tf.keras.utils.load_img(\n",
    "    rootdir, target_size=(160, 160)\n",
    ")\n",
    "\n",
    "img_array = tf.keras.utils.img_to_array(img)\n",
    "img_array = tf.expand_dims(img_array, axis=0) # Create a batch\n",
    "\n",
    "predictions = model.predict(img_array)\n",
    "score = tf.nn.softmax(predictions[0])\n",
    "\n",
    "print(\n",
    "    \"This image most likely belongs to {} with a {:.2f} percent confidence.\"\n",
    "    .format(class_names[np.argmax(score)], 100 * np.max(score))\n",
    ")"
   ]
  },
  {
   "cell_type": "code",
   "execution_count": 58,
   "metadata": {},
   "outputs": [
    {
     "name": "stdout",
     "output_type": "stream",
     "text": [
      "This image most likely belongs to C Not Ripe with a 26.67 percent confidence.\n"
     ]
    }
   ],
   "source": [
    "#7\n",
    "\n",
    "rootdir = \"C:/Users/User/Desktop/Category/test/B Ripe/BR16_270.png\"\n",
    "img = tf.keras.utils.load_img(\n",
    "    rootdir, target_size=(160, 160)\n",
    ")\n",
    "\n",
    "img_array = tf.keras.utils.img_to_array(img)\n",
    "img_array = tf.expand_dims(img_array, axis=0) # Create a batch\n",
    "\n",
    "predictions = model.predict(img_array)\n",
    "score = tf.nn.softmax(predictions[0])\n",
    "\n",
    "print(\n",
    "    \"This image most likely belongs to {} with a {:.2f} percent confidence.\"\n",
    "    .format(class_names[np.argmax(score)], 100 * np.max(score))\n",
    ")"
   ]
  },
  {
   "cell_type": "code",
   "execution_count": 59,
   "metadata": {},
   "outputs": [
    {
     "name": "stdout",
     "output_type": "stream",
     "text": [
      "This image most likely belongs to A Ripe with a 28.67 percent confidence.\n"
     ]
    }
   ],
   "source": [
    "#8\n",
    "\n",
    "rootdir = \"C:/Users/User/Desktop/Category/test/B Ripe/BR1_90.png\"\n",
    "img = tf.keras.utils.load_img(\n",
    "    rootdir, target_size=(160, 160)\n",
    ")\n",
    "\n",
    "img_array = tf.keras.utils.img_to_array(img)\n",
    "img_array = tf.expand_dims(img_array, axis=0) # Create a batch\n",
    "\n",
    "predictions = model.predict(img_array)\n",
    "score = tf.nn.softmax(predictions[0])\n",
    "\n",
    "print(\n",
    "    \"This image most likely belongs to {} with a {:.2f} percent confidence.\"\n",
    "    .format(class_names[np.argmax(score)], 100 * np.max(score))\n",
    ")"
   ]
  },
  {
   "cell_type": "code",
   "execution_count": 60,
   "metadata": {},
   "outputs": [
    {
     "name": "stdout",
     "output_type": "stream",
     "text": [
      "This image most likely belongs to B Ripe with a 20.69 percent confidence.\n"
     ]
    }
   ],
   "source": [
    "#9\n",
    "\n",
    "rootdir = \"C:/Users/User/Desktop/Category/test/B Ripe/BR2_270.png\"\n",
    "img = tf.keras.utils.load_img(\n",
    "    rootdir, target_size=(160, 160)\n",
    ")\n",
    "\n",
    "img_array = tf.keras.utils.img_to_array(img)\n",
    "img_array = tf.expand_dims(img_array, axis=0) # Create a batch\n",
    "\n",
    "predictions = model.predict(img_array)\n",
    "score = tf.nn.softmax(predictions[0])\n",
    "\n",
    "print(\n",
    "    \"This image most likely belongs to {} with a {:.2f} percent confidence.\"\n",
    "    .format(class_names[np.argmax(score)], 100 * np.max(score))\n",
    ")"
   ]
  },
  {
   "cell_type": "code",
   "execution_count": 61,
   "metadata": {},
   "outputs": [
    {
     "name": "stdout",
     "output_type": "stream",
     "text": [
      "This image most likely belongs to C Not Ripe with a 34.51 percent confidence.\n"
     ]
    }
   ],
   "source": [
    "#10\n",
    "\n",
    "rootdir = \"C:/Users/User/Desktop/Category/test/B Ripe/BR3_90.png\"\n",
    "img = tf.keras.utils.load_img(\n",
    "    rootdir, target_size=(160, 160)\n",
    ")\n",
    "\n",
    "img_array = tf.keras.utils.img_to_array(img)\n",
    "img_array = tf.expand_dims(img_array, axis=0) # Create a batch\n",
    "\n",
    "predictions = model.predict(img_array)\n",
    "score = tf.nn.softmax(predictions[0])\n",
    "\n",
    "print(\n",
    "    \"This image most likely belongs to {} with a {:.2f} percent confidence.\"\n",
    "    .format(class_names[np.argmax(score)], 100 * np.max(score))\n",
    ")"
   ]
  },
  {
   "cell_type": "code",
   "execution_count": 62,
   "metadata": {},
   "outputs": [
    {
     "name": "stdout",
     "output_type": "stream",
     "text": [
      "This image most likely belongs to B Ripe with a 28.42 percent confidence.\n"
     ]
    }
   ],
   "source": [
    "#11\n",
    "\n",
    "rootdir = \"C:/Users/User/Desktop/Category/test/B Ripe/BR4_180.png\"\n",
    "img = tf.keras.utils.load_img(\n",
    "    rootdir, target_size=(160, 160)\n",
    ")\n",
    "\n",
    "img_array = tf.keras.utils.img_to_array(img)\n",
    "img_array = tf.expand_dims(img_array, axis=0) # Create a batch\n",
    "\n",
    "predictions = model.predict(img_array)\n",
    "score = tf.nn.softmax(predictions[0])\n",
    "\n",
    "print(\n",
    "    \"This image most likely belongs to {} with a {:.2f} percent confidence.\"\n",
    "    .format(class_names[np.argmax(score)], 100 * np.max(score))\n",
    ")"
   ]
  },
  {
   "cell_type": "code",
   "execution_count": 63,
   "metadata": {},
   "outputs": [
    {
     "name": "stdout",
     "output_type": "stream",
     "text": [
      "This image most likely belongs to B Ripe with a 34.12 percent confidence.\n"
     ]
    }
   ],
   "source": [
    "#12\n",
    "\n",
    "rootdir = \"C:/Users/User/Desktop/Category/test/B Ripe/BR5_180.png\"\n",
    "img = tf.keras.utils.load_img(\n",
    "    rootdir, target_size=(160, 160)\n",
    ")\n",
    "\n",
    "img_array = tf.keras.utils.img_to_array(img)\n",
    "img_array = tf.expand_dims(img_array, axis=0) # Create a batch\n",
    "\n",
    "predictions = model.predict(img_array)\n",
    "score = tf.nn.softmax(predictions[0])\n",
    "\n",
    "print(\n",
    "    \"This image most likely belongs to {} with a {:.2f} percent confidence.\"\n",
    "    .format(class_names[np.argmax(score)], 100 * np.max(score))\n",
    ")"
   ]
  },
  {
   "cell_type": "code",
   "execution_count": 64,
   "metadata": {},
   "outputs": [
    {
     "name": "stdout",
     "output_type": "stream",
     "text": [
      "This image most likely belongs to B Ripe with a 35.21 percent confidence.\n"
     ]
    }
   ],
   "source": [
    "#13\n",
    "\n",
    "rootdir = \"C:/Users/User/Desktop/Category/test/B Ripe/BR65_0.png\"\n",
    "img = tf.keras.utils.load_img(\n",
    "    rootdir, target_size=(160, 160)\n",
    ")\n",
    "\n",
    "img_array = tf.keras.utils.img_to_array(img)\n",
    "img_array = tf.expand_dims(img_array, axis=0) # Create a batch\n",
    "\n",
    "predictions = model.predict(img_array)\n",
    "score = tf.nn.softmax(predictions[0])\n",
    "\n",
    "print(\n",
    "    \"This image most likely belongs to {} with a {:.2f} percent confidence.\"\n",
    "    .format(class_names[np.argmax(score)], 100 * np.max(score))\n",
    ")"
   ]
  },
  {
   "cell_type": "code",
   "execution_count": 65,
   "metadata": {},
   "outputs": [
    {
     "name": "stdout",
     "output_type": "stream",
     "text": [
      "This image most likely belongs to A Ripe with a 34.82 percent confidence.\n"
     ]
    }
   ],
   "source": [
    "#14\n",
    "\n",
    "rootdir = \"C:/Users/User/Desktop/Category/test/B Ripe/BR66_270.png\"\n",
    "img = tf.keras.utils.load_img(\n",
    "    rootdir, target_size=(160, 160)\n",
    ")\n",
    "\n",
    "img_array = tf.keras.utils.img_to_array(img)\n",
    "img_array = tf.expand_dims(img_array, axis=0) # Create a batch\n",
    "\n",
    "predictions = model.predict(img_array)\n",
    "score = tf.nn.softmax(predictions[0])\n",
    "\n",
    "print(\n",
    "    \"This image most likely belongs to {} with a {:.2f} percent confidence.\"\n",
    "    .format(class_names[np.argmax(score)], 100 * np.max(score))\n",
    ")"
   ]
  },
  {
   "cell_type": "code",
   "execution_count": 66,
   "metadata": {},
   "outputs": [
    {
     "name": "stdout",
     "output_type": "stream",
     "text": [
      "This image most likely belongs to B Ripe with a 34.28 percent confidence.\n"
     ]
    }
   ],
   "source": [
    "#15\n",
    "\n",
    "rootdir = \"C:/Users/User/Desktop/Category/test/B Ripe/BR67_270.png\"\n",
    "img = tf.keras.utils.load_img(\n",
    "    rootdir, target_size=(160, 160)\n",
    ")\n",
    "\n",
    "img_array = tf.keras.utils.img_to_array(img)\n",
    "img_array = tf.expand_dims(img_array, axis=0) # Create a batch\n",
    "\n",
    "predictions = model.predict(img_array)\n",
    "score = tf.nn.softmax(predictions[0])\n",
    "\n",
    "print(\n",
    "    \"This image most likely belongs to {} with a {:.2f} percent confidence.\"\n",
    "    .format(class_names[np.argmax(score)], 100 * np.max(score))\n",
    ")"
   ]
  },
  {
   "cell_type": "code",
   "execution_count": 67,
   "metadata": {},
   "outputs": [
    {
     "name": "stdout",
     "output_type": "stream",
     "text": [
      "This image most likely belongs to B Ripe with a 33.94 percent confidence.\n"
     ]
    }
   ],
   "source": [
    "#16\n",
    "\n",
    "rootdir = \"C:/Users/User/Desktop/Category/test/B Ripe/BR6_90.png\"\n",
    "img = tf.keras.utils.load_img(\n",
    "    rootdir, target_size=(160, 160)\n",
    ")\n",
    "\n",
    "img_array = tf.keras.utils.img_to_array(img)\n",
    "img_array = tf.expand_dims(img_array, axis=0) # Create a batch\n",
    "\n",
    "predictions = model.predict(img_array)\n",
    "score = tf.nn.softmax(predictions[0])\n",
    "\n",
    "print(\n",
    "    \"This image most likely belongs to {} with a {:.2f} percent confidence.\"\n",
    "    .format(class_names[np.argmax(score)], 100 * np.max(score))\n",
    ")"
   ]
  },
  {
   "cell_type": "code",
   "execution_count": 68,
   "metadata": {},
   "outputs": [
    {
     "name": "stdout",
     "output_type": "stream",
     "text": [
      "This image most likely belongs to B Ripe with a 22.61 percent confidence.\n"
     ]
    }
   ],
   "source": [
    "#17\n",
    "\n",
    "rootdir = \"C:/Users/User/Desktop/Category/test/B Ripe/BR7_90.png\"\n",
    "img = tf.keras.utils.load_img(\n",
    "    rootdir, target_size=(160, 160)\n",
    ")\n",
    "\n",
    "img_array = tf.keras.utils.img_to_array(img)\n",
    "img_array = tf.expand_dims(img_array, axis=0) # Create a batch\n",
    "\n",
    "predictions = model.predict(img_array)\n",
    "score = tf.nn.softmax(predictions[0])\n",
    "\n",
    "print(\n",
    "    \"This image most likely belongs to {} with a {:.2f} percent confidence.\"\n",
    "    .format(class_names[np.argmax(score)], 100 * np.max(score))\n",
    ")"
   ]
  },
  {
   "cell_type": "code",
   "execution_count": 69,
   "metadata": {},
   "outputs": [
    {
     "name": "stdout",
     "output_type": "stream",
     "text": [
      "This image most likely belongs to A Ripe with a 22.85 percent confidence.\n"
     ]
    }
   ],
   "source": [
    "#18\n",
    "\n",
    "rootdir = \"C:/Users/User/Desktop/Category/test/B Ripe/BR8_180.png\"\n",
    "img = tf.keras.utils.load_img(\n",
    "    rootdir, target_size=(160, 160)\n",
    ")\n",
    "\n",
    "img_array = tf.keras.utils.img_to_array(img)\n",
    "img_array = tf.expand_dims(img_array, axis=0) # Create a batch\n",
    "\n",
    "predictions = model.predict(img_array)\n",
    "score = tf.nn.softmax(predictions[0])\n",
    "\n",
    "print(\n",
    "    \"This image most likely belongs to {} with a {:.2f} percent confidence.\"\n",
    "    .format(class_names[np.argmax(score)], 100 * np.max(score))\n",
    ")"
   ]
  },
  {
   "cell_type": "code",
   "execution_count": 70,
   "metadata": {},
   "outputs": [
    {
     "name": "stdout",
     "output_type": "stream",
     "text": [
      "This image most likely belongs to A Ripe with a 22.60 percent confidence.\n"
     ]
    }
   ],
   "source": [
    "#19\n",
    "\n",
    "rootdir = \"C:/Users/User/Desktop/Category/test/B Ripe/BR9_180.png\"\n",
    "img = tf.keras.utils.load_img(\n",
    "    rootdir, target_size=(160, 160)\n",
    ")\n",
    "\n",
    "img_array = tf.keras.utils.img_to_array(img)\n",
    "img_array = tf.expand_dims(img_array, axis=0) # Create a batch\n",
    "\n",
    "predictions = model.predict(img_array)\n",
    "score = tf.nn.softmax(predictions[0])\n",
    "\n",
    "print(\n",
    "    \"This image most likely belongs to {} with a {:.2f} percent confidence.\"\n",
    "    .format(class_names[np.argmax(score)], 100 * np.max(score))\n",
    ")"
   ]
  },
  {
   "cell_type": "code",
   "execution_count": 71,
   "metadata": {},
   "outputs": [
    {
     "name": "stdout",
     "output_type": "stream",
     "text": [
      "This image most likely belongs to B Not Ripe with a 33.82 percent confidence.\n"
     ]
    }
   ],
   "source": [
    "#1 B Not Ripe\n",
    "\n",
    "rootdir = \"C:/Users/User/Desktop/Category/test/B Not Ripe/BNR10_270.png\"\n",
    "img = tf.keras.utils.load_img(\n",
    "    rootdir, target_size=(160, 160)\n",
    ")\n",
    "\n",
    "img_array = tf.keras.utils.img_to_array(img)\n",
    "img_array = tf.expand_dims(img_array, axis=0) # Create a batch\n",
    "\n",
    "predictions = model.predict(img_array)\n",
    "score = tf.nn.softmax(predictions[0])\n",
    "\n",
    "print(\n",
    "    \"This image most likely belongs to {} with a {:.2f} percent confidence.\"\n",
    "    .format(class_names[np.argmax(score)], 100 * np.max(score))\n",
    ")"
   ]
  },
  {
   "cell_type": "code",
   "execution_count": 72,
   "metadata": {},
   "outputs": [
    {
     "name": "stdout",
     "output_type": "stream",
     "text": [
      "This image most likely belongs to B Ripe with a 30.85 percent confidence.\n"
     ]
    }
   ],
   "source": [
    "#2\n",
    "\n",
    "rootdir = \"C:/Users/User/Desktop/Category/test/B Not Ripe/BNR11_270.png\"\n",
    "img = tf.keras.utils.load_img(\n",
    "    rootdir, target_size=(160, 160)\n",
    ")\n",
    "\n",
    "img_array = tf.keras.utils.img_to_array(img)\n",
    "img_array = tf.expand_dims(img_array, axis=0) # Create a batch\n",
    "\n",
    "predictions = model.predict(img_array)\n",
    "score = tf.nn.softmax(predictions[0])\n",
    "\n",
    "print(\n",
    "    \"This image most likely belongs to {} with a {:.2f} percent confidence.\"\n",
    "    .format(class_names[np.argmax(score)], 100 * np.max(score))\n",
    ")"
   ]
  },
  {
   "cell_type": "code",
   "execution_count": 73,
   "metadata": {},
   "outputs": [
    {
     "name": "stdout",
     "output_type": "stream",
     "text": [
      "This image most likely belongs to C Not Ripe with a 31.68 percent confidence.\n"
     ]
    }
   ],
   "source": [
    "#3\n",
    "\n",
    "rootdir = \"C:/Users/User/Desktop/Category/test/B Not Ripe/BNR12_270.png\"\n",
    "img = tf.keras.utils.load_img(\n",
    "    rootdir, target_size=(160, 160)\n",
    ")\n",
    "\n",
    "img_array = tf.keras.utils.img_to_array(img)\n",
    "img_array = tf.expand_dims(img_array, axis=0) # Create a batch\n",
    "\n",
    "predictions = model.predict(img_array)\n",
    "score = tf.nn.softmax(predictions[0])\n",
    "\n",
    "print(\n",
    "    \"This image most likely belongs to {} with a {:.2f} percent confidence.\"\n",
    "    .format(class_names[np.argmax(score)], 100 * np.max(score))\n",
    ")"
   ]
  },
  {
   "cell_type": "code",
   "execution_count": 74,
   "metadata": {},
   "outputs": [
    {
     "name": "stdout",
     "output_type": "stream",
     "text": [
      "This image most likely belongs to B Not Ripe with a 19.69 percent confidence.\n"
     ]
    }
   ],
   "source": [
    "#4\n",
    "\n",
    "rootdir = \"C:/Users/User/Desktop/Category/test/B Not Ripe/BNR13_180.png\"\n",
    "img = tf.keras.utils.load_img(\n",
    "    rootdir, target_size=(160, 160)\n",
    ")\n",
    "\n",
    "img_array = tf.keras.utils.img_to_array(img)\n",
    "img_array = tf.expand_dims(img_array, axis=0) # Create a batch\n",
    "\n",
    "predictions = model.predict(img_array)\n",
    "score = tf.nn.softmax(predictions[0])\n",
    "\n",
    "print(\n",
    "    \"This image most likely belongs to {} with a {:.2f} percent confidence.\"\n",
    "    .format(class_names[np.argmax(score)], 100 * np.max(score))\n",
    ")"
   ]
  },
  {
   "cell_type": "code",
   "execution_count": 75,
   "metadata": {},
   "outputs": [
    {
     "name": "stdout",
     "output_type": "stream",
     "text": [
      "This image most likely belongs to B Not Ripe with a 35.22 percent confidence.\n"
     ]
    }
   ],
   "source": [
    "#5\n",
    "\n",
    "rootdir = \"C:/Users/User/Desktop/Category/test/B Not Ripe/BNR14_0.png\"\n",
    "img = tf.keras.utils.load_img(\n",
    "    rootdir, target_size=(160, 160)\n",
    ")\n",
    "\n",
    "img_array = tf.keras.utils.img_to_array(img)\n",
    "img_array = tf.expand_dims(img_array, axis=0) # Create a batch\n",
    "\n",
    "predictions = model.predict(img_array)\n",
    "score = tf.nn.softmax(predictions[0])\n",
    "\n",
    "print(\n",
    "    \"This image most likely belongs to {} with a {:.2f} percent confidence.\"\n",
    "    .format(class_names[np.argmax(score)], 100 * np.max(score))\n",
    ")"
   ]
  },
  {
   "cell_type": "code",
   "execution_count": 76,
   "metadata": {},
   "outputs": [
    {
     "name": "stdout",
     "output_type": "stream",
     "text": [
      "This image most likely belongs to B Not Ripe with a 20.00 percent confidence.\n"
     ]
    }
   ],
   "source": [
    "#6\n",
    "\n",
    "rootdir = \"C:/Users/User/Desktop/Category/test/B Not Ripe/BNR15_90.png\"\n",
    "img = tf.keras.utils.load_img(\n",
    "    rootdir, target_size=(160, 160)\n",
    ")\n",
    "\n",
    "img_array = tf.keras.utils.img_to_array(img)\n",
    "img_array = tf.expand_dims(img_array, axis=0) # Create a batch\n",
    "\n",
    "predictions = model.predict(img_array)\n",
    "score = tf.nn.softmax(predictions[0])\n",
    "\n",
    "print(\n",
    "    \"This image most likely belongs to {} with a {:.2f} percent confidence.\"\n",
    "    .format(class_names[np.argmax(score)], 100 * np.max(score))\n",
    ")"
   ]
  },
  {
   "cell_type": "code",
   "execution_count": 77,
   "metadata": {},
   "outputs": [
    {
     "name": "stdout",
     "output_type": "stream",
     "text": [
      "This image most likely belongs to B Ripe with a 19.62 percent confidence.\n"
     ]
    }
   ],
   "source": [
    "#7\n",
    "\n",
    "rootdir = \"C:/Users/User/Desktop/Category/test/B Not Ripe/BNR16_270.png\"\n",
    "img = tf.keras.utils.load_img(\n",
    "    rootdir, target_size=(160, 160)\n",
    ")\n",
    "\n",
    "img_array = tf.keras.utils.img_to_array(img)\n",
    "img_array = tf.expand_dims(img_array, axis=0) # Create a batch\n",
    "\n",
    "predictions = model.predict(img_array)\n",
    "score = tf.nn.softmax(predictions[0])\n",
    "\n",
    "print(\n",
    "    \"This image most likely belongs to {} with a {:.2f} percent confidence.\"\n",
    "    .format(class_names[np.argmax(score)], 100 * np.max(score))\n",
    ")"
   ]
  },
  {
   "cell_type": "code",
   "execution_count": 78,
   "metadata": {},
   "outputs": [
    {
     "name": "stdout",
     "output_type": "stream",
     "text": [
      "This image most likely belongs to B Not Ripe with a 35.22 percent confidence.\n"
     ]
    }
   ],
   "source": [
    "#8\n",
    "\n",
    "rootdir = \"C:/Users/User/Desktop/Category/test/B Not Ripe/BNR1_0.png\"\n",
    "img = tf.keras.utils.load_img(\n",
    "    rootdir, target_size=(160, 160)\n",
    ")\n",
    "\n",
    "img_array = tf.keras.utils.img_to_array(img)\n",
    "img_array = tf.expand_dims(img_array, axis=0) # Create a batch\n",
    "\n",
    "predictions = model.predict(img_array)\n",
    "score = tf.nn.softmax(predictions[0])\n",
    "\n",
    "print(\n",
    "    \"This image most likely belongs to {} with a {:.2f} percent confidence.\"\n",
    "    .format(class_names[np.argmax(score)], 100 * np.max(score))\n",
    ")"
   ]
  },
  {
   "cell_type": "code",
   "execution_count": 79,
   "metadata": {},
   "outputs": [
    {
     "name": "stdout",
     "output_type": "stream",
     "text": [
      "This image most likely belongs to B Not Ripe with a 35.21 percent confidence.\n"
     ]
    }
   ],
   "source": [
    "#9\n",
    "\n",
    "rootdir = \"C:/Users/User/Desktop/Category/test/B Not Ripe/BNR2_0.png\"\n",
    "img = tf.keras.utils.load_img(\n",
    "    rootdir, target_size=(160, 160)\n",
    ")\n",
    "\n",
    "img_array = tf.keras.utils.img_to_array(img)\n",
    "img_array = tf.expand_dims(img_array, axis=0) # Create a batch\n",
    "\n",
    "predictions = model.predict(img_array)\n",
    "score = tf.nn.softmax(predictions[0])\n",
    "\n",
    "print(\n",
    "    \"This image most likely belongs to {} with a {:.2f} percent confidence.\"\n",
    "    .format(class_names[np.argmax(score)], 100 * np.max(score))\n",
    ")"
   ]
  },
  {
   "cell_type": "code",
   "execution_count": 80,
   "metadata": {},
   "outputs": [
    {
     "name": "stdout",
     "output_type": "stream",
     "text": [
      "This image most likely belongs to B Not Ripe with a 34.08 percent confidence.\n"
     ]
    }
   ],
   "source": [
    "#10\n",
    "\n",
    "rootdir = \"C:/Users/User/Desktop/Category/test/B Not Ripe/BNR3_270.png\"\n",
    "img = tf.keras.utils.load_img(\n",
    "    rootdir, target_size=(160, 160)\n",
    ")\n",
    "\n",
    "img_array = tf.keras.utils.img_to_array(img)\n",
    "img_array = tf.expand_dims(img_array, axis=0) # Create a batch\n",
    "\n",
    "predictions = model.predict(img_array)\n",
    "score = tf.nn.softmax(predictions[0])\n",
    "\n",
    "print(\n",
    "    \"This image most likely belongs to {} with a {:.2f} percent confidence.\"\n",
    "    .format(class_names[np.argmax(score)], 100 * np.max(score))\n",
    ")"
   ]
  },
  {
   "cell_type": "code",
   "execution_count": 81,
   "metadata": {},
   "outputs": [
    {
     "name": "stdout",
     "output_type": "stream",
     "text": [
      "This image most likely belongs to B Not Ripe with a 35.01 percent confidence.\n"
     ]
    }
   ],
   "source": [
    "#11\n",
    "\n",
    "rootdir = \"C:/Users/User/Desktop/Category/test/B Not Ripe/BNR4_0.png\"\n",
    "img = tf.keras.utils.load_img(\n",
    "    rootdir, target_size=(160, 160)\n",
    ")\n",
    "\n",
    "img_array = tf.keras.utils.img_to_array(img)\n",
    "img_array = tf.expand_dims(img_array, axis=0) # Create a batch\n",
    "\n",
    "predictions = model.predict(img_array)\n",
    "score = tf.nn.softmax(predictions[0])\n",
    "\n",
    "print(\n",
    "    \"This image most likely belongs to {} with a {:.2f} percent confidence.\"\n",
    "    .format(class_names[np.argmax(score)], 100 * np.max(score))\n",
    ")"
   ]
  },
  {
   "cell_type": "code",
   "execution_count": 82,
   "metadata": {},
   "outputs": [
    {
     "name": "stdout",
     "output_type": "stream",
     "text": [
      "This image most likely belongs to B Ripe with a 30.40 percent confidence.\n"
     ]
    }
   ],
   "source": [
    "#12\n",
    "\n",
    "rootdir = \"C:/Users/User/Desktop/Category/test/B Not Ripe/BNR5_90.png\"\n",
    "img = tf.keras.utils.load_img(\n",
    "    rootdir, target_size=(160, 160)\n",
    ")\n",
    "\n",
    "img_array = tf.keras.utils.img_to_array(img)\n",
    "img_array = tf.expand_dims(img_array, axis=0) # Create a batch\n",
    "\n",
    "predictions = model.predict(img_array)\n",
    "score = tf.nn.softmax(predictions[0])\n",
    "\n",
    "print(\n",
    "    \"This image most likely belongs to {} with a {:.2f} percent confidence.\"\n",
    "    .format(class_names[np.argmax(score)], 100 * np.max(score))\n",
    ")"
   ]
  },
  {
   "cell_type": "code",
   "execution_count": 83,
   "metadata": {},
   "outputs": [
    {
     "name": "stdout",
     "output_type": "stream",
     "text": [
      "This image most likely belongs to C Ripe with a 20.63 percent confidence.\n"
     ]
    }
   ],
   "source": [
    "#13\n",
    "\n",
    "rootdir = \"C:/Users/User/Desktop/Category/test/B Not Ripe/BNR69_180.png\"\n",
    "img = tf.keras.utils.load_img(\n",
    "    rootdir, target_size=(160, 160)\n",
    ")\n",
    "\n",
    "img_array = tf.keras.utils.img_to_array(img)\n",
    "img_array = tf.expand_dims(img_array, axis=0) # Create a batch\n",
    "\n",
    "predictions = model.predict(img_array)\n",
    "score = tf.nn.softmax(predictions[0])\n",
    "\n",
    "print(\n",
    "    \"This image most likely belongs to {} with a {:.2f} percent confidence.\"\n",
    "    .format(class_names[np.argmax(score)], 100 * np.max(score))\n",
    ")"
   ]
  },
  {
   "cell_type": "code",
   "execution_count": 84,
   "metadata": {},
   "outputs": [
    {
     "name": "stdout",
     "output_type": "stream",
     "text": [
      "This image most likely belongs to C Not Ripe with a 34.74 percent confidence.\n"
     ]
    }
   ],
   "source": [
    "#14\n",
    "\n",
    "rootdir = \"C:/Users/User/Desktop/Category/test/B Not Ripe/BNR6_0.png\"\n",
    "img = tf.keras.utils.load_img(\n",
    "    rootdir, target_size=(160, 160)\n",
    ")\n",
    "\n",
    "img_array = tf.keras.utils.img_to_array(img)\n",
    "img_array = tf.expand_dims(img_array, axis=0) # Create a batch\n",
    "\n",
    "predictions = model.predict(img_array)\n",
    "score = tf.nn.softmax(predictions[0])\n",
    "\n",
    "print(\n",
    "    \"This image most likely belongs to {} with a {:.2f} percent confidence.\"\n",
    "    .format(class_names[np.argmax(score)], 100 * np.max(score))\n",
    ")"
   ]
  },
  {
   "cell_type": "code",
   "execution_count": 85,
   "metadata": {},
   "outputs": [
    {
     "name": "stdout",
     "output_type": "stream",
     "text": [
      "This image most likely belongs to C Not Ripe with a 33.99 percent confidence.\n"
     ]
    }
   ],
   "source": [
    "#15\n",
    "\n",
    "rootdir = \"C:/Users/User/Desktop/Category/test/B Not Ripe/BNR70_180.png\"\n",
    "img = tf.keras.utils.load_img(\n",
    "    rootdir, target_size=(160, 160)\n",
    ")\n",
    "\n",
    "img_array = tf.keras.utils.img_to_array(img)\n",
    "img_array = tf.expand_dims(img_array, axis=0) # Create a batch\n",
    "\n",
    "predictions = model.predict(img_array)\n",
    "score = tf.nn.softmax(predictions[0])\n",
    "\n",
    "print(\n",
    "    \"This image most likely belongs to {} with a {:.2f} percent confidence.\"\n",
    "    .format(class_names[np.argmax(score)], 100 * np.max(score))\n",
    ")"
   ]
  },
  {
   "cell_type": "code",
   "execution_count": 86,
   "metadata": {},
   "outputs": [
    {
     "name": "stdout",
     "output_type": "stream",
     "text": [
      "This image most likely belongs to B Ripe with a 27.66 percent confidence.\n"
     ]
    }
   ],
   "source": [
    "#16\n",
    "\n",
    "rootdir = \"C:/Users/User/Desktop/Category/test/B Not Ripe/BNR71_270.png\"\n",
    "img = tf.keras.utils.load_img(\n",
    "    rootdir, target_size=(160, 160)\n",
    ")\n",
    "\n",
    "img_array = tf.keras.utils.img_to_array(img)\n",
    "img_array = tf.expand_dims(img_array, axis=0) # Create a batch\n",
    "\n",
    "predictions = model.predict(img_array)\n",
    "score = tf.nn.softmax(predictions[0])\n",
    "\n",
    "print(\n",
    "    \"This image most likely belongs to {} with a {:.2f} percent confidence.\"\n",
    "    .format(class_names[np.argmax(score)], 100 * np.max(score))\n",
    ")"
   ]
  },
  {
   "cell_type": "code",
   "execution_count": 87,
   "metadata": {},
   "outputs": [
    {
     "name": "stdout",
     "output_type": "stream",
     "text": [
      "This image most likely belongs to B Not Ripe with a 35.19 percent confidence.\n"
     ]
    }
   ],
   "source": [
    "#17\n",
    "\n",
    "rootdir = \"C:/Users/User/Desktop/Category/test/B Not Ripe/BNR7_0.png\"\n",
    "img = tf.keras.utils.load_img(\n",
    "    rootdir, target_size=(160, 160)\n",
    ")\n",
    "\n",
    "img_array = tf.keras.utils.img_to_array(img)\n",
    "img_array = tf.expand_dims(img_array, axis=0) # Create a batch\n",
    "\n",
    "predictions = model.predict(img_array)\n",
    "score = tf.nn.softmax(predictions[0])\n",
    "\n",
    "print(\n",
    "    \"This image most likely belongs to {} with a {:.2f} percent confidence.\"\n",
    "    .format(class_names[np.argmax(score)], 100 * np.max(score))\n",
    ")"
   ]
  },
  {
   "cell_type": "code",
   "execution_count": 88,
   "metadata": {},
   "outputs": [
    {
     "name": "stdout",
     "output_type": "stream",
     "text": [
      "This image most likely belongs to C Ripe with a 21.66 percent confidence.\n"
     ]
    }
   ],
   "source": [
    "#18\n",
    "\n",
    "rootdir = \"C:/Users/User/Desktop/Category/test/B Not Ripe/BNR8_180.png\"\n",
    "img = tf.keras.utils.load_img(\n",
    "    rootdir, target_size=(160, 160)\n",
    ")\n",
    "\n",
    "img_array = tf.keras.utils.img_to_array(img)\n",
    "img_array = tf.expand_dims(img_array, axis=0) # Create a batch\n",
    "\n",
    "predictions = model.predict(img_array)\n",
    "score = tf.nn.softmax(predictions[0])\n",
    "\n",
    "print(\n",
    "    \"This image most likely belongs to {} with a {:.2f} percent confidence.\"\n",
    "    .format(class_names[np.argmax(score)], 100 * np.max(score))\n",
    ")"
   ]
  },
  {
   "cell_type": "code",
   "execution_count": 89,
   "metadata": {},
   "outputs": [
    {
     "name": "stdout",
     "output_type": "stream",
     "text": [
      "This image most likely belongs to C Ripe with a 30.62 percent confidence.\n"
     ]
    }
   ],
   "source": [
    "#19\n",
    "\n",
    "rootdir = \"C:/Users/User/Desktop/Category/test/B Not Ripe/BNR9_90.png\"\n",
    "img = tf.keras.utils.load_img(\n",
    "    rootdir, target_size=(160, 160)\n",
    ")\n",
    "\n",
    "img_array = tf.keras.utils.img_to_array(img)\n",
    "img_array = tf.expand_dims(img_array, axis=0) # Create a batch\n",
    "\n",
    "predictions = model.predict(img_array)\n",
    "score = tf.nn.softmax(predictions[0])\n",
    "\n",
    "print(\n",
    "    \"This image most likely belongs to {} with a {:.2f} percent confidence.\"\n",
    "    .format(class_names[np.argmax(score)], 100 * np.max(score))\n",
    ")"
   ]
  },
  {
   "cell_type": "code",
   "execution_count": 90,
   "metadata": {},
   "outputs": [
    {
     "name": "stdout",
     "output_type": "stream",
     "text": [
      "This image most likely belongs to C Ripe with a 35.22 percent confidence.\n"
     ]
    }
   ],
   "source": [
    "#1 C Ripe\n",
    "\n",
    "rootdir = \"C:/Users/User/Desktop/Category/test/C Ripe/CR11_0.png\"\n",
    "img = tf.keras.utils.load_img(\n",
    "    rootdir, target_size=(160, 160)\n",
    ")\n",
    "\n",
    "img_array = tf.keras.utils.img_to_array(img)\n",
    "img_array = tf.expand_dims(img_array, axis=0) # Create a batch\n",
    "\n",
    "predictions = model.predict(img_array)\n",
    "score = tf.nn.softmax(predictions[0])\n",
    "\n",
    "print(\n",
    "    \"This image most likely belongs to {} with a {:.2f} percent confidence.\"\n",
    "    .format(class_names[np.argmax(score)], 100 * np.max(score))\n",
    ")"
   ]
  },
  {
   "cell_type": "code",
   "execution_count": 91,
   "metadata": {},
   "outputs": [
    {
     "name": "stdout",
     "output_type": "stream",
     "text": [
      "This image most likely belongs to C Ripe with a 30.31 percent confidence.\n"
     ]
    }
   ],
   "source": [
    "#2\n",
    "\n",
    "rootdir = \"C:/Users/User/Desktop/Category/test/C Ripe/CR13_0.png\"\n",
    "img = tf.keras.utils.load_img(\n",
    "    rootdir, target_size=(160, 160)\n",
    ")\n",
    "\n",
    "img_array = tf.keras.utils.img_to_array(img)\n",
    "img_array = tf.expand_dims(img_array, axis=0) # Create a batch\n",
    "\n",
    "predictions = model.predict(img_array)\n",
    "score = tf.nn.softmax(predictions[0])\n",
    "\n",
    "print(\n",
    "    \"This image most likely belongs to {} with a {:.2f} percent confidence.\"\n",
    "    .format(class_names[np.argmax(score)], 100 * np.max(score))\n",
    ")"
   ]
  },
  {
   "cell_type": "code",
   "execution_count": 92,
   "metadata": {},
   "outputs": [
    {
     "name": "stdout",
     "output_type": "stream",
     "text": [
      "This image most likely belongs to C Ripe with a 35.21 percent confidence.\n"
     ]
    }
   ],
   "source": [
    "#3\n",
    "\n",
    "rootdir = \"C:/Users/User/Desktop/Category/test/C Ripe/CR22_0.png\"\n",
    "img = tf.keras.utils.load_img(\n",
    "    rootdir, target_size=(160, 160)\n",
    ")\n",
    "\n",
    "img_array = tf.keras.utils.img_to_array(img)\n",
    "img_array = tf.expand_dims(img_array, axis=0) # Create a batch\n",
    "\n",
    "predictions = model.predict(img_array)\n",
    "score = tf.nn.softmax(predictions[0])\n",
    "\n",
    "print(\n",
    "    \"This image most likely belongs to {} with a {:.2f} percent confidence.\"\n",
    "    .format(class_names[np.argmax(score)], 100 * np.max(score))\n",
    ")"
   ]
  },
  {
   "cell_type": "code",
   "execution_count": 93,
   "metadata": {},
   "outputs": [
    {
     "name": "stdout",
     "output_type": "stream",
     "text": [
      "This image most likely belongs to C Ripe with a 35.21 percent confidence.\n"
     ]
    }
   ],
   "source": [
    "#4\n",
    "\n",
    "rootdir = \"C:/Users/User/Desktop/Category/test/C Ripe/CR24_0.png\"\n",
    "img = tf.keras.utils.load_img(\n",
    "    rootdir, target_size=(160, 160)\n",
    ")\n",
    "\n",
    "img_array = tf.keras.utils.img_to_array(img)\n",
    "img_array = tf.expand_dims(img_array, axis=0) # Create a batch\n",
    "\n",
    "predictions = model.predict(img_array)\n",
    "score = tf.nn.softmax(predictions[0])\n",
    "\n",
    "print(\n",
    "    \"This image most likely belongs to {} with a {:.2f} percent confidence.\"\n",
    "    .format(class_names[np.argmax(score)], 100 * np.max(score))\n",
    ")"
   ]
  },
  {
   "cell_type": "code",
   "execution_count": 94,
   "metadata": {},
   "outputs": [
    {
     "name": "stdout",
     "output_type": "stream",
     "text": [
      "This image most likely belongs to C Ripe with a 35.21 percent confidence.\n"
     ]
    }
   ],
   "source": [
    "#5\n",
    "\n",
    "rootdir = \"C:/Users/User/Desktop/Category/test/C Ripe/CR30_0.png\"\n",
    "img = tf.keras.utils.load_img(\n",
    "    rootdir, target_size=(160, 160)\n",
    ")\n",
    "\n",
    "img_array = tf.keras.utils.img_to_array(img)\n",
    "img_array = tf.expand_dims(img_array, axis=0) # Create a batch\n",
    "\n",
    "predictions = model.predict(img_array)\n",
    "score = tf.nn.softmax(predictions[0])\n",
    "\n",
    "print(\n",
    "    \"This image most likely belongs to {} with a {:.2f} percent confidence.\"\n",
    "    .format(class_names[np.argmax(score)], 100 * np.max(score))\n",
    ")"
   ]
  },
  {
   "cell_type": "code",
   "execution_count": 95,
   "metadata": {},
   "outputs": [
    {
     "name": "stdout",
     "output_type": "stream",
     "text": [
      "This image most likely belongs to C Ripe with a 35.22 percent confidence.\n"
     ]
    }
   ],
   "source": [
    "#6\n",
    "\n",
    "rootdir = \"C:/Users/User/Desktop/Category/test/C Ripe/CR32_0.png\"\n",
    "img = tf.keras.utils.load_img(\n",
    "    rootdir, target_size=(160, 160)\n",
    ")\n",
    "\n",
    "img_array = tf.keras.utils.img_to_array(img)\n",
    "img_array = tf.expand_dims(img_array, axis=0) # Create a batch\n",
    "\n",
    "predictions = model.predict(img_array)\n",
    "score = tf.nn.softmax(predictions[0])\n",
    "\n",
    "print(\n",
    "    \"This image most likely belongs to {} with a {:.2f} percent confidence.\"\n",
    "    .format(class_names[np.argmax(score)], 100 * np.max(score))\n",
    ")"
   ]
  },
  {
   "cell_type": "code",
   "execution_count": 96,
   "metadata": {},
   "outputs": [
    {
     "name": "stdout",
     "output_type": "stream",
     "text": [
      "This image most likely belongs to C Ripe with a 35.21 percent confidence.\n"
     ]
    }
   ],
   "source": [
    "#7\n",
    "\n",
    "rootdir = \"C:/Users/User/Desktop/Category/test/C Ripe/CR38_0.png\"\n",
    "img = tf.keras.utils.load_img(\n",
    "    rootdir, target_size=(160, 160)\n",
    ")\n",
    "\n",
    "img_array = tf.keras.utils.img_to_array(img)\n",
    "img_array = tf.expand_dims(img_array, axis=0) # Create a batch\n",
    "\n",
    "predictions = model.predict(img_array)\n",
    "score = tf.nn.softmax(predictions[0])\n",
    "\n",
    "print(\n",
    "    \"This image most likely belongs to {} with a {:.2f} percent confidence.\"\n",
    "    .format(class_names[np.argmax(score)], 100 * np.max(score))\n",
    ")"
   ]
  },
  {
   "cell_type": "code",
   "execution_count": 97,
   "metadata": {},
   "outputs": [
    {
     "name": "stdout",
     "output_type": "stream",
     "text": [
      "This image most likely belongs to C Ripe with a 23.42 percent confidence.\n"
     ]
    }
   ],
   "source": [
    "#8\n",
    "\n",
    "rootdir = \"C:/Users/User/Desktop/Category/test/C Ripe/CR44_0.png\"\n",
    "img = tf.keras.utils.load_img(\n",
    "    rootdir, target_size=(160, 160)\n",
    ")\n",
    "\n",
    "img_array = tf.keras.utils.img_to_array(img)\n",
    "img_array = tf.expand_dims(img_array, axis=0) # Create a batch\n",
    "\n",
    "predictions = model.predict(img_array)\n",
    "score = tf.nn.softmax(predictions[0])\n",
    "\n",
    "print(\n",
    "    \"This image most likely belongs to {} with a {:.2f} percent confidence.\"\n",
    "    .format(class_names[np.argmax(score)], 100 * np.max(score))\n",
    ")"
   ]
  },
  {
   "cell_type": "code",
   "execution_count": 98,
   "metadata": {},
   "outputs": [
    {
     "name": "stdout",
     "output_type": "stream",
     "text": [
      "This image most likely belongs to C Ripe with a 35.22 percent confidence.\n"
     ]
    }
   ],
   "source": [
    "#9\n",
    "\n",
    "rootdir = \"C:/Users/User/Desktop/Category/test/C Ripe/CR45_0.png\"\n",
    "img = tf.keras.utils.load_img(\n",
    "    rootdir, target_size=(160, 160)\n",
    ")\n",
    "\n",
    "img_array = tf.keras.utils.img_to_array(img)\n",
    "img_array = tf.expand_dims(img_array, axis=0) # Create a batch\n",
    "\n",
    "predictions = model.predict(img_array)\n",
    "score = tf.nn.softmax(predictions[0])\n",
    "\n",
    "print(\n",
    "    \"This image most likely belongs to {} with a {:.2f} percent confidence.\"\n",
    "    .format(class_names[np.argmax(score)], 100 * np.max(score))\n",
    ")"
   ]
  },
  {
   "cell_type": "code",
   "execution_count": 99,
   "metadata": {},
   "outputs": [
    {
     "name": "stdout",
     "output_type": "stream",
     "text": [
      "This image most likely belongs to C Ripe with a 35.21 percent confidence.\n"
     ]
    }
   ],
   "source": [
    "#10\n",
    "\n",
    "rootdir = \"C:/Users/User/Desktop/Category/test/C Ripe/CR46_0.png\"\n",
    "img = tf.keras.utils.load_img(\n",
    "    rootdir, target_size=(160, 160)\n",
    ")\n",
    "\n",
    "img_array = tf.keras.utils.img_to_array(img)\n",
    "img_array = tf.expand_dims(img_array, axis=0) # Create a batch\n",
    "\n",
    "predictions = model.predict(img_array)\n",
    "score = tf.nn.softmax(predictions[0])\n",
    "\n",
    "print(\n",
    "    \"This image most likely belongs to {} with a {:.2f} percent confidence.\"\n",
    "    .format(class_names[np.argmax(score)], 100 * np.max(score))\n",
    ")"
   ]
  },
  {
   "cell_type": "code",
   "execution_count": 100,
   "metadata": {},
   "outputs": [
    {
     "name": "stdout",
     "output_type": "stream",
     "text": [
      "This image most likely belongs to C Ripe with a 35.22 percent confidence.\n"
     ]
    }
   ],
   "source": [
    "#11\n",
    "\n",
    "rootdir = \"C:/Users/User/Desktop/Category/test/C Ripe/CR47_0.png\"\n",
    "img = tf.keras.utils.load_img(\n",
    "    rootdir, target_size=(160, 160)\n",
    ")\n",
    "\n",
    "img_array = tf.keras.utils.img_to_array(img)\n",
    "img_array = tf.expand_dims(img_array, axis=0) # Create a batch\n",
    "\n",
    "predictions = model.predict(img_array)\n",
    "score = tf.nn.softmax(predictions[0])\n",
    "\n",
    "print(\n",
    "    \"This image most likely belongs to {} with a {:.2f} percent confidence.\"\n",
    "    .format(class_names[np.argmax(score)], 100 * np.max(score))\n",
    ")"
   ]
  },
  {
   "cell_type": "code",
   "execution_count": 101,
   "metadata": {},
   "outputs": [
    {
     "name": "stdout",
     "output_type": "stream",
     "text": [
      "This image most likely belongs to C Ripe with a 35.22 percent confidence.\n"
     ]
    }
   ],
   "source": [
    "#12\n",
    "\n",
    "rootdir = \"C:/Users/User/Desktop/Category/test/C Ripe/CR4_0.png\"\n",
    "img = tf.keras.utils.load_img(\n",
    "    rootdir, target_size=(160, 160)\n",
    ")\n",
    "\n",
    "img_array = tf.keras.utils.img_to_array(img)\n",
    "img_array = tf.expand_dims(img_array, axis=0) # Create a batch\n",
    "\n",
    "predictions = model.predict(img_array)\n",
    "score = tf.nn.softmax(predictions[0])\n",
    "\n",
    "print(\n",
    "    \"This image most likely belongs to {} with a {:.2f} percent confidence.\"\n",
    "    .format(class_names[np.argmax(score)], 100 * np.max(score))\n",
    ")"
   ]
  },
  {
   "cell_type": "code",
   "execution_count": 102,
   "metadata": {},
   "outputs": [
    {
     "name": "stdout",
     "output_type": "stream",
     "text": [
      "This image most likely belongs to C Ripe with a 35.21 percent confidence.\n"
     ]
    }
   ],
   "source": [
    "#13\n",
    "\n",
    "rootdir = \"C:/Users/User/Desktop/Category/test/C Ripe/CR50_0.png\"\n",
    "img = tf.keras.utils.load_img(\n",
    "    rootdir, target_size=(160, 160)\n",
    ")\n",
    "\n",
    "img_array = tf.keras.utils.img_to_array(img)\n",
    "img_array = tf.expand_dims(img_array, axis=0) # Create a batch\n",
    "\n",
    "predictions = model.predict(img_array)\n",
    "score = tf.nn.softmax(predictions[0])\n",
    "\n",
    "print(\n",
    "    \"This image most likely belongs to {} with a {:.2f} percent confidence.\"\n",
    "    .format(class_names[np.argmax(score)], 100 * np.max(score))\n",
    ")"
   ]
  },
  {
   "cell_type": "code",
   "execution_count": 103,
   "metadata": {},
   "outputs": [
    {
     "name": "stdout",
     "output_type": "stream",
     "text": [
      "This image most likely belongs to C Ripe with a 35.21 percent confidence.\n"
     ]
    }
   ],
   "source": [
    "#14\n",
    "\n",
    "rootdir = \"C:/Users/User/Desktop/Category/test/C Ripe/CR51_0.png\"\n",
    "img = tf.keras.utils.load_img(\n",
    "    rootdir, target_size=(160, 160)\n",
    ")\n",
    "\n",
    "img_array = tf.keras.utils.img_to_array(img)\n",
    "img_array = tf.expand_dims(img_array, axis=0) # Create a batch\n",
    "\n",
    "predictions = model.predict(img_array)\n",
    "score = tf.nn.softmax(predictions[0])\n",
    "\n",
    "print(\n",
    "    \"This image most likely belongs to {} with a {:.2f} percent confidence.\"\n",
    "    .format(class_names[np.argmax(score)], 100 * np.max(score))\n",
    ")"
   ]
  },
  {
   "cell_type": "code",
   "execution_count": 104,
   "metadata": {},
   "outputs": [
    {
     "name": "stdout",
     "output_type": "stream",
     "text": [
      "This image most likely belongs to C Ripe with a 35.19 percent confidence.\n"
     ]
    }
   ],
   "source": [
    "#15\n",
    "\n",
    "rootdir = \"C:/Users/User/Desktop/Category/test/C Ripe/CR60_0.png\"\n",
    "img = tf.keras.utils.load_img(\n",
    "    rootdir, target_size=(160, 160)\n",
    ")\n",
    "\n",
    "img_array = tf.keras.utils.img_to_array(img)\n",
    "img_array = tf.expand_dims(img_array, axis=0) # Create a batch\n",
    "\n",
    "predictions = model.predict(img_array)\n",
    "score = tf.nn.softmax(predictions[0])\n",
    "\n",
    "print(\n",
    "    \"This image most likely belongs to {} with a {:.2f} percent confidence.\"\n",
    "    .format(class_names[np.argmax(score)], 100 * np.max(score))\n",
    ")"
   ]
  },
  {
   "cell_type": "code",
   "execution_count": 105,
   "metadata": {},
   "outputs": [
    {
     "name": "stdout",
     "output_type": "stream",
     "text": [
      "This image most likely belongs to C Ripe with a 35.19 percent confidence.\n"
     ]
    }
   ],
   "source": [
    "#16\n",
    "\n",
    "rootdir = \"C:/Users/User/Desktop/Category/test/C Ripe/CR62_0.png\"\n",
    "img = tf.keras.utils.load_img(\n",
    "    rootdir, target_size=(160, 160)\n",
    ")\n",
    "\n",
    "img_array = tf.keras.utils.img_to_array(img)\n",
    "img_array = tf.expand_dims(img_array, axis=0) # Create a batch\n",
    "\n",
    "predictions = model.predict(img_array)\n",
    "score = tf.nn.softmax(predictions[0])\n",
    "\n",
    "print(\n",
    "    \"This image most likely belongs to {} with a {:.2f} percent confidence.\"\n",
    "    .format(class_names[np.argmax(score)], 100 * np.max(score))\n",
    ")"
   ]
  },
  {
   "cell_type": "code",
   "execution_count": 106,
   "metadata": {},
   "outputs": [
    {
     "name": "stdout",
     "output_type": "stream",
     "text": [
      "This image most likely belongs to C Ripe with a 35.20 percent confidence.\n"
     ]
    }
   ],
   "source": [
    "#17\n",
    "\n",
    "rootdir = \"C:/Users/User/Desktop/Category/test/C Ripe/CR63_0.png\"\n",
    "img = tf.keras.utils.load_img(\n",
    "    rootdir, target_size=(160, 160)\n",
    ")\n",
    "\n",
    "img_array = tf.keras.utils.img_to_array(img)\n",
    "img_array = tf.expand_dims(img_array, axis=0) # Create a batch\n",
    "\n",
    "predictions = model.predict(img_array)\n",
    "score = tf.nn.softmax(predictions[0])\n",
    "\n",
    "print(\n",
    "    \"This image most likely belongs to {} with a {:.2f} percent confidence.\"\n",
    "    .format(class_names[np.argmax(score)], 100 * np.max(score))\n",
    ")"
   ]
  },
  {
   "cell_type": "code",
   "execution_count": 107,
   "metadata": {},
   "outputs": [
    {
     "name": "stdout",
     "output_type": "stream",
     "text": [
      "This image most likely belongs to C Ripe with a 35.21 percent confidence.\n"
     ]
    }
   ],
   "source": [
    "#18\n",
    "\n",
    "rootdir = \"C:/Users/User/Desktop/Category/test/C Ripe/CR64_0.png\"\n",
    "img = tf.keras.utils.load_img(\n",
    "    rootdir, target_size=(160, 160)\n",
    ")\n",
    "\n",
    "img_array = tf.keras.utils.img_to_array(img)\n",
    "img_array = tf.expand_dims(img_array, axis=0) # Create a batch\n",
    "\n",
    "predictions = model.predict(img_array)\n",
    "score = tf.nn.softmax(predictions[0])\n",
    "\n",
    "print(\n",
    "    \"This image most likely belongs to {} with a {:.2f} percent confidence.\"\n",
    "    .format(class_names[np.argmax(score)], 100 * np.max(score))\n",
    ")"
   ]
  },
  {
   "cell_type": "code",
   "execution_count": 108,
   "metadata": {},
   "outputs": [
    {
     "name": "stdout",
     "output_type": "stream",
     "text": [
      "This image most likely belongs to C Ripe with a 35.22 percent confidence.\n"
     ]
    }
   ],
   "source": [
    "#19\n",
    "\n",
    "rootdir = \"C:/Users/User/Desktop/Category/test/C Ripe/CR8_0.png\"\n",
    "img = tf.keras.utils.load_img(\n",
    "    rootdir, target_size=(160, 160)\n",
    ")\n",
    "\n",
    "img_array = tf.keras.utils.img_to_array(img)\n",
    "img_array = tf.expand_dims(img_array, axis=0) # Create a batch\n",
    "\n",
    "predictions = model.predict(img_array)\n",
    "score = tf.nn.softmax(predictions[0])\n",
    "\n",
    "print(\n",
    "    \"This image most likely belongs to {} with a {:.2f} percent confidence.\"\n",
    "    .format(class_names[np.argmax(score)], 100 * np.max(score))\n",
    ")"
   ]
  },
  {
   "cell_type": "code",
   "execution_count": 109,
   "metadata": {},
   "outputs": [
    {
     "name": "stdout",
     "output_type": "stream",
     "text": [
      "This image most likely belongs to C Not Ripe with a 35.22 percent confidence.\n"
     ]
    }
   ],
   "source": [
    "#1 C Not Ripe\n",
    "\n",
    "rootdir = \"C:/Users/User/Desktop/Category/test/C Not Ripe/CNR10_0.png\"\n",
    "img = tf.keras.utils.load_img(\n",
    "    rootdir, target_size=(160, 160)\n",
    ")\n",
    "\n",
    "img_array = tf.keras.utils.img_to_array(img)\n",
    "img_array = tf.expand_dims(img_array, axis=0) # Create a batch\n",
    "\n",
    "predictions = model.predict(img_array)\n",
    "score = tf.nn.softmax(predictions[0])\n",
    "\n",
    "print(\n",
    "    \"This image most likely belongs to {} with a {:.2f} percent confidence.\"\n",
    "    .format(class_names[np.argmax(score)], 100 * np.max(score))\n",
    ")"
   ]
  },
  {
   "cell_type": "code",
   "execution_count": 110,
   "metadata": {},
   "outputs": [
    {
     "name": "stdout",
     "output_type": "stream",
     "text": [
      "This image most likely belongs to C Not Ripe with a 35.21 percent confidence.\n"
     ]
    }
   ],
   "source": [
    "#2\n",
    "\n",
    "rootdir = \"C:/Users/User/Desktop/Category/test/C Not Ripe/CNR11_0.png\"\n",
    "img = tf.keras.utils.load_img(\n",
    "    rootdir, target_size=(160, 160)\n",
    ")\n",
    "\n",
    "img_array = tf.keras.utils.img_to_array(img)\n",
    "img_array = tf.expand_dims(img_array, axis=0) # Create a batch\n",
    "\n",
    "predictions = model.predict(img_array)\n",
    "score = tf.nn.softmax(predictions[0])\n",
    "\n",
    "print(\n",
    "    \"This image most likely belongs to {} with a {:.2f} percent confidence.\"\n",
    "    .format(class_names[np.argmax(score)], 100 * np.max(score))\n",
    ")"
   ]
  },
  {
   "cell_type": "code",
   "execution_count": 111,
   "metadata": {},
   "outputs": [
    {
     "name": "stdout",
     "output_type": "stream",
     "text": [
      "This image most likely belongs to C Not Ripe with a 35.22 percent confidence.\n"
     ]
    }
   ],
   "source": [
    "#3\n",
    "\n",
    "rootdir = \"C:/Users/User/Desktop/Category/test/C Not Ripe/CNR1_0.png\"\n",
    "img = tf.keras.utils.load_img(\n",
    "    rootdir, target_size=(160, 160)\n",
    ")\n",
    "\n",
    "img_array = tf.keras.utils.img_to_array(img)\n",
    "img_array = tf.expand_dims(img_array, axis=0) # Create a batch\n",
    "\n",
    "predictions = model.predict(img_array)\n",
    "score = tf.nn.softmax(predictions[0])\n",
    "\n",
    "print(\n",
    "    \"This image most likely belongs to {} with a {:.2f} percent confidence.\"\n",
    "    .format(class_names[np.argmax(score)], 100 * np.max(score))\n",
    ")"
   ]
  },
  {
   "cell_type": "code",
   "execution_count": 113,
   "metadata": {},
   "outputs": [
    {
     "name": "stdout",
     "output_type": "stream",
     "text": [
      "This image most likely belongs to C Not Ripe with a 35.21 percent confidence.\n"
     ]
    }
   ],
   "source": [
    "#4\n",
    "\n",
    "rootdir = \"C:/Users/User/Desktop/Category/test/C Not Ripe/CNR20_0.png\"\n",
    "img = tf.keras.utils.load_img(\n",
    "    rootdir, target_size=(160, 160)\n",
    ")\n",
    "\n",
    "img_array = tf.keras.utils.img_to_array(img)\n",
    "img_array = tf.expand_dims(img_array, axis=0) # Create a batch\n",
    "\n",
    "predictions = model.predict(img_array)\n",
    "score = tf.nn.softmax(predictions[0])\n",
    "\n",
    "print(\n",
    "    \"This image most likely belongs to {} with a {:.2f} percent confidence.\"\n",
    "    .format(class_names[np.argmax(score)], 100 * np.max(score))\n",
    ")"
   ]
  },
  {
   "cell_type": "code",
   "execution_count": 114,
   "metadata": {},
   "outputs": [
    {
     "name": "stdout",
     "output_type": "stream",
     "text": [
      "This image most likely belongs to C Not Ripe with a 35.13 percent confidence.\n"
     ]
    }
   ],
   "source": [
    "#5\n",
    "\n",
    "rootdir = \"C:/Users/User/Desktop/Category/test/C Not Ripe/CNR22_0.png\"\n",
    "img = tf.keras.utils.load_img(\n",
    "    rootdir, target_size=(160, 160)\n",
    ")\n",
    "\n",
    "img_array = tf.keras.utils.img_to_array(img)\n",
    "img_array = tf.expand_dims(img_array, axis=0) # Create a batch\n",
    "\n",
    "predictions = model.predict(img_array)\n",
    "score = tf.nn.softmax(predictions[0])\n",
    "\n",
    "print(\n",
    "    \"This image most likely belongs to {} with a {:.2f} percent confidence.\"\n",
    "    .format(class_names[np.argmax(score)], 100 * np.max(score))\n",
    ")"
   ]
  },
  {
   "cell_type": "code",
   "execution_count": 115,
   "metadata": {},
   "outputs": [
    {
     "name": "stdout",
     "output_type": "stream",
     "text": [
      "This image most likely belongs to C Not Ripe with a 35.21 percent confidence.\n"
     ]
    }
   ],
   "source": [
    "#6\n",
    "\n",
    "rootdir = \"C:/Users/User/Desktop/Category/test/C Not Ripe/CNR28_0.png\"\n",
    "img = tf.keras.utils.load_img(\n",
    "    rootdir, target_size=(160, 160)\n",
    ")\n",
    "\n",
    "img_array = tf.keras.utils.img_to_array(img)\n",
    "img_array = tf.expand_dims(img_array, axis=0) # Create a batch\n",
    "\n",
    "predictions = model.predict(img_array)\n",
    "score = tf.nn.softmax(predictions[0])\n",
    "\n",
    "print(\n",
    "    \"This image most likely belongs to {} with a {:.2f} percent confidence.\"\n",
    "    .format(class_names[np.argmax(score)], 100 * np.max(score))\n",
    ")"
   ]
  },
  {
   "cell_type": "code",
   "execution_count": 116,
   "metadata": {},
   "outputs": [
    {
     "name": "stdout",
     "output_type": "stream",
     "text": [
      "This image most likely belongs to C Not Ripe with a 35.22 percent confidence.\n"
     ]
    }
   ],
   "source": [
    "#7\n",
    "\n",
    "rootdir = \"C:/Users/User/Desktop/Category/test/C Not Ripe/CNR30_0.png\"\n",
    "img = tf.keras.utils.load_img(\n",
    "    rootdir, target_size=(160, 160)\n",
    ")\n",
    "\n",
    "img_array = tf.keras.utils.img_to_array(img)\n",
    "img_array = tf.expand_dims(img_array, axis=0) # Create a batch\n",
    "\n",
    "predictions = model.predict(img_array)\n",
    "score = tf.nn.softmax(predictions[0])\n",
    "\n",
    "print(\n",
    "    \"This image most likely belongs to {} with a {:.2f} percent confidence.\"\n",
    "    .format(class_names[np.argmax(score)], 100 * np.max(score))\n",
    ")"
   ]
  },
  {
   "cell_type": "code",
   "execution_count": 117,
   "metadata": {},
   "outputs": [
    {
     "name": "stdout",
     "output_type": "stream",
     "text": [
      "This image most likely belongs to C Not Ripe with a 35.22 percent confidence.\n"
     ]
    }
   ],
   "source": [
    "#8\n",
    "\n",
    "rootdir = \"C:/Users/User/Desktop/Category/test/C Not Ripe/CNR38_0.png\"\n",
    "img = tf.keras.utils.load_img(\n",
    "    rootdir, target_size=(160, 160)\n",
    ")\n",
    "\n",
    "img_array = tf.keras.utils.img_to_array(img)\n",
    "img_array = tf.expand_dims(img_array, axis=0) # Create a batch\n",
    "\n",
    "predictions = model.predict(img_array)\n",
    "score = tf.nn.softmax(predictions[0])\n",
    "\n",
    "print(\n",
    "    \"This image most likely belongs to {} with a {:.2f} percent confidence.\"\n",
    "    .format(class_names[np.argmax(score)], 100 * np.max(score))\n",
    ")"
   ]
  },
  {
   "cell_type": "code",
   "execution_count": 118,
   "metadata": {},
   "outputs": [
    {
     "name": "stdout",
     "output_type": "stream",
     "text": [
      "This image most likely belongs to C Ripe with a 27.67 percent confidence.\n"
     ]
    }
   ],
   "source": [
    "#9\n",
    "\n",
    "rootdir = \"C:/Users/User/Desktop/Category/test/C Not Ripe/CNR43_0.png\"\n",
    "img = tf.keras.utils.load_img(\n",
    "    rootdir, target_size=(160, 160)\n",
    ")\n",
    "\n",
    "img_array = tf.keras.utils.img_to_array(img)\n",
    "img_array = tf.expand_dims(img_array, axis=0) # Create a batch\n",
    "\n",
    "predictions = model.predict(img_array)\n",
    "score = tf.nn.softmax(predictions[0])\n",
    "\n",
    "print(\n",
    "    \"This image most likely belongs to {} with a {:.2f} percent confidence.\"\n",
    "    .format(class_names[np.argmax(score)], 100 * np.max(score))\n",
    ")"
   ]
  },
  {
   "cell_type": "code",
   "execution_count": 119,
   "metadata": {},
   "outputs": [
    {
     "name": "stdout",
     "output_type": "stream",
     "text": [
      "This image most likely belongs to C Not Ripe with a 35.22 percent confidence.\n"
     ]
    }
   ],
   "source": [
    "#10\n",
    "\n",
    "rootdir = \"C:/Users/User/Desktop/Category/test/C Not Ripe/CNR52_0.png\"\n",
    "img = tf.keras.utils.load_img(\n",
    "    rootdir, target_size=(160, 160)\n",
    ")\n",
    "\n",
    "img_array = tf.keras.utils.img_to_array(img)\n",
    "img_array = tf.expand_dims(img_array, axis=0) # Create a batch\n",
    "\n",
    "predictions = model.predict(img_array)\n",
    "score = tf.nn.softmax(predictions[0])\n",
    "\n",
    "print(\n",
    "    \"This image most likely belongs to {} with a {:.2f} percent confidence.\"\n",
    "    .format(class_names[np.argmax(score)], 100 * np.max(score))\n",
    ")"
   ]
  },
  {
   "cell_type": "code",
   "execution_count": 120,
   "metadata": {},
   "outputs": [
    {
     "name": "stdout",
     "output_type": "stream",
     "text": [
      "This image most likely belongs to C Not Ripe with a 35.21 percent confidence.\n"
     ]
    }
   ],
   "source": [
    "#11\n",
    "\n",
    "rootdir = \"C:/Users/User/Desktop/Category/test/C Not Ripe/CNR57_0.png\"\n",
    "img = tf.keras.utils.load_img(\n",
    "    rootdir, target_size=(160, 160)\n",
    ")\n",
    "\n",
    "img_array = tf.keras.utils.img_to_array(img)\n",
    "img_array = tf.expand_dims(img_array, axis=0) # Create a batch\n",
    "\n",
    "predictions = model.predict(img_array)\n",
    "score = tf.nn.softmax(predictions[0])\n",
    "\n",
    "print(\n",
    "    \"This image most likely belongs to {} with a {:.2f} percent confidence.\"\n",
    "    .format(class_names[np.argmax(score)], 100 * np.max(score))\n",
    ")"
   ]
  },
  {
   "cell_type": "code",
   "execution_count": 121,
   "metadata": {},
   "outputs": [
    {
     "name": "stdout",
     "output_type": "stream",
     "text": [
      "This image most likely belongs to C Not Ripe with a 35.16 percent confidence.\n"
     ]
    }
   ],
   "source": [
    "#12\n",
    "\n",
    "rootdir = \"C:/Users/User/Desktop/Category/test/C Not Ripe/CNR58_0.png\"\n",
    "img = tf.keras.utils.load_img(\n",
    "    rootdir, target_size=(160, 160)\n",
    ")\n",
    "\n",
    "img_array = tf.keras.utils.img_to_array(img)\n",
    "img_array = tf.expand_dims(img_array, axis=0) # Create a batch\n",
    "\n",
    "predictions = model.predict(img_array)\n",
    "score = tf.nn.softmax(predictions[0])\n",
    "\n",
    "print(\n",
    "    \"This image most likely belongs to {} with a {:.2f} percent confidence.\"\n",
    "    .format(class_names[np.argmax(score)], 100 * np.max(score))\n",
    ")"
   ]
  },
  {
   "cell_type": "code",
   "execution_count": 122,
   "metadata": {},
   "outputs": [
    {
     "name": "stdout",
     "output_type": "stream",
     "text": [
      "This image most likely belongs to C Not Ripe with a 35.21 percent confidence.\n"
     ]
    }
   ],
   "source": [
    "#13\n",
    "\n",
    "rootdir = \"C:/Users/User/Desktop/Category/test/C Not Ripe/CNR59_0.png\"\n",
    "img = tf.keras.utils.load_img(\n",
    "    rootdir, target_size=(160, 160)\n",
    ")\n",
    "\n",
    "img_array = tf.keras.utils.img_to_array(img)\n",
    "img_array = tf.expand_dims(img_array, axis=0) # Create a batch\n",
    "\n",
    "predictions = model.predict(img_array)\n",
    "score = tf.nn.softmax(predictions[0])\n",
    "\n",
    "print(\n",
    "    \"This image most likely belongs to {} with a {:.2f} percent confidence.\"\n",
    "    .format(class_names[np.argmax(score)], 100 * np.max(score))\n",
    ")"
   ]
  },
  {
   "cell_type": "code",
   "execution_count": 123,
   "metadata": {},
   "outputs": [
    {
     "name": "stdout",
     "output_type": "stream",
     "text": [
      "This image most likely belongs to C Not Ripe with a 35.22 percent confidence.\n"
     ]
    }
   ],
   "source": [
    "#14\n",
    "\n",
    "rootdir = \"C:/Users/User/Desktop/Category/test/C Not Ripe/CNR5_0.png\"\n",
    "img = tf.keras.utils.load_img(\n",
    "    rootdir, target_size=(160, 160)\n",
    ")\n",
    "\n",
    "img_array = tf.keras.utils.img_to_array(img)\n",
    "img_array = tf.expand_dims(img_array, axis=0) # Create a batch\n",
    "\n",
    "predictions = model.predict(img_array)\n",
    "score = tf.nn.softmax(predictions[0])\n",
    "\n",
    "print(\n",
    "    \"This image most likely belongs to {} with a {:.2f} percent confidence.\"\n",
    "    .format(class_names[np.argmax(score)], 100 * np.max(score))\n",
    ")"
   ]
  },
  {
   "cell_type": "code",
   "execution_count": 124,
   "metadata": {},
   "outputs": [
    {
     "name": "stdout",
     "output_type": "stream",
     "text": [
      "This image most likely belongs to C Not Ripe with a 35.22 percent confidence.\n"
     ]
    }
   ],
   "source": [
    "#15\n",
    "\n",
    "rootdir = \"C:/Users/User/Desktop/Category/test/C Not Ripe/CNR62_0.png\"\n",
    "img = tf.keras.utils.load_img(\n",
    "    rootdir, target_size=(160, 160)\n",
    ")\n",
    "\n",
    "img_array = tf.keras.utils.img_to_array(img)\n",
    "img_array = tf.expand_dims(img_array, axis=0) # Create a batch\n",
    "\n",
    "predictions = model.predict(img_array)\n",
    "score = tf.nn.softmax(predictions[0])\n",
    "\n",
    "print(\n",
    "    \"This image most likely belongs to {} with a {:.2f} percent confidence.\"\n",
    "    .format(class_names[np.argmax(score)], 100 * np.max(score))\n",
    ")"
   ]
  },
  {
   "cell_type": "code",
   "execution_count": 125,
   "metadata": {},
   "outputs": [
    {
     "name": "stdout",
     "output_type": "stream",
     "text": [
      "This image most likely belongs to C Not Ripe with a 35.22 percent confidence.\n"
     ]
    }
   ],
   "source": [
    "#16\n",
    "\n",
    "rootdir = \"C:/Users/User/Desktop/Category/test/C Not Ripe/CNR63_0.png\"\n",
    "img = tf.keras.utils.load_img(\n",
    "    rootdir, target_size=(160, 160)\n",
    ")\n",
    "\n",
    "img_array = tf.keras.utils.img_to_array(img)\n",
    "img_array = tf.expand_dims(img_array, axis=0) # Create a batch\n",
    "\n",
    "predictions = model.predict(img_array)\n",
    "score = tf.nn.softmax(predictions[0])\n",
    "\n",
    "print(\n",
    "    \"This image most likely belongs to {} with a {:.2f} percent confidence.\"\n",
    "    .format(class_names[np.argmax(score)], 100 * np.max(score))\n",
    ")"
   ]
  },
  {
   "cell_type": "code",
   "execution_count": 126,
   "metadata": {},
   "outputs": [
    {
     "name": "stdout",
     "output_type": "stream",
     "text": [
      "This image most likely belongs to C Not Ripe with a 35.21 percent confidence.\n"
     ]
    }
   ],
   "source": [
    "#17\n",
    "\n",
    "rootdir = \"C:/Users/User/Desktop/Category/test/C Not Ripe/CNR64_0.png\"\n",
    "img = tf.keras.utils.load_img(\n",
    "    rootdir, target_size=(160, 160)\n",
    ")\n",
    "\n",
    "img_array = tf.keras.utils.img_to_array(img)\n",
    "img_array = tf.expand_dims(img_array, axis=0) # Create a batch\n",
    "\n",
    "predictions = model.predict(img_array)\n",
    "score = tf.nn.softmax(predictions[0])\n",
    "\n",
    "print(\n",
    "    \"This image most likely belongs to {} with a {:.2f} percent confidence.\"\n",
    "    .format(class_names[np.argmax(score)], 100 * np.max(score))\n",
    ")"
   ]
  },
  {
   "cell_type": "code",
   "execution_count": 127,
   "metadata": {},
   "outputs": [
    {
     "name": "stdout",
     "output_type": "stream",
     "text": [
      "This image most likely belongs to C Ripe with a 34.96 percent confidence.\n"
     ]
    }
   ],
   "source": [
    "#18\n",
    "\n",
    "rootdir = \"C:/Users/User/Desktop/Category/test/C Not Ripe/CNR6_0.png\"\n",
    "img = tf.keras.utils.load_img(\n",
    "    rootdir, target_size=(160, 160)\n",
    ")\n",
    "\n",
    "img_array = tf.keras.utils.img_to_array(img)\n",
    "img_array = tf.expand_dims(img_array, axis=0) # Create a batch\n",
    "\n",
    "predictions = model.predict(img_array)\n",
    "score = tf.nn.softmax(predictions[0])\n",
    "\n",
    "print(\n",
    "    \"This image most likely belongs to {} with a {:.2f} percent confidence.\"\n",
    "    .format(class_names[np.argmax(score)], 100 * np.max(score))\n",
    ")"
   ]
  },
  {
   "cell_type": "code",
   "execution_count": 128,
   "metadata": {},
   "outputs": [
    {
     "name": "stdout",
     "output_type": "stream",
     "text": [
      "This image most likely belongs to C Ripe with a 31.81 percent confidence.\n"
     ]
    }
   ],
   "source": [
    "#19\n",
    "\n",
    "rootdir = \"C:/Users/User/Desktop/Category/test/C Not Ripe/CNR9_0.png\"\n",
    "img = tf.keras.utils.load_img(\n",
    "    rootdir, target_size=(160, 160)\n",
    ")\n",
    "\n",
    "img_array = tf.keras.utils.img_to_array(img)\n",
    "img_array = tf.expand_dims(img_array, axis=0) # Create a batch\n",
    "\n",
    "predictions = model.predict(img_array)\n",
    "score = tf.nn.softmax(predictions[0])\n",
    "\n",
    "print(\n",
    "    \"This image most likely belongs to {} with a {:.2f} percent confidence.\"\n",
    "    .format(class_names[np.argmax(score)], 100 * np.max(score))\n",
    ")"
   ]
  },
  {
   "cell_type": "code",
   "execution_count": 129,
   "metadata": {},
   "outputs": [
    {
     "data": {
      "image/png": "[encoded data removed]",
      "text/plain": [
       "<Figure size 576x576 with 2 Axes>"
      ]
     },
     "metadata": {
      "needs_background": "light"
     },
     "output_type": "display_data"
    }
   ],
   "source": [
    "acc = history.history['accuracy']\n",
    "val_acc = history.history['val_accuracy']\n",
    "\n",
    "loss = history.history['loss']\n",
    "val_loss = history.history['val_loss']\n",
    "\n",
    "epochs_range = range(epochs)\n",
    "\n",
    "plt.figure(figsize=(8, 8))\n",
    "plt.subplot(1, 2, 1)\n",
    "plt.plot(epochs_range, acc, label='Training')\n",
    "plt.plot(epochs_range, val_acc, label='Test')\n",
    "plt.legend(loc='lower right')\n",
    "plt.title('Accuracy')\n",
    "\n",
    "plt.subplot(1, 2, 2)\n",
    "plt.plot(epochs_range, loss, label='Training')\n",
    "plt.plot(epochs_range, val_loss, label='Test')\n",
    "plt.legend(loc='upper right')\n",
    "plt.title('Loss')\n",
    "plt.show()"
   ]
  },
  {
   "cell_type": "code",
   "execution_count": null,
   "metadata": {},
   "outputs": [],
   "source": []
  }
 ],
 "metadata": {
  "kernelspec": {
   "display_name": "Python 3",
   "language": "python",
   "name": "python3"
  },
  "language_info": {
   "codemirror_mode": {
    "name": "ipython",
    "version": 3
   },
   "file_extension": ".py",
   "mimetype": "text/x-python",
   "name": "python",
   "nbconvert_exporter": "python",
   "pygments_lexer": "ipython3",
   "version": "3.8.5"
  }
 },
 "nbformat": 4,
 "nbformat_minor": 4
}
